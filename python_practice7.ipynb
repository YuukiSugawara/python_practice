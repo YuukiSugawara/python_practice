{
 "cells": [
  {
   "cell_type": "code",
   "execution_count": null,
   "id": "ec18651e-c2e0-40b9-963b-4fa3b8ce373b",
   "metadata": {},
   "outputs": [],
   "source": [
    "#1～5までのリストを作成し、4と5だけに2を乗算して表示させる。"
   ]
  },
  {
   "cell_type": "code",
   "execution_count": 2,
   "id": "65f6844d-f908-47ef-b2b9-9894d3bac57f",
   "metadata": {},
   "outputs": [
    {
     "name": "stdout",
     "output_type": "stream",
     "text": [
      "[8, 10]\n"
     ]
    }
   ],
   "source": [
    "result = [i * 2 for i in range(1, 6) if i > 3]\n",
    "print(result)"
   ]
  },
  {
   "cell_type": "code",
   "execution_count": 3,
   "id": "56b25c4f-4da5-4422-9974-8b903408d6fa",
   "metadata": {},
   "outputs": [
    {
     "name": "stdout",
     "output_type": "stream",
     "text": [
      "[8, 10]\n"
     ]
    }
   ],
   "source": [
    "my_list = [1, 2, 3, 4, 5]\n",
    "\n",
    "result = [i * 2 for i in my_list if i > 3]\n",
    "print(result)"
   ]
  },
  {
   "cell_type": "code",
   "execution_count": null,
   "id": "615832f2-c320-4c7f-b5fa-b3b3dce3a6f1",
   "metadata": {},
   "outputs": [],
   "source": [
    "#1～5までの値にそれぞれ2を加算して奇数のみ表示させる。"
   ]
  },
  {
   "cell_type": "code",
   "execution_count": 4,
   "id": "ada84b05-9cb9-4b64-9598-e0416a2243e0",
   "metadata": {},
   "outputs": [
    {
     "name": "stdout",
     "output_type": "stream",
     "text": [
      "[3, 5, 7]\n"
     ]
    }
   ],
   "source": [
    "result = [i + 2 for i in range(1, 6) if i % 2 != 0]\n",
    "print(result)"
   ]
  },
  {
   "cell_type": "code",
   "execution_count": 6,
   "id": "26bc8604-f297-4ba2-97dc-e879ffbf023e",
   "metadata": {},
   "outputs": [
    {
     "name": "stdout",
     "output_type": "stream",
     "text": [
      "['odd', 'even', 'odd', 'even', 'odd', 'even', 'odd', 'even', 'odd']\n"
     ]
    }
   ],
   "source": [
    "result = []\n",
    "\n",
    "for i in range(1, 10):\n",
    "    if i % 2 != 0:\n",
    "        result.append(\"odd\")\n",
    "    else:\n",
    "        result.append(\"even\")\n",
    "        \n",
    "print(result)"
   ]
  },
  {
   "cell_type": "code",
   "execution_count": 7,
   "id": "3422cfcf-88d5-4233-ba62-02c465850822",
   "metadata": {},
   "outputs": [
    {
     "name": "stdout",
     "output_type": "stream",
     "text": [
      "[0, -40, 18, 14]\n"
     ]
    }
   ],
   "source": [
    "x = [0, -20, 9, 7]\n",
    "\n",
    "def twice(num):\n",
    "    return num * 2\n",
    "\n",
    "result = list(map(twice, x))\n",
    "print(result)"
   ]
  },
  {
   "cell_type": "code",
   "execution_count": 10,
   "id": "0cb4a9b6-c6a2-4577-b5ac-f00bba3e1499",
   "metadata": {},
   "outputs": [
    {
     "name": "stdout",
     "output_type": "stream",
     "text": [
      "[0, 20, 9.1, 7]\n"
     ]
    }
   ],
   "source": [
    "x = [0, -20, 9.1, 7]\n",
    "\n",
    "result = list(map(abs, x))\n",
    "print(result)"
   ]
  },
  {
   "cell_type": "code",
   "execution_count": 12,
   "id": "4e73d7d8-efc3-4475-a179-52ea726a3cb3",
   "metadata": {},
   "outputs": [
    {
     "name": "stdout",
     "output_type": "stream",
     "text": [
      "6\n"
     ]
    }
   ],
   "source": [
    "def my_sun(*args):\n",
    "    return sum(args)\n",
    "\n",
    "print(my_sun(1, 2, 3))"
   ]
  },
  {
   "cell_type": "code",
   "execution_count": 13,
   "id": "9b497761-781b-4b76-add2-3612c1157c88",
   "metadata": {},
   "outputs": [
    {
     "name": "stdout",
     "output_type": "stream",
     "text": [
      "args: (1, 2, 3)\n",
      "type: <class 'tuple'>\n",
      "sum: 6\n"
     ]
    }
   ],
   "source": [
    "def my_sum(*args):\n",
    "    print(\"args:\", args)\n",
    "    print(\"type:\", type(args))\n",
    "    print(\"sum:\", sum(args))\n",
    "    \n",
    "my_sum(1, 2, 3)"
   ]
  },
  {
   "cell_type": "code",
   "execution_count": 16,
   "id": "feb6c06c-5c24-45fc-a247-2fb3c5a72c1f",
   "metadata": {},
   "outputs": [
    {
     "name": "stdout",
     "output_type": "stream",
     "text": [
      "arg1: 1\n",
      "arg2: 2\n",
      "args: (3, 4)\n",
      "arg1: 0\n",
      "arg2: 1\n",
      "args: ()\n"
     ]
    }
   ],
   "source": [
    "def func_args(arg1, arg2, *args):\n",
    "    print(\"arg1:\", arg1)\n",
    "    print(\"arg2:\", arg2)\n",
    "    print(\"args:\", args)\n",
    "    \n",
    "func_args(1, 2, 3, 4)\n",
    "func_args(0, 1)"
   ]
  },
  {
   "cell_type": "code",
   "execution_count": 17,
   "id": "d7621d21-6eaa-4e89-9733-4c9597718825",
   "metadata": {},
   "outputs": [
    {
     "name": "stdout",
     "output_type": "stream",
     "text": [
      "kwargs: {'k1': 1, 'k2': 2, 'k3': 3}\n",
      "type: <class 'dict'>\n"
     ]
    }
   ],
   "source": [
    "def func_kwargs(**kwargs):\n",
    "    print(\"kwargs:\", kwargs)\n",
    "    print(\"type:\", type(kwargs))\n",
    "    \n",
    "func_kwargs(k1 = 1, k2 = 2, k3 = 3)"
   ]
  },
  {
   "cell_type": "code",
   "execution_count": 18,
   "id": "e1e48f06-879b-4f90-a5c8-9ff07e22ce34",
   "metadata": {},
   "outputs": [
    {
     "name": "stdout",
     "output_type": "stream",
     "text": [
      "arg1: 1\n",
      "arg2: 2\n",
      "kwargs: {'k1': 1, 'k2': 2}\n"
     ]
    }
   ],
   "source": [
    "def func_kwargs(arg1, arg2, **kwargs):\n",
    "    print(\"arg1:\", arg1)\n",
    "    print(\"arg2:\", arg2)\n",
    "    print(\"kwargs:\", kwargs)\n",
    "    \n",
    "func_kwargs(1, 2, k1 = 1, k2 = 2)"
   ]
  },
  {
   "cell_type": "code",
   "execution_count": 20,
   "id": "ae8d9491-59d7-49ed-900f-7819f51f8826",
   "metadata": {},
   "outputs": [
    {
     "name": "stdout",
     "output_type": "stream",
     "text": [
      "even\n"
     ]
    }
   ],
   "source": [
    "a = 2\n",
    "result = \"even\" if a % 2 == 0 else \"odd\"\n",
    "print(result)"
   ]
  },
  {
   "cell_type": "code",
   "execution_count": 22,
   "id": "c6f74eb0-e72c-414f-a2c0-2bd22b8351b9",
   "metadata": {},
   "outputs": [
    {
     "name": "stdout",
     "output_type": "stream",
     "text": [
      "even\n"
     ]
    }
   ],
   "source": [
    "a = 2\n",
    "result = \"even\" if a % 2 == 0 else \"odd\"\n",
    "print(result)"
   ]
  },
  {
   "cell_type": "code",
   "execution_count": 24,
   "id": "7e367b48-2c87-4539-afe6-f3ebfac64481",
   "metadata": {},
   "outputs": [
    {
     "name": "stdout",
     "output_type": "stream",
     "text": [
      "20\n"
     ]
    }
   ],
   "source": [
    "a = 2\n",
    "result = a * 10 if a % 2 == 0 else a * 100\n",
    "print(result)"
   ]
  },
  {
   "cell_type": "code",
   "execution_count": 25,
   "id": "0d58952a-2699-44a4-81e2-e1b63b9abdd5",
   "metadata": {},
   "outputs": [
    {
     "name": "stdout",
     "output_type": "stream",
     "text": [
      "even\n"
     ]
    }
   ],
   "source": [
    "a = -2\n",
    "result = \"even\" if a < 0 and a % 2 == 0 else \"odd\"\n",
    "print(result)"
   ]
  },
  {
   "cell_type": "code",
   "execution_count": 28,
   "id": "2b591095-aa39-4428-9633-a422b7093666",
   "metadata": {},
   "outputs": [
    {
     "data": {
      "text/plain": [
       "'even'"
      ]
     },
     "execution_count": 28,
     "metadata": {},
     "output_type": "execute_result"
    }
   ],
   "source": [
    "get_odd_even = lambda x: \"even\" if x % 2 == 0 else \"odd\"\n",
    "get_odd_even(2)"
   ]
  },
  {
   "cell_type": "code",
   "execution_count": 35,
   "id": "00301c21-b83e-47d1-bb2e-818604f40805",
   "metadata": {},
   "outputs": [
    {
     "name": "stdout",
     "output_type": "stream",
     "text": [
      "1, 2, 3\n"
     ]
    }
   ],
   "source": [
    "def func(a, b, x):\n",
    "    print(f\"{a}, {b}, {x}\")\n",
    "    \n",
    "my_list = {\"a\":1, \"b\":2, \"x\":3}\n",
    "func(**my_list)"
   ]
  },
  {
   "cell_type": "code",
   "execution_count": 36,
   "id": "15b975fb-aa53-456d-b2fd-437d6d0788e9",
   "metadata": {},
   "outputs": [
    {
     "name": "stdout",
     "output_type": "stream",
     "text": [
      "7\n"
     ]
    }
   ],
   "source": [
    "def func(a, b):\n",
    "    return print(a + b)\n",
    "\n",
    "func(3, 4)"
   ]
  },
  {
   "cell_type": "code",
   "execution_count": 37,
   "id": "a47301f1-4b19-48cc-a90c-4da72d20b7cb",
   "metadata": {},
   "outputs": [
    {
     "name": "stdout",
     "output_type": "stream",
     "text": [
      "<class 'float'>\n"
     ]
    }
   ],
   "source": [
    "def func(x, y):\n",
    "    return x + y\n",
    "\n",
    "a = func(0.3, 0.4)\n",
    "print(type(a))"
   ]
  },
  {
   "cell_type": "code",
   "execution_count": 38,
   "id": "788ad8fa-52de-479a-a614-8a7f9cb7c0c4",
   "metadata": {},
   "outputs": [
    {
     "name": "stdout",
     "output_type": "stream",
     "text": [
      "0 1 2\n"
     ]
    }
   ],
   "source": [
    "t = [0, 1, 2]\n",
    "\n",
    "a, b, c = t\n",
    "print(a, b, c)"
   ]
  },
  {
   "cell_type": "code",
   "execution_count": 39,
   "id": "47afd76b-d64d-4ee7-a7e1-7ce5cb2a2380",
   "metadata": {},
   "outputs": [
    {
     "name": "stdout",
     "output_type": "stream",
     "text": [
      "0 1 [2, 3, 4, 5]\n"
     ]
    }
   ],
   "source": [
    "t = [0, 1, 2, 3, 4, 5]\n",
    "\n",
    "a, b, *c = t\n",
    "print(a, b, c)"
   ]
  },
  {
   "cell_type": "code",
   "execution_count": 40,
   "id": "b36a25b9-ac2d-4cd6-97af-7976cbc20365",
   "metadata": {},
   "outputs": [
    {
     "name": "stdout",
     "output_type": "stream",
     "text": [
      "[10, 20]\n"
     ]
    }
   ],
   "source": [
    "def test_list(x, y):\n",
    "    return [x, y]\n",
    "\n",
    "result = test_list(10, 20)\n",
    "print(result)"
   ]
  },
  {
   "cell_type": "code",
   "execution_count": 42,
   "id": "4364caf7-a258-409d-96c8-4f450df1ed66",
   "metadata": {},
   "outputs": [
    {
     "name": "stdout",
     "output_type": "stream",
     "text": [
      "[-2, 0, 2]\n"
     ]
    }
   ],
   "source": [
    "l = [-2, -1, 0, 1, 2]\n",
    "\n",
    "r = list(filter(lambda x: x % 2 == 0, l))\n",
    "print(r)"
   ]
  },
  {
   "cell_type": "code",
   "execution_count": 43,
   "id": "644f2afb-08ca-4d7d-a4e8-08e7c7e0dfc6",
   "metadata": {},
   "outputs": [
    {
     "name": "stdout",
     "output_type": "stream",
     "text": [
      "[-1, 1]\n"
     ]
    }
   ],
   "source": [
    "l = [-2, -1, 0, 1, 2]\n",
    "\n",
    "print(list(filter(lambda x: x % 2 != 0, l)))"
   ]
  },
  {
   "cell_type": "code",
   "execution_count": 44,
   "id": "b5d0dbca-80db-4434-8cae-d81b26e9bd72",
   "metadata": {},
   "outputs": [
    {
     "name": "stdout",
     "output_type": "stream",
     "text": [
      "[-2, 0, 2]\n"
     ]
    }
   ],
   "source": [
    "def isEven(x):\n",
    "    return x % 2 == 0\n",
    "\n",
    "l = [-2, -1, 0, 1, 2]\n",
    "\n",
    "print(list(filter(isEven, l)))"
   ]
  },
  {
   "cell_type": "code",
   "execution_count": 83,
   "id": "766513a5-e6ca-425a-8d1d-5501715ef6b2",
   "metadata": {},
   "outputs": [],
   "source": [
    "class Person:\n",
    "    #初期設定\n",
    "    def __init__(self, name, nationality, age):\n",
    "        self.name = name\n",
    "        self.nationality = nationality\n",
    "        self.age = age\n",
    "        \n",
    "        def __call__(self):\n",
    "            print(\"ここはcall関数です。\")\n",
    "            \n",
    "        def say_hello(self):\n",
    "            print(\"こんにちは。私は{self.name}です。\")"
   ]
  },
  {
   "cell_type": "code",
   "execution_count": 84,
   "id": "878318b1-20a5-43df-9173-850e318f3e8f",
   "metadata": {},
   "outputs": [],
   "source": [
    "class Saiyan(Person):\n",
    "    def __init__(self, name, nationality, age, strength):\n",
    "        super().__init__(name, nationality, age)\n",
    "        self.strength = strength"
   ]
  },
  {
   "cell_type": "code",
   "execution_count": 85,
   "id": "035328f4-fd6c-4177-bfca-1ede56633742",
   "metadata": {},
   "outputs": [],
   "source": [
    "goku = Saiyan(\"悟空\", \"宇宙\", 15, 10000)"
   ]
  },
  {
   "cell_type": "code",
   "execution_count": 82,
   "id": "14a7b6d7-1812-4c18-b85c-dfa5f682519d",
   "metadata": {},
   "outputs": [
    {
     "data": {
      "text/plain": [
       "'悟空'"
      ]
     },
     "execution_count": 82,
     "metadata": {},
     "output_type": "execute_result"
    }
   ],
   "source": [
    "goku.name"
   ]
  },
  {
   "cell_type": "code",
   "execution_count": 81,
   "id": "dd6fb2a1-3967-45f7-a32c-3a2e15ad0e23",
   "metadata": {},
   "outputs": [
    {
     "data": {
      "text/plain": [
       "10000"
      ]
     },
     "execution_count": 81,
     "metadata": {},
     "output_type": "execute_result"
    }
   ],
   "source": [
    "goku.strength"
   ]
  },
  {
   "cell_type": "code",
   "execution_count": 80,
   "id": "9f1a2d72-afdf-4fe6-b281-7a420c329810",
   "metadata": {},
   "outputs": [
    {
     "data": {
      "text/plain": [
       "15"
      ]
     },
     "execution_count": 80,
     "metadata": {},
     "output_type": "execute_result"
    }
   ],
   "source": [
    "goku.age"
   ]
  },
  {
   "cell_type": "code",
   "execution_count": 89,
   "id": "20f06d6b-aee3-4ee8-bb58-398bdc17be36",
   "metadata": {},
   "outputs": [
    {
     "ename": "AttributeError",
     "evalue": "'Saiyan' object has no attribute 'say_hello'",
     "output_type": "error",
     "traceback": [
      "\u001b[1;31m---------------------------------------------------------------------------\u001b[0m",
      "\u001b[1;31mAttributeError\u001b[0m                            Traceback (most recent call last)",
      "Cell \u001b[1;32mIn[89], line 1\u001b[0m\n\u001b[1;32m----> 1\u001b[0m \u001b[43mgoku\u001b[49m\u001b[38;5;241;43m.\u001b[39;49m\u001b[43msay_hello\u001b[49m\n",
      "\u001b[1;31mAttributeError\u001b[0m: 'Saiyan' object has no attribute 'say_hello'"
     ]
    }
   ],
   "source": [
    "goku.say_hello"
   ]
  }
 ],
 "metadata": {
  "kernelspec": {
   "display_name": "Python 3 (ipykernel)",
   "language": "python",
   "name": "python3"
  },
  "language_info": {
   "codemirror_mode": {
    "name": "ipython",
    "version": 3
   },
   "file_extension": ".py",
   "mimetype": "text/x-python",
   "name": "python",
   "nbconvert_exporter": "python",
   "pygments_lexer": "ipython3",
   "version": "3.10.9"
  }
 },
 "nbformat": 4,
 "nbformat_minor": 5
}
