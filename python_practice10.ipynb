{
 "cells": [
  {
   "cell_type": "code",
   "execution_count": 1,
   "id": "3ad46a7b-d7fb-452e-a9d6-8246eeb55fa9",
   "metadata": {},
   "outputs": [
    {
     "data": {
      "text/plain": [
       "15"
      ]
     },
     "execution_count": 1,
     "metadata": {},
     "output_type": "execute_result"
    }
   ],
   "source": [
    "def add():\n",
    "    return 5 + 10\n",
    "\n",
    "add()"
   ]
  },
  {
   "cell_type": "code",
   "execution_count": 4,
   "id": "7322c63e-0afb-44f5-a5df-e065f2c833a7",
   "metadata": {},
   "outputs": [
    {
     "name": "stdout",
     "output_type": "stream",
     "text": [
      "30\n"
     ]
    }
   ],
   "source": [
    "def add(num_1, num_2):\n",
    "    print(num_1 + num_2)\n",
    "\n",
    "add(10, 20)"
   ]
  },
  {
   "cell_type": "code",
   "execution_count": 5,
   "id": "9345134f-302f-4907-97dd-0d66ddf76522",
   "metadata": {},
   "outputs": [
    {
     "name": "stdout",
     "output_type": "stream",
     "text": [
      "太郎さんこんにちは\n"
     ]
    }
   ],
   "source": [
    "def show(name):\n",
    "    return name + \"さんこんにちは\"\n",
    "\n",
    "text = show(\"太郎\")\n",
    "print(text)"
   ]
  },
  {
   "cell_type": "code",
   "execution_count": 10,
   "id": "d44ba97b-321e-4e4b-9067-77606d983366",
   "metadata": {},
   "outputs": [
    {
     "data": {
      "text/plain": [
       "3"
      ]
     },
     "execution_count": 10,
     "metadata": {},
     "output_type": "execute_result"
    }
   ],
   "source": [
    "def fnc_01():\n",
    "    a = 1\n",
    "    return a\n",
    "\n",
    "type(fnc_01())\n",
    "\n",
    "type(fnc_01() + 2)\n",
    "fnc_01() + 2"
   ]
  },
  {
   "cell_type": "code",
   "execution_count": 12,
   "id": "f38d7dcc-c510-4533-bbb8-9c200c084250",
   "metadata": {},
   "outputs": [
    {
     "name": "stdout",
     "output_type": "stream",
     "text": [
      "1\n",
      "1\n"
     ]
    },
    {
     "ename": "TypeError",
     "evalue": "unsupported operand type(s) for +: 'NoneType' and 'int'",
     "output_type": "error",
     "traceback": [
      "\u001b[1;31m---------------------------------------------------------------------------\u001b[0m",
      "\u001b[1;31mTypeError\u001b[0m                                 Traceback (most recent call last)",
      "Cell \u001b[1;32mIn[12], line 6\u001b[0m\n\u001b[0;32m      3\u001b[0m     \u001b[38;5;28mprint\u001b[39m(b)\n\u001b[0;32m      5\u001b[0m \u001b[38;5;28mtype\u001b[39m(fnc_02())\n\u001b[1;32m----> 6\u001b[0m \u001b[43mfnc_02\u001b[49m\u001b[43m(\u001b[49m\u001b[43m)\u001b[49m\u001b[43m \u001b[49m\u001b[38;5;241;43m+\u001b[39;49m\u001b[43m \u001b[49m\u001b[38;5;241;43m2\u001b[39;49m\n",
      "\u001b[1;31mTypeError\u001b[0m: unsupported operand type(s) for +: 'NoneType' and 'int'"
     ]
    }
   ],
   "source": [
    "def fnc_02():\n",
    "    b = 1\n",
    "    print(b)\n",
    "    \n",
    "type(fnc_02())\n",
    "fnc_02() + 2"
   ]
  },
  {
   "cell_type": "code",
   "execution_count": 16,
   "id": "9913a397-3a7c-4a58-bde1-6d7c3942cfcd",
   "metadata": {},
   "outputs": [
    {
     "name": "stdout",
     "output_type": "stream",
     "text": [
      "Helloworld\n"
     ]
    }
   ],
   "source": [
    "def hello():\n",
    "    return (\"Hello\")\n",
    "\n",
    "def world():\n",
    "    a = hello()\n",
    "    return a + \"world\"\n",
    "\n",
    "print(world())"
   ]
  },
  {
   "cell_type": "code",
   "execution_count": 19,
   "id": "28bc6b51-c1d5-4320-96ab-4d13a6990bcc",
   "metadata": {},
   "outputs": [
    {
     "name": "stdout",
     "output_type": "stream",
     "text": [
      "2\n"
     ]
    }
   ],
   "source": [
    "def samurai(a, b):\n",
    "    c = a * b\n",
    "    return c\n",
    "    \n",
    "print(samurai(1, 2))"
   ]
  },
  {
   "cell_type": "code",
   "execution_count": 21,
   "id": "cfd69a0d-47bd-4369-95bc-6059912b2e5a",
   "metadata": {},
   "outputs": [
    {
     "name": "stdout",
     "output_type": "stream",
     "text": [
      "False\n",
      "True\n"
     ]
    }
   ],
   "source": [
    "def score(a):\n",
    "    if a > 60:\n",
    "        return True\n",
    "    return False\n",
    "\n",
    "print(score(50))\n",
    "print(score(70))"
   ]
  },
  {
   "cell_type": "code",
   "execution_count": 22,
   "id": "19fff4cf-53a4-44c5-88fe-e8af424e5a32",
   "metadata": {},
   "outputs": [
    {
     "name": "stdout",
     "output_type": "stream",
     "text": [
      "値のみの引数\n",
      "110\n",
      "キーワード引数\n",
      "110\n"
     ]
    }
   ],
   "source": [
    "def func(a, b):\n",
    "    print(a + b)\n",
    "    \n",
    "print(\"値のみの引数\")\n",
    "func(10, 100)\n",
    "\n",
    "print(\"キーワード引数\")\n",
    "func(a = 10, b = 100)"
   ]
  },
  {
   "cell_type": "code",
   "execution_count": 26,
   "id": "82a50d61-3aaa-4eb0-881c-2e03420b5432",
   "metadata": {},
   "outputs": [
    {
     "name": "stdout",
     "output_type": "stream",
     "text": [
      "合計金額(税込み) : 11000円\n"
     ]
    }
   ],
   "source": [
    "def func(price, num, tax = 1.1):\n",
    "    total = int((price * num) * tax)\n",
    "    print(f\"合計金額(税込み) : {total}円\")\n",
    "    \n",
    "func(1000, 10)"
   ]
  },
  {
   "cell_type": "code",
   "execution_count": 27,
   "id": "4030ae0b-ba80-4db5-9989-b783edb7c79c",
   "metadata": {},
   "outputs": [
    {
     "name": "stdout",
     "output_type": "stream",
     "text": [
      "3\n"
     ]
    }
   ],
   "source": [
    "def add(a, b):\n",
    "    print(a + b)\n",
    "    \n",
    "val = add(1, 2)\n",
    "print(val)"
   ]
  },
  {
   "cell_type": "code",
   "execution_count": 31,
   "id": "1c6de275-49c8-48b7-b34a-cc2cefe16433",
   "metadata": {},
   "outputs": [
    {
     "name": "stdout",
     "output_type": "stream",
     "text": [
      "3\n"
     ]
    }
   ],
   "source": [
    "def add2(a, b):\n",
    "    return a + b\n",
    "\n",
    "print(add2(1, 2))"
   ]
  },
  {
   "cell_type": "code",
   "execution_count": 34,
   "id": "885a0c39-25b5-461f-b57e-cade5f616da3",
   "metadata": {},
   "outputs": [
    {
     "name": "stdout",
     "output_type": "stream",
     "text": [
      "4\n",
      "None\n"
     ]
    }
   ],
   "source": [
    "def a(a, b):\n",
    "    print(a + b)\n",
    "\n",
    "def b(a, b):\n",
    "    print(a * b)\n",
    "\n",
    "x = a(2, 2)\n",
    "print(x)"
   ]
  },
  {
   "cell_type": "code",
   "execution_count": 37,
   "id": "3f4dc169-53db-4d44-889f-f57e96e91183",
   "metadata": {},
   "outputs": [
    {
     "name": "stdout",
     "output_type": "stream",
     "text": [
      "100\n",
      "10\n"
     ]
    }
   ],
   "source": [
    "def power(x):\n",
    "    return x * x\n",
    "\n",
    "def abso(x):\n",
    "    if x < 0:\n",
    "        return -x\n",
    "    else:\n",
    "        return x\n",
    "    \n",
    "print(power(10))\n",
    "print(abso(10))"
   ]
  },
  {
   "cell_type": "code",
   "execution_count": 38,
   "id": "b164c086-f05d-480c-8efb-d67c05fea377",
   "metadata": {},
   "outputs": [
    {
     "name": "stdout",
     "output_type": "stream",
     "text": [
      "['aaa.xlsx', 'ccc.xlsx']\n"
     ]
    }
   ],
   "source": [
    "def file_func(file_name):\n",
    "    if \"xlsx\" in file_name:\n",
    "        return True\n",
    "    else:\n",
    "        return False\n",
    "    \n",
    "file_list = [\"aaa.xlsx\", \"bbb.csv\", \"ccc.xlsx\"]\n",
    "new_list =[]\n",
    "\n",
    "for i in file_list:\n",
    "    if file_func(i):\n",
    "        new_list.append(i)\n",
    "        \n",
    "print(new_list)"
   ]
  },
  {
   "cell_type": "code",
   "execution_count": 39,
   "id": "6154ca49-33e0-4770-bbdf-a3c9add8bcda",
   "metadata": {},
   "outputs": [
    {
     "name": "stdout",
     "output_type": "stream",
     "text": [
      "pythonpythonpythonpythonpython\n"
     ]
    }
   ],
   "source": [
    "def gen_text(a, b):\n",
    "    return a * b\n",
    "\n",
    "text = gen_text(\"python\", 5)\n",
    "print(text)"
   ]
  }
 ],
 "metadata": {
  "kernelspec": {
   "display_name": "Python 3 (ipykernel)",
   "language": "python",
   "name": "python3"
  },
  "language_info": {
   "codemirror_mode": {
    "name": "ipython",
    "version": 3
   },
   "file_extension": ".py",
   "mimetype": "text/x-python",
   "name": "python",
   "nbconvert_exporter": "python",
   "pygments_lexer": "ipython3",
   "version": "3.10.9"
  }
 },
 "nbformat": 4,
 "nbformat_minor": 5
}
