{
 "cells": [
  {
   "cell_type": "code",
   "execution_count": 16,
   "id": "e24b729b-7ab9-4996-b844-b0a2c5a762ec",
   "metadata": {},
   "outputs": [
    {
     "ename": "TypeError",
     "evalue": "'NoneType' object is not callable",
     "output_type": "error",
     "traceback": [
      "\u001b[1;31m---------------------------------------------------------------------------\u001b[0m",
      "\u001b[1;31mTypeError\u001b[0m                                 Traceback (most recent call last)",
      "Cell \u001b[1;32mIn[17], line 17\u001b[0m\n\u001b[0;32m     14\u001b[0m     \u001b[38;5;28mprint\u001b[39m(\u001b[38;5;124m\"\u001b[39m\u001b[38;5;124mmy_func実行中\u001b[39m\u001b[38;5;124m\"\u001b[39m)\n\u001b[0;32m     15\u001b[0m     \u001b[38;5;28;01mreturn\u001b[39;00m ret\n\u001b[1;32m---> 17\u001b[0m x \u001b[38;5;241m=\u001b[39m \u001b[43mmy_func\u001b[49m\u001b[43m(\u001b[49m\u001b[38;5;241;43m1\u001b[39;49m\u001b[43m,\u001b[49m\u001b[43m \u001b[49m\u001b[38;5;241;43m3\u001b[39;49m\u001b[43m)\u001b[49m\n\u001b[0;32m     18\u001b[0m \u001b[38;5;28mprint\u001b[39m(x)\n",
      "\u001b[1;31mTypeError\u001b[0m: 'NoneType' object is not callable"
     ]
    }
   ],
   "source": [
    "def deco_func(f):\n",
    "    def new_func(*args, **kwargs):\n",
    "        print(\"--start--\")\n",
    "        val = f(*args, **kwargs)\n",
    "        print(\"--end--\")\n",
    "        return val\n",
    "    return new_func\n",
    "\n",
    "@deco_func\n",
    "def my_func(n, m):\n",
    "    #nからmまでの合計を返す変数\n",
    "    ret = 0\n",
    "    for i in range(n, m + 1):\n",
    "        ret += i\n",
    "    print(\"my_func実行中\")\n",
    "    return ret\n",
    "\n",
    "x = my_func(1, 3)\n",
    "print(x)"
   ]
  },
  {
   "cell_type": "code",
   "execution_count": 40,
   "id": "7a8a5028-179b-4499-8f3c-b135130b56cb",
   "metadata": {},
   "outputs": [
    {
     "name": "stdout",
     "output_type": "stream",
     "text": [
      "デコレータ開始\n"
     ]
    },
    {
     "ename": "TypeError",
     "evalue": "unsupported operand type(s) for ** or pow(): 'tuple' and 'dict'",
     "output_type": "error",
     "traceback": [
      "\u001b[1;31m---------------------------------------------------------------------------\u001b[0m",
      "\u001b[1;31mTypeError\u001b[0m                                 Traceback (most recent call last)",
      "Cell \u001b[1;32mIn[40], line 14\u001b[0m\n\u001b[0;32m     11\u001b[0m     \u001b[38;5;28mprint\u001b[39m(\u001b[38;5;241m*\u001b[39margs)\n\u001b[0;32m     12\u001b[0m     \u001b[38;5;28mprint\u001b[39m(\u001b[38;5;241m*\u001b[39m\u001b[38;5;241m*\u001b[39mkwargs)\n\u001b[1;32m---> 14\u001b[0m \u001b[43mfunc\u001b[49m\u001b[43m(\u001b[49m\u001b[38;5;241;43m1\u001b[39;49m\u001b[43m,\u001b[49m\u001b[43m \u001b[49m\u001b[38;5;241;43m3\u001b[39;49m\u001b[43m)\u001b[49m\n",
      "Cell \u001b[1;32mIn[40], line 4\u001b[0m, in \u001b[0;36mdeco.<locals>.wrapper\u001b[1;34m(*args, **kwargs)\u001b[0m\n\u001b[0;32m      2\u001b[0m \u001b[38;5;28;01mdef\u001b[39;00m \u001b[38;5;21mwrapper\u001b[39m(\u001b[38;5;241m*\u001b[39margs, \u001b[38;5;241m*\u001b[39m\u001b[38;5;241m*\u001b[39mkwargs):\n\u001b[0;32m      3\u001b[0m     \u001b[38;5;28mprint\u001b[39m(\u001b[38;5;124m\"\u001b[39m\u001b[38;5;124mデコレータ開始\u001b[39m\u001b[38;5;124m\"\u001b[39m)\n\u001b[1;32m----> 4\u001b[0m     f(\u001b[38;5;241m*\u001b[39m\u001b[43margs\u001b[49m\u001b[43m \u001b[49m\u001b[38;5;241;43m*\u001b[39;49m\u001b[38;5;241;43m*\u001b[39;49m\u001b[43mkwargs\u001b[49m)\n\u001b[0;32m      5\u001b[0m     \u001b[38;5;28mprint\u001b[39m(\u001b[38;5;124m\"\u001b[39m\u001b[38;5;124mデコレータ終了\u001b[39m\u001b[38;5;124m\"\u001b[39m)\n",
      "\u001b[1;31mTypeError\u001b[0m: unsupported operand type(s) for ** or pow(): 'tuple' and 'dict'"
     ]
    }
   ],
   "source": [
    "def deco(f):\n",
    "    def wrapper(*args, **kwargs):\n",
    "        print(\"デコレータ開始\")\n",
    "        f(*args **kwargs)\n",
    "        print(\"デコレータ終了\")\n",
    "    return wrapper\n",
    "\n",
    "@deco\n",
    "def func(*args, **kwargs):\n",
    "    print(\"func関数実行\")\n",
    "    print(*args)\n",
    "    print(**kwargs)\n",
    "    \n",
    "func(1, 3)"
   ]
  },
  {
   "cell_type": "code",
   "execution_count": 41,
   "id": "24ab428f-d16a-4001-b0a9-dd72e79553cc",
   "metadata": {},
   "outputs": [
    {
     "name": "stdout",
     "output_type": "stream",
     "text": [
      "test関数\n",
      "1 2 3 {'one': 1, 'two': 2}\n",
      "\n"
     ]
    }
   ],
   "source": [
    "def deco(func):\n",
    "    def wrapper(*args, **kwargs):\n",
    "        func(*args, kwargs)\n",
    "    return wrapper\n",
    "\n",
    "@deco\n",
    "def test(text, *args, **kwargs):\n",
    "    print(text)\n",
    "    print(*args)\n",
    "    print(**kwargs)\n",
    "    \n",
    "test(\"test関数\", 1, 2, 3, one=1, two=2, )"
   ]
  },
  {
   "cell_type": "code",
   "execution_count": 55,
   "id": "826d2575-8dec-45d8-bba0-4077e3cecb68",
   "metadata": {},
   "outputs": [
    {
     "name": "stdout",
     "output_type": "stream",
     "text": [
      "関数実行\n"
     ]
    },
    {
     "ename": "TypeError",
     "evalue": "add() got an unexpected keyword argument 'one'",
     "output_type": "error",
     "traceback": [
      "\u001b[1;31m---------------------------------------------------------------------------\u001b[0m",
      "\u001b[1;31mTypeError\u001b[0m                                 Traceback (most recent call last)",
      "Cell \u001b[1;32mIn[55], line 12\u001b[0m\n\u001b[0;32m      8\u001b[0m \u001b[38;5;129m@deco\u001b[39m\n\u001b[0;32m      9\u001b[0m \u001b[38;5;28;01mdef\u001b[39;00m \u001b[38;5;21madd\u001b[39m(x, y):\n\u001b[0;32m     10\u001b[0m     \u001b[38;5;28;01mreturn\u001b[39;00m x \u001b[38;5;241m+\u001b[39m y\n\u001b[1;32m---> 12\u001b[0m \u001b[38;5;28mprint\u001b[39m(\u001b[43madd\u001b[49m\u001b[43m(\u001b[49m\u001b[38;5;241;43m1\u001b[39;49m\u001b[43m,\u001b[49m\u001b[43m \u001b[49m\u001b[38;5;241;43m4\u001b[39;49m\u001b[43m,\u001b[49m\u001b[43m \u001b[49m\u001b[43mone\u001b[49m\u001b[38;5;241;43m=\u001b[39;49m\u001b[38;5;241;43m1\u001b[39;49m\u001b[43m)\u001b[49m)\n",
      "Cell \u001b[1;32mIn[55], line 4\u001b[0m, in \u001b[0;36mdeco.<locals>.wrapper\u001b[1;34m(*args, **kwargs)\u001b[0m\n\u001b[0;32m      2\u001b[0m \u001b[38;5;28;01mdef\u001b[39;00m \u001b[38;5;21mwrapper\u001b[39m(\u001b[38;5;241m*\u001b[39margs, \u001b[38;5;241m*\u001b[39m\u001b[38;5;241m*\u001b[39mkwargs):\n\u001b[0;32m      3\u001b[0m     \u001b[38;5;28mprint\u001b[39m(\u001b[38;5;124m\"\u001b[39m\u001b[38;5;124m関数実行\u001b[39m\u001b[38;5;124m\"\u001b[39m)\n\u001b[1;32m----> 4\u001b[0m     f \u001b[38;5;241m=\u001b[39m func(\u001b[38;5;241m*\u001b[39margs, \u001b[38;5;241m*\u001b[39m\u001b[38;5;241m*\u001b[39mkwargs)\n\u001b[0;32m      5\u001b[0m     \u001b[38;5;28;01mreturn\u001b[39;00m f\n",
      "\u001b[1;31mTypeError\u001b[0m: add() got an unexpected keyword argument 'one'"
     ]
    }
   ],
   "source": [
    "def deco(func):\n",
    "    def wrapper(*args, **kwargs):\n",
    "        print(\"関数実行\")\n",
    "        f = func(*args, **kwargs)\n",
    "        return f\n",
    "    return wrapper\n",
    "\n",
    "@deco\n",
    "def add(x, y):\n",
    "    return x + y\n",
    "\n",
    "print(add(1, 4, one=1))"
   ]
  },
  {
   "cell_type": "code",
   "execution_count": 56,
   "id": "099ae4e5-a8fd-4d37-ab6e-fde04145b888",
   "metadata": {},
   "outputs": [
    {
     "name": "stdout",
     "output_type": "stream",
     "text": [
      "デコレータ\n"
     ]
    }
   ],
   "source": [
    "def sumple(f):\n",
    "    print(\"デコレータ\")\n",
    "    return f\n",
    "\n",
    "@sumple\n",
    "def func():\n",
    "    pass\n",
    "\n",
    "func()"
   ]
  },
  {
   "cell_type": "code",
   "execution_count": 66,
   "id": "741f5a40-9863-484a-aeaf-926695149aa0",
   "metadata": {},
   "outputs": [
    {
     "name": "stdout",
     "output_type": "stream",
     "text": [
      "開始\n",
      "aaa\n",
      "終了\n"
     ]
    }
   ],
   "source": [
    "def deco(f):\n",
    "    def wrapper():\n",
    "        print(\"開始\")\n",
    "        print(f())\n",
    "        print(\"終了\")\n",
    "    return wrapper\n",
    "\n",
    "@deco\n",
    "def func():\n",
    "    return \"aaa\"\n",
    "\n",
    "func()"
   ]
  },
  {
   "cell_type": "code",
   "execution_count": 68,
   "id": "df7bffe2-606b-4cdf-a75a-1c85b9f74781",
   "metadata": {},
   "outputs": [
    {
     "name": "stdout",
     "output_type": "stream",
     "text": [
      "始まり\n",
      "メイン処理\n",
      "終了\n"
     ]
    }
   ],
   "source": [
    "def deco(func):\n",
    "    def wrapper(*args, **kwargs):\n",
    "        print(\"始まり\")\n",
    "        print(func(*args, **kwargs))\n",
    "        print(\"終了\")\n",
    "    return wrapper\n",
    "\n",
    "@deco\n",
    "def func(message):\n",
    "    return message\n",
    "\n",
    "func(\"メイン処理\")"
   ]
  },
  {
   "cell_type": "code",
   "execution_count": 70,
   "id": "5cc1f619-3e0f-4c3e-8592-4bdb20889d70",
   "metadata": {},
   "outputs": [
    {
     "data": {
      "text/plain": [
       "'こんにちは天気良いね'"
      ]
     },
     "execution_count": 70,
     "metadata": {},
     "output_type": "execute_result"
    }
   ],
   "source": [
    "def deco(func):\n",
    "    def wrapper(*args, **kwargs):\n",
    "        return func(*args, **kwargs) + \"天気良いね\"\n",
    "    return wrapper\n",
    "\n",
    "@deco\n",
    "def func_aisatu():\n",
    "    return \"こんにちは\"\n",
    "\n",
    "func_aisatu()"
   ]
  },
  {
   "cell_type": "code",
   "execution_count": 72,
   "id": "1265daf6-9380-4a1e-96df-7f60e9a90f9e",
   "metadata": {},
   "outputs": [
    {
     "name": "stdout",
     "output_type": "stream",
     "text": [
      "冷やし中華はじめました\n"
     ]
    }
   ],
   "source": [
    "def deco(func):\n",
    "    def wrapper(*args, **kwargs):\n",
    "        return func(*args, **kwargs) + \"はじめました\"\n",
    "    return wrapper\n",
    "\n",
    "@deco\n",
    "def func_msg(msg):\n",
    "    return msg\n",
    "\n",
    "print(func_msg(\"冷やし中華\"))"
   ]
  },
  {
   "cell_type": "code",
   "execution_count": null,
   "id": "98a39f6b-4faf-490c-9bc5-df6754bf056f",
   "metadata": {},
   "outputs": [],
   "source": []
  }
 ],
 "metadata": {
  "kernelspec": {
   "display_name": "Python 3 (ipykernel)",
   "language": "python",
   "name": "python3"
  },
  "language_info": {
   "codemirror_mode": {
    "name": "ipython",
    "version": 3
   },
   "file_extension": ".py",
   "mimetype": "text/x-python",
   "name": "python",
   "nbconvert_exporter": "python",
   "pygments_lexer": "ipython3",
   "version": "3.10.9"
  }
 },
 "nbformat": 4,
 "nbformat_minor": 5
}
