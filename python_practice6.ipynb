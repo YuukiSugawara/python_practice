{
 "cells": [
  {
   "cell_type": "code",
   "execution_count": null,
   "id": "3344585b-c8c6-400a-98b8-3482a6e39e85",
   "metadata": {},
   "outputs": [],
   "source": [
    "#デコレータについて"
   ]
  },
  {
   "cell_type": "code",
   "execution_count": 4,
   "id": "d6a17cd5-673d-45cc-a939-0b5c33ce04fb",
   "metadata": {},
   "outputs": [],
   "source": [
    "import datetime"
   ]
  },
  {
   "cell_type": "code",
   "execution_count": 21,
   "id": "9186c8e6-3f0d-4d97-b140-98dfeb99e328",
   "metadata": {},
   "outputs": [],
   "source": [
    "#関数を引数として渡す\n",
    "#wrapperとは包み込むという意味。\n",
    "\n",
    "#print_datetime()の引数へcalc関数が渡る。関数を受け取るための引数である。\n",
    "#wrapper関数の引数(base, height)の引数へ実引数(3, 10)が渡る。\n",
    "#print_datetimeの引数としてcalc関数を受け取っているので、f(base, height)ではcalc関数が実行される。\n",
    "#関数はオブジェクトのため戻り値(return)に関数を指定することもできる。"
   ]
  },
  {
   "cell_type": "code",
   "execution_count": null,
   "id": "89ab2c34-550e-464a-b1e1-84e2deaebd3a",
   "metadata": {},
   "outputs": [],
   "source": [
    "#変数のスコープ:まず同じ場所で同じ変数がないか探す。なければ次に一つ外で同じ変数を探す。さらになければもうひとつ外で同じ変数を探す。\n",
    "#変数が有効な範囲"
   ]
  },
  {
   "cell_type": "code",
   "execution_count": 12,
   "id": "fdf06018-78f3-41be-8e10-5ff6f5f13589",
   "metadata": {},
   "outputs": [
    {
     "name": "stdout",
     "output_type": "stream",
     "text": [
      "開始: 2023-09-27 16:05:21.194839\n",
      "15.0\n",
      "終了: 2023-09-27 16:05:21.195842\n"
     ]
    }
   ],
   "source": [
    "def print_datetime(f):\n",
    "    def wrapper(base, height):\n",
    "        print(f\"開始: {datetime.datetime.now()}\")\n",
    "        f(base, height)\n",
    "        print(f\"終了: {datetime.datetime.now()}\")\n",
    "    return wrapper\n",
    "    \n",
    "def calc(base, height):\n",
    "    print(base * height / 2)\n",
    "    \n",
    "print_datetime(calc)(3, 10)"
   ]
  },
  {
   "cell_type": "code",
   "execution_count": 13,
   "id": "f5f25bf4-1bce-4715-9605-15ef64f9db91",
   "metadata": {},
   "outputs": [
    {
     "name": "stdout",
     "output_type": "stream",
     "text": [
      "開始: 2023-09-27 16:12:48.298435\n",
      "15.0\n",
      "終了: 2023-09-27 16:12:48.298435\n"
     ]
    }
   ],
   "source": [
    "def print_datetime(f):\n",
    "    def wrapper(base, height):\n",
    "        print(f\"開始: {datetime.datetime.now()}\")\n",
    "        f(base, height)\n",
    "        print(f\"終了: {datetime.datetime.now()}\")\n",
    "    return wrapper\n",
    "    \n",
    "@print_datetime    \n",
    "def calc(base, height):\n",
    "    print(base * height / 2)\n",
    "    \n",
    "calc(3, 10)"
   ]
  },
  {
   "cell_type": "code",
   "execution_count": 20,
   "id": "98e05860-fd9e-43bd-b500-f344b8e4cead",
   "metadata": {},
   "outputs": [],
   "source": [
    "#可変長引数を使って汎用性を高める。\n",
    "#デコレータとして使う関数「print_datetime」の引数を可変長引数にすることで計算側で使う関数の引数の上限数をなくす。\n",
    "#可変長引数がない場合計算側の関数が増えれば増えるほどデコレーターとして使う関数も受け取る引数の数を合わせたものを用意しなくてはならない。\n",
    "#*argsとkwargsの違いはキーワード引数がどうかの違い。"
   ]
  },
  {
   "cell_type": "code",
   "execution_count": 19,
   "id": "90798338-cbf0-454b-8e23-aaa0932f93e7",
   "metadata": {},
   "outputs": [
    {
     "name": "stdout",
     "output_type": "stream",
     "text": [
      "開始: 2023-09-27 16:33:15.172909\n",
      "6\n",
      "終了: 2023-09-27 16:33:15.172909\n",
      "開始: 2023-09-27 16:33:15.172909\n",
      "24\n",
      "終了: 2023-09-27 16:33:15.172909\n"
     ]
    }
   ],
   "source": [
    "#デコレータとして使う関数↓\n",
    "def print_datetime(f):\n",
    "    def wrapper(*args, **kwargs):\n",
    "        print(f\"開始: {datetime.datetime.now()}\")\n",
    "        f(*args, **kwargs)\n",
    "        print(f\"終了: {datetime.datetime.now()}\")\n",
    "    return wrapper\n",
    "    \n",
    "    \n",
    "#計算として使う関数↓\n",
    "@print_datetime    \n",
    "def calc1(a, b, c):\n",
    "    print(a * b * c)\n",
    "    \n",
    "@print_datetime    \n",
    "def calc2(a, b, c, d):\n",
    "    print(a * b * c * d)\n",
    "    \n",
    "    \n",
    "#関数を呼び出して出力する↓\n",
    "calc1(1, 2, 3)\n",
    "calc2(1, 2, 3, 4)"
   ]
  },
  {
   "cell_type": "code",
   "execution_count": null,
   "id": "719084c9-7a38-4e18-881f-f3145cdc9bea",
   "metadata": {},
   "outputs": [],
   "source": [
    "#オリジナルの関数はnからmまでの合計を返す関数\n",
    "#デコレータの関数は可変長引数を使い\"--start--\" オリジナル関数 \"--end--\"の順で出力する。"
   ]
  },
  {
   "cell_type": "code",
   "execution_count": 1,
   "id": "72bd83d6-246f-40d5-998b-c48fecc88acc",
   "metadata": {},
   "outputs": [
    {
     "name": "stdout",
     "output_type": "stream",
     "text": [
      "--start--\n",
      "my_func実行中\n",
      "--end--\n",
      "6\n"
     ]
    }
   ],
   "source": [
    "def deco_func(f):\n",
    "    def new_func(*args, **kwargs):\n",
    "        print(\"--start--\")\n",
    "        val = f(*args, **kwargs)\n",
    "        print(\"--end--\")\n",
    "        return val\n",
    "    return new_func\n",
    "\n",
    "@deco_func\n",
    "def my_func(n, m):\n",
    "    #nからmまでの合計を返す変数\n",
    "    ret = 0\n",
    "    for i in range(n, m + 1):\n",
    "        ret += i\n",
    "    print(\"my_func実行中\")\n",
    "    return ret\n",
    "\n",
    "x = my_func(1, 3)\n",
    "print(x)"
   ]
  },
  {
   "cell_type": "code",
   "execution_count": null,
   "id": "e943991e-3db1-4c5d-9edb-a5dac4f1f173",
   "metadata": {},
   "outputs": [],
   "source": [
    "#関数側でリストのアンパックを行う。\n",
    "#https://note.com/chisa_pc_inst/n/n67ad3bcabc58"
   ]
  }
 ],
 "metadata": {
  "kernelspec": {
   "display_name": "Python 3 (ipykernel)",
   "language": "python",
   "name": "python3"
  },
  "language_info": {
   "codemirror_mode": {
    "name": "ipython",
    "version": 3
   },
   "file_extension": ".py",
   "mimetype": "text/x-python",
   "name": "python",
   "nbconvert_exporter": "python",
   "pygments_lexer": "ipython3",
   "version": "3.10.9"
  }
 },
 "nbformat": 4,
 "nbformat_minor": 5
}
