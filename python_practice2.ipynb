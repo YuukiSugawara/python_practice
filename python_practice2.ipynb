{
 "cells": [
  {
   "cell_type": "code",
   "execution_count": 2,
   "id": "5fa15e39-e49c-4001-bdb3-7a7e19944850",
   "metadata": {},
   "outputs": [
    {
     "name": "stdout",
     "output_type": "stream",
     "text": [
      "[0, 1, 4, 9, 16, 25, 36, 49, 64, 81]\n"
     ]
    }
   ],
   "source": [
    "original = list(range(10))\n",
    "\n",
    "map_list = list(map(lambda x : x ** 2, original))\n",
    "\n",
    "print(map_list)"
   ]
  },
  {
   "cell_type": "code",
   "execution_count": 15,
   "id": "b7709847-4541-4e8c-886e-08eaec29cfa6",
   "metadata": {},
   "outputs": [
    {
     "name": "stdout",
     "output_type": "stream",
     "text": [
      "Fizz Buzz\n",
      "1\n",
      "2\n",
      "Fizz\n",
      "4\n",
      "Buzz\n",
      "Fizz\n",
      "7\n",
      "8\n",
      "Fizz\n",
      "[None, None, None, None, None, None, None, None, None, None]\n"
     ]
    }
   ],
   "source": [
    "def fizz_buzz(number):\n",
    "    if number % 3 == 0 and number % 5 == 0:\n",
    "        return \"Fizz Buzz\"\n",
    "    elif number % 3 == 0:\n",
    "        return \"Fizz\"\n",
    "    elif number % 5 == 0:\n",
    "        return \"Buzz\"\n",
    "    else:\n",
    "        return number\n",
    "    \n",
    "result = [print(x) for x in map(fizz_buzz, range(10))]\n",
    "print(result)"
   ]
  },
  {
   "cell_type": "code",
   "execution_count": 17,
   "id": "89bd05a0-ce78-4d12-88df-460343ad46c7",
   "metadata": {},
   "outputs": [
    {
     "name": "stdout",
     "output_type": "stream",
     "text": [
      "[2, 4, 6, 8]\n"
     ]
    }
   ],
   "source": [
    "l = [1, 2, 3, 4]\n",
    "\n",
    "def double(x):\n",
    "    return x * 2\n",
    "\n",
    "result = list(map(lambda x : x * 2, l))\n",
    "print(result)"
   ]
  },
  {
   "cell_type": "code",
   "execution_count": 19,
   "id": "233ab461-2356-4da2-9a2c-ee65e1ecfc61",
   "metadata": {},
   "outputs": [
    {
     "name": "stdout",
     "output_type": "stream",
     "text": [
      "[0, 3, 6, 9]\n"
     ]
    }
   ],
   "source": [
    "arr = [i for i in range(10) if i % 3 == 0]\n",
    "print(arr)"
   ]
  },
  {
   "cell_type": "code",
   "execution_count": 20,
   "id": "d67be3b5-25be-4d7a-ae88-9f0d320585af",
   "metadata": {},
   "outputs": [
    {
     "name": "stdout",
     "output_type": "stream",
     "text": [
      "[0, 3, 6, 9]\n"
     ]
    }
   ],
   "source": [
    "val = list(filter(lambda x : x % 3 == 0, range(10)))\n",
    "print(val)"
   ]
  },
  {
   "cell_type": "code",
   "execution_count": 21,
   "id": "eae85ab5-868a-4ef0-b5e0-33d490e854ac",
   "metadata": {},
   "outputs": [
    {
     "name": "stdout",
     "output_type": "stream",
     "text": [
      "[7, 10]\n"
     ]
    }
   ],
   "source": [
    "def  func(x):\n",
    "    return x > 5\n",
    "\n",
    "l = list(filter(func, [7, 4, 2, 10]))\n",
    "print(l)"
   ]
  },
  {
   "cell_type": "code",
   "execution_count": 22,
   "id": "2fcb4832-4520-4aa8-baee-fcd69279268b",
   "metadata": {},
   "outputs": [
    {
     "name": "stdout",
     "output_type": "stream",
     "text": [
      "[7, 10]\n"
     ]
    }
   ],
   "source": [
    "result = list(filter(lambda x : x > 5, [7, 4, 2, 10]))\n",
    "print(result)"
   ]
  },
  {
   "cell_type": "code",
   "execution_count": 34,
   "id": "7d4c48af-25f7-4194-b000-bef3d4ffcca8",
   "metadata": {},
   "outputs": [
    {
     "name": "stdout",
     "output_type": "stream",
     "text": [
      "['Kevin', 'Ryan']\n"
     ]
    }
   ],
   "source": [
    "employees = [\n",
    "    {\"name\": \"John\", \"age\": 21},\n",
    "    {\"name\": \"Kevin\", \"age\": 45},\n",
    "    {\"name\": \"Amy\", \"age\": 21},\n",
    "    {\"name\": \"Ryan\", \"age\": 30}\n",
    "]\n",
    "\n",
    "result = map(lambda x : x[\"name\"], filter(lambda x : x[\"age\"] > 25, employees))\n",
    "print(list(result))"
   ]
  },
  {
   "cell_type": "code",
   "execution_count": 29,
   "id": "efb7b6e5-9f27-487c-b9a0-bfc9a465481d",
   "metadata": {},
   "outputs": [
    {
     "name": "stdout",
     "output_type": "stream",
     "text": [
      "['Kevin', 'Ryan']\n"
     ]
    }
   ],
   "source": [
    "result = map(lambda x: x[\"name\"], (filter(lambda x: x[\"age\"] > 25, employees)))\n",
    "print(list(result))\n",
    "# ['Kevin', 'Ryan']"
   ]
  },
  {
   "cell_type": "code",
   "execution_count": 35,
   "id": "82e2d2e8-2f4b-459b-8ab7-000e23a16e5f",
   "metadata": {},
   "outputs": [
    {
     "name": "stdout",
     "output_type": "stream",
     "text": [
      "[3, 6]\n"
     ]
    }
   ],
   "source": [
    "a = [1, 2, 3, 4, 5, 6]\n",
    "b = list(filter(lambda x : x % 3 == 0, a))\n",
    "print(b)"
   ]
  },
  {
   "cell_type": "code",
   "execution_count": 38,
   "id": "d3ba6bae-794c-4080-8db2-8270a224d57c",
   "metadata": {},
   "outputs": [
    {
     "name": "stdout",
     "output_type": "stream",
     "text": [
      "[3240, 2700, 11340, 4644]\n"
     ]
    }
   ],
   "source": [
    "price = [3000, 2500, 10500, 4300]\n",
    "\n",
    "l = []\n",
    "\n",
    "for i in price:\n",
    "    l.append(int(i * 1.08))\n",
    "    \n",
    "print(l)"
   ]
  },
  {
   "cell_type": "code",
   "execution_count": 40,
   "id": "3837d6af-a4d3-48f8-8bde-5443d8876839",
   "metadata": {},
   "outputs": [
    {
     "name": "stdout",
     "output_type": "stream",
     "text": [
      "[3240, 2700, 11340, 4644]\n"
     ]
    }
   ],
   "source": [
    "price = [3000, 2500, 10500, 4300]\n",
    "\n",
    "l = list(map(lambda x : int(x * 1.08), price))\n",
    "print(l)"
   ]
  },
  {
   "cell_type": "code",
   "execution_count": 41,
   "id": "5c605f5d-ecc7-4912-8d62-0ccd1f578cf2",
   "metadata": {},
   "outputs": [
    {
     "name": "stdout",
     "output_type": "stream",
     "text": [
      "[10500, 4300]\n"
     ]
    }
   ],
   "source": [
    "price = [3000, 2500, 10500, 4300]\n",
    "\n",
    "l = []\n",
    "\n",
    "for i in price:\n",
    "    if i > 3500:\n",
    "        l.append(i)\n",
    "        \n",
    "print(l)"
   ]
  },
  {
   "cell_type": "code",
   "execution_count": 46,
   "id": "0b181636-7e07-4fb7-827e-8dd4161983e1",
   "metadata": {},
   "outputs": [
    {
     "ename": "AttributeError",
     "evalue": "'filter' object has no attribute 'sort'",
     "output_type": "error",
     "traceback": [
      "\u001b[1;31m---------------------------------------------------------------------------\u001b[0m",
      "\u001b[1;31mAttributeError\u001b[0m                            Traceback (most recent call last)",
      "Cell \u001b[1;32mIn[46], line 2\u001b[0m\n\u001b[0;32m      1\u001b[0m a \u001b[38;5;241m=\u001b[39m \u001b[38;5;28mfilter\u001b[39m(\u001b[38;5;28;01mlambda\u001b[39;00m x : x \u001b[38;5;241m>\u001b[39m \u001b[38;5;241m3500\u001b[39m, price)\n\u001b[1;32m----> 2\u001b[0m \u001b[43ma\u001b[49m\u001b[38;5;241;43m.\u001b[39;49m\u001b[43msort\u001b[49m()\n\u001b[0;32m      3\u001b[0m \u001b[38;5;28mprint\u001b[39m(a)\n",
      "\u001b[1;31mAttributeError\u001b[0m: 'filter' object has no attribute 'sort'"
     ]
    }
   ],
   "source": [
    "a = filter(lambda x : x > 3500, price)\n",
    "a.sort()\n",
    "print(a)"
   ]
  },
  {
   "cell_type": "code",
   "execution_count": 48,
   "id": "4d0dcb58-8710-4eaa-a5cc-ba64ad2d1387",
   "metadata": {},
   "outputs": [
    {
     "name": "stdout",
     "output_type": "stream",
     "text": [
      "[10500, 4300]\n"
     ]
    }
   ],
   "source": [
    "def checkPrice(price):\n",
    "    return price > 3500\n",
    "\n",
    "price = [3000, 2500, 10500, 4300]\n",
    "\n",
    "z = list(filter(checkPrice, price))\n",
    "print(z)"
   ]
  },
  {
   "cell_type": "code",
   "execution_count": 52,
   "id": "69967565-0bdc-454f-99fb-ac1ef59b30fc",
   "metadata": {},
   "outputs": [
    {
     "name": "stdout",
     "output_type": "stream",
     "text": [
      "[10500, 4300]\n"
     ]
    }
   ],
   "source": [
    "prices={\n",
    "    'a':3000,\n",
    "    'b':2500,\n",
    "    'c':10500,\n",
    "    'd':4300,}\n",
    "\n",
    "a = list(filter(lambda k : k > 3500, price))\n",
    "print(a)"
   ]
  },
  {
   "cell_type": "code",
   "execution_count": 53,
   "id": "b5cffd8f-d82a-46c1-a866-016f06b14dfd",
   "metadata": {},
   "outputs": [
    {
     "name": "stdout",
     "output_type": "stream",
     "text": [
      "1.32\n"
     ]
    }
   ],
   "source": [
    "print((lambda a, b : a * b)(1.1, 1.2))\n"
   ]
  },
  {
   "cell_type": "code",
   "execution_count": 57,
   "id": "9e2d6bab-f095-4e99-a178-fc8bb0ad6356",
   "metadata": {},
   "outputs": [
    {
     "name": "stdout",
     "output_type": "stream",
     "text": [
      "7\n",
      "7\n"
     ]
    }
   ],
   "source": [
    "def add_def(a, b = 1):\n",
    "    return a + b\n",
    "\n",
    "print(add_def(3, 4))\n",
    "\n",
    "add_lambda = lambda a, b = 1 : a + b\n",
    "print(add_lambda(3, 4))"
   ]
  },
  {
   "cell_type": "code",
   "execution_count": 59,
   "id": "ea226bf6-f646-49d0-a938-26d0f1d57977",
   "metadata": {},
   "outputs": [
    {
     "name": "stdout",
     "output_type": "stream",
     "text": [
      "even\n"
     ]
    }
   ],
   "source": [
    "result = lambda x : \"even\" if x % 2 == 0 else \"odd\"\n",
    "print(result(4))"
   ]
  },
  {
   "cell_type": "code",
   "execution_count": 60,
   "id": "b7793374-14de-44c4-af62-71cf29cb94d4",
   "metadata": {},
   "outputs": [
    {
     "name": "stdout",
     "output_type": "stream",
     "text": [
      "[0, 1, 4, 9]\n"
     ]
    }
   ],
   "source": [
    "l = [0, 1, 2, 3]\n",
    "\n",
    "a = list(map(lambda x : x ** 2, l))\n",
    "print(a)"
   ]
  },
  {
   "cell_type": "code",
   "execution_count": 62,
   "id": "c9f0646f-d6d9-41e4-8dab-6ef8e854f6b5",
   "metadata": {},
   "outputs": [
    {
     "name": "stdout",
     "output_type": "stream",
     "text": [
      "[0, 1, 4, 9]\n"
     ]
    }
   ],
   "source": [
    "l = [0, 1, 2, 3]\n",
    "\n",
    "re = [i ** 2 for i in l]\n",
    "print(re)"
   ]
  },
  {
   "cell_type": "code",
   "execution_count": 64,
   "id": "77f8cbcd-1cd8-483e-944d-9c8ce8a745bc",
   "metadata": {},
   "outputs": [
    {
     "name": "stdout",
     "output_type": "stream",
     "text": [
      "[0, 2]\n"
     ]
    }
   ],
   "source": [
    "l = [0, 1, 2, 3]\n",
    "\n",
    "even = list(filter(lambda x : x % 2 == 0, l))\n",
    "print(even)"
   ]
  },
  {
   "cell_type": "code",
   "execution_count": 67,
   "id": "2c6a7b90-2f8d-445e-a4c6-cf47faace1c1",
   "metadata": {},
   "outputs": [
    {
     "name": "stdout",
     "output_type": "stream",
     "text": [
      "[0, 2]\n"
     ]
    }
   ],
   "source": [
    "l = [0, 1, 2, 3]\n",
    "\n",
    "even = [i for i in l if i % 2 == 0]\n",
    "print(even)"
   ]
  },
  {
   "cell_type": "code",
   "execution_count": 68,
   "id": "cb19b67d-5950-4258-91f6-dc2cc8b75e42",
   "metadata": {},
   "outputs": [
    {
     "name": "stdout",
     "output_type": "stream",
     "text": [
      "9\n"
     ]
    }
   ],
   "source": [
    "def suqare(x):\n",
    "    result = x ** 2\n",
    "    return result\n",
    "\n",
    "obj = suqare(3)\n",
    "print(obj)"
   ]
  },
  {
   "cell_type": "code",
   "execution_count": 70,
   "id": "a87df950-561e-44b0-97c5-46a50451d76a",
   "metadata": {},
   "outputs": [
    {
     "name": "stdout",
     "output_type": "stream",
     "text": [
      "9\n"
     ]
    }
   ],
   "source": [
    "re = lambda x : x ** 2\n",
    "print(re(3))"
   ]
  },
  {
   "cell_type": "code",
   "execution_count": 71,
   "id": "2d431917-a8b3-42e2-8366-4c7e6c3b5224",
   "metadata": {},
   "outputs": [
    {
     "name": "stdout",
     "output_type": "stream",
     "text": [
      "6\n"
     ]
    }
   ],
   "source": [
    "y = lambda x, y : x * y\n",
    "print(y(3, 2))"
   ]
  },
  {
   "cell_type": "code",
   "execution_count": 72,
   "id": "471fdcb0-b10f-42f1-a20f-2c0adedad5bb",
   "metadata": {},
   "outputs": [
    {
     "name": "stdout",
     "output_type": "stream",
     "text": [
      "[100, 200]\n"
     ]
    }
   ],
   "source": [
    "nums = [100, 200, 50, 40]\n",
    "\n",
    "l = []\n",
    "\n",
    "for i in nums:\n",
    "    if i > 90:\n",
    "        l.append(i)\n",
    "        \n",
    "print(l)"
   ]
  },
  {
   "cell_type": "code",
   "execution_count": 74,
   "id": "dd51af48-a9e6-4cdd-bd5e-3c360249bd41",
   "metadata": {},
   "outputs": [
    {
     "name": "stdout",
     "output_type": "stream",
     "text": [
      "[100, 200]\n"
     ]
    }
   ],
   "source": [
    "nums = [100, 200, 50, 40]\n",
    "\n",
    "re = list(filter(lambda x : x > 90, l))\n",
    "print(re)"
   ]
  },
  {
   "cell_type": "code",
   "execution_count": 75,
   "id": "efa513a3-a3a7-4274-8b38-c68f80a00793",
   "metadata": {},
   "outputs": [
    {
     "name": "stdout",
     "output_type": "stream",
     "text": [
      "['山崎さん', '鈴木さん', '浅村さん', '島内さん']\n"
     ]
    }
   ],
   "source": [
    "l = ['山崎','鈴木','浅村','島内']\n",
    "\n",
    "def add_func(name):\n",
    "    result = name + \"さん\"\n",
    "    return result\n",
    "\n",
    "re = list(map(add_func, l))\n",
    "print(re)"
   ]
  },
  {
   "cell_type": "code",
   "execution_count": 76,
   "id": "73592912-15fd-45a4-b287-772d8514c5d8",
   "metadata": {},
   "outputs": [
    {
     "name": "stdout",
     "output_type": "stream",
     "text": [
      "['山崎さん', '鈴木さん', '浅村さん', '島内さん']\n"
     ]
    }
   ],
   "source": [
    "l = ['山崎','鈴木','浅村','島内']\n",
    "\n",
    "re = list(map(lambda x : x + \"さん\", l))\n",
    "print(re)"
   ]
  },
  {
   "cell_type": "code",
   "execution_count": 78,
   "id": "6447d074-9f1d-4821-984a-c3347c9e2994",
   "metadata": {},
   "outputs": [
    {
     "name": "stdout",
     "output_type": "stream",
     "text": [
      "[3, 6]\n"
     ]
    }
   ],
   "source": [
    "nums = [1, 2, 3, 4, 5, 6]\n",
    "\n",
    "re = list(filter(lambda x : x % 3 == 0, nums))\n",
    "print(re)"
   ]
  },
  {
   "cell_type": "code",
   "execution_count": 79,
   "id": "f20120e5-6e10-4731-bd7b-0ffbd2da43cb",
   "metadata": {},
   "outputs": [
    {
     "name": "stdout",
     "output_type": "stream",
     "text": [
      "[1, 4, 9, 16, 25, 36]\n"
     ]
    }
   ],
   "source": [
    "nums = [1, 2, 3, 4, 5, 6]\n",
    "\n",
    "re = list(map(lambda x : x ** 2, nums))\n",
    "print(re)"
   ]
  },
  {
   "cell_type": "code",
   "execution_count": 80,
   "id": "4262d145-1ee6-4eb0-8ebb-c2e9ce6aa266",
   "metadata": {},
   "outputs": [
    {
     "name": "stdout",
     "output_type": "stream",
     "text": [
      "[0, 1, 4, 9, 16, 25, 36, 49, 64, 81]\n"
     ]
    }
   ],
   "source": [
    "l = []\n",
    "\n",
    "for i in range(10):\n",
    "    l.append(i ** 2)\n",
    "print(l)"
   ]
  },
  {
   "cell_type": "code",
   "execution_count": 81,
   "id": "c329ccfb-f308-4efc-b45e-1891427d7e4e",
   "metadata": {},
   "outputs": [
    {
     "name": "stdout",
     "output_type": "stream",
     "text": [
      "[0, 1, 4, 9, 16, 25, 36, 49, 64, 81]\n"
     ]
    }
   ],
   "source": [
    "a = list(map(lambda x : x ** 2, range(10)))\n",
    "print(a)"
   ]
  },
  {
   "cell_type": "code",
   "execution_count": 82,
   "id": "429febcc-4abe-416c-93a0-0e904517f1cb",
   "metadata": {},
   "outputs": [
    {
     "name": "stdout",
     "output_type": "stream",
     "text": [
      "1\n",
      "4\n",
      "9\n",
      "16\n",
      "25\n"
     ]
    }
   ],
   "source": [
    "num = [1, 2, 3, 4, 5]\n",
    "\n",
    "for i in map(lambda x : x ** 2, num):\n",
    "    print(i)"
   ]
  },
  {
   "cell_type": "code",
   "execution_count": 84,
   "id": "48cc6e8c-1bac-4c3a-9b56-9e2f9419942b",
   "metadata": {},
   "outputs": [
    {
     "name": "stdout",
     "output_type": "stream",
     "text": [
      "[1, 4, 9, 16, 25]\n"
     ]
    }
   ],
   "source": [
    "num = [1, 2, 3, 4, 5]\n",
    "\n",
    "a = [i ** 2 for i in num]\n",
    "print(a)"
   ]
  },
  {
   "cell_type": "code",
   "execution_count": 85,
   "id": "b97d7177-e698-469b-a3e3-7548f9afdc54",
   "metadata": {},
   "outputs": [
    {
     "name": "stdout",
     "output_type": "stream",
     "text": [
      "1\n",
      "3\n",
      "5\n"
     ]
    }
   ],
   "source": [
    "num = [1, 2, 3, 4, 5]\n",
    "\n",
    "for i in filter(lambda x : x % 2 != 0, num):\n",
    "    print(i)"
   ]
  },
  {
   "cell_type": "code",
   "execution_count": 88,
   "id": "e7207679-8f85-441f-937a-2b4d7ffd25d8",
   "metadata": {},
   "outputs": [
    {
     "name": "stdout",
     "output_type": "stream",
     "text": [
      "[1, 3, 5]\n"
     ]
    }
   ],
   "source": [
    "num = [1, 2, 3, 4, 5]\n",
    "\n",
    "result = [i for i in num if i % 2 != 0]\n",
    "print(result)"
   ]
  },
  {
   "cell_type": "code",
   "execution_count": 89,
   "id": "62f2b032-c522-4360-b82f-83c554bb8696",
   "metadata": {},
   "outputs": [
    {
     "name": "stdout",
     "output_type": "stream",
     "text": [
      "[2, 4, 1]\n"
     ]
    }
   ],
   "source": [
    "a = list(map(lambda x : (x * 2) % 5, [1, 2, 3]))\n",
    "print(a)"
   ]
  },
  {
   "cell_type": "code",
   "execution_count": 91,
   "id": "75d0516a-0619-4a82-a736-b9ccf1656d73",
   "metadata": {},
   "outputs": [
    {
     "name": "stdout",
     "output_type": "stream",
     "text": [
      "[2, 4, 1]\n"
     ]
    }
   ],
   "source": [
    "result = [(i * 2) % 5 for i in [1, 2, 3]]\n",
    "print(result)"
   ]
  },
  {
   "cell_type": "code",
   "execution_count": 92,
   "id": "a511f541-8afd-4b41-830a-35aa74bf3b89",
   "metadata": {},
   "outputs": [
    {
     "name": "stdout",
     "output_type": "stream",
     "text": [
      "['1', '2', '3']\n"
     ]
    }
   ],
   "source": [
    "result = [str(i) for i in [1, 2, 3]]\n",
    "print(result)"
   ]
  },
  {
   "cell_type": "code",
   "execution_count": 94,
   "id": "9add3b8c-07a4-4a4a-bed3-1dc2306547c4",
   "metadata": {},
   "outputs": [
    {
     "name": "stdout",
     "output_type": "stream",
     "text": [
      "[1, 3]\n"
     ]
    }
   ],
   "source": [
    "result = list(filter(lambda x : x % 2, [1, 2, 3]))\n",
    "print(result)"
   ]
  },
  {
   "cell_type": "code",
   "execution_count": 95,
   "id": "849ad274-12da-45e8-996d-d1eb2d92d387",
   "metadata": {},
   "outputs": [
    {
     "name": "stdout",
     "output_type": "stream",
     "text": [
      "[1, 3]\n"
     ]
    }
   ],
   "source": [
    "result = [i for i in [1, 2, 3] if i % 2 != 0]\n",
    "print(result)"
   ]
  },
  {
   "cell_type": "code",
   "execution_count": 98,
   "id": "e54b3a01-16f3-4d4d-8f8c-c411bfe5f5c5",
   "metadata": {},
   "outputs": [
    {
     "name": "stdout",
     "output_type": "stream",
     "text": [
      "[4, 14, 4, 8, 10, 16]\n"
     ]
    }
   ],
   "source": [
    "a = list(map(lambda x: int(x) * 2, filter(lambda x: int(x) % 3, '299792458')))\n",
    "print(a)"
   ]
  },
  {
   "cell_type": "code",
   "execution_count": 100,
   "id": "b37c6650-03af-40fc-92f0-9040a3d7dc1c",
   "metadata": {},
   "outputs": [
    {
     "name": "stdout",
     "output_type": "stream",
     "text": [
      "[2, 4, 8, 10]\n"
     ]
    }
   ],
   "source": [
    "result = list(map(lambda x : int(x) * 2, filter(lambda x : int(x) % 3, \"123456\")))\n",
    "print(result)"
   ]
  },
  {
   "cell_type": "code",
   "execution_count": 112,
   "id": "19dc7791-a411-4570-a537-3a021fe685c8",
   "metadata": {},
   "outputs": [
    {
     "data": {
      "text/plain": [
       "4"
      ]
     },
     "execution_count": 112,
     "metadata": {},
     "output_type": "execute_result"
    }
   ],
   "source": [
    "def fib(n):\n",
    "    if n in {1,2}:\n",
    "        return 1\n",
    "    else:\n",
    "        return (n - 1) + fib(n - 2) \n",
    "fib(4)"
   ]
  },
  {
   "cell_type": "code",
   "execution_count": 114,
   "id": "473a8f5c-cea1-4924-b361-fd206edf5f8f",
   "metadata": {},
   "outputs": [
    {
     "data": {
      "text/plain": [
       "[3, 6, 9, 12]"
      ]
     },
     "execution_count": 114,
     "metadata": {},
     "output_type": "execute_result"
    }
   ],
   "source": [
    "def func(x):\n",
    "    l = []\n",
    "    for i in x:\n",
    "        l.append(i * 3)\n",
    "    return l\n",
    "\n",
    "t_list = [1, 2, 3, 4]\n",
    "\n",
    "func(t_list)"
   ]
  },
  {
   "cell_type": "code",
   "execution_count": 116,
   "id": "7f90c46b-4186-4487-ba07-6703e8c1cb62",
   "metadata": {},
   "outputs": [
    {
     "data": {
      "text/plain": [
       "[3, 6, 9, 12]"
      ]
     },
     "execution_count": 116,
     "metadata": {},
     "output_type": "execute_result"
    }
   ],
   "source": [
    "def func(x):\n",
    "    l = []\n",
    "    for i in x:\n",
    "        l.append(i * 3)\n",
    "    return l\n",
    "\n",
    "list_t = [1, 2, 3, 4]\n",
    "func(list_t)"
   ]
  },
  {
   "cell_type": "code",
   "execution_count": 119,
   "id": "fb7b7772-4dc2-48c2-b399-f3c2a34269b0",
   "metadata": {},
   "outputs": [
    {
     "data": {
      "text/plain": [
       "[1, 2, 3]"
      ]
     },
     "execution_count": 119,
     "metadata": {},
     "output_type": "execute_result"
    }
   ],
   "source": [
    "def func(x):\n",
    "    l = []\n",
    "    for i in x:\n",
    "        l.append(int(i))\n",
    "    return l\n",
    "        \n",
    "t_list = [\"1\", \"2\", 3]\n",
    "func(t_list)"
   ]
  },
  {
   "cell_type": "code",
   "execution_count": 120,
   "id": "f8d70782-2b57-467e-99d5-3e60bafa9eaa",
   "metadata": {},
   "outputs": [
    {
     "data": {
      "text/plain": [
       "[1, 2, 3]"
      ]
     },
     "execution_count": 120,
     "metadata": {},
     "output_type": "execute_result"
    }
   ],
   "source": [
    "def func(x):\n",
    "    return [int(i) for i in x]\n",
    "\n",
    "t_list = [\"1\", \"2\", 3]\n",
    "func(t_list)"
   ]
  },
  {
   "cell_type": "code",
   "execution_count": 121,
   "id": "fcd14a61-0fb7-4665-acfe-f7def1dd0048",
   "metadata": {},
   "outputs": [
    {
     "data": {
      "text/plain": [
       "[3]"
      ]
     },
     "execution_count": 121,
     "metadata": {},
     "output_type": "execute_result"
    }
   ],
   "source": [
    "def func(x):\n",
    "    l = []\n",
    "    for i in x:\n",
    "        if isinstance(i, int):\n",
    "            l.append(i)\n",
    "    return l\n",
    "\n",
    "t_list = [\"1\", \"2\", 3]\n",
    "func(t_list)"
   ]
  },
  {
   "cell_type": "code",
   "execution_count": 123,
   "id": "677856d0-8c51-4d83-98e8-36f05198de9a",
   "metadata": {},
   "outputs": [
    {
     "data": {
      "text/plain": [
       "[3]"
      ]
     },
     "execution_count": 123,
     "metadata": {},
     "output_type": "execute_result"
    }
   ],
   "source": [
    "def func(x):\n",
    "    return [i for i in x if not isinstance(i, str)]\n",
    "\n",
    "t_list = [\"1\", \"2\", 3]\n",
    "func(t_list)"
   ]
  },
  {
   "cell_type": "code",
   "execution_count": 124,
   "id": "669fefcc-a7c3-46ce-9720-3fbc18563b2c",
   "metadata": {},
   "outputs": [
    {
     "name": "stdout",
     "output_type": "stream",
     "text": [
      "[0, '1', 2, '3', 4, '5', 6, '7', 8, '9']\n"
     ]
    }
   ],
   "source": [
    "l = []\n",
    "for i in range(10):\n",
    "    if i % 2 == 0:\n",
    "        l.append(i)\n",
    "    else:\n",
    "        l.append(str(i))\n",
    "        \n",
    "print(l)"
   ]
  },
  {
   "cell_type": "code",
   "execution_count": 126,
   "id": "a8a9ceb9-4706-4d0a-a9da-133d45ab64db",
   "metadata": {},
   "outputs": [
    {
     "name": "stdout",
     "output_type": "stream",
     "text": [
      "[0, '1', 2, '3', 4, '5', 6, '7', 8, '9']\n"
     ]
    }
   ],
   "source": [
    "result = [i if i % 2 == 0 else str(i) for i in range(10)]\n",
    "print(result)"
   ]
  },
  {
   "cell_type": "code",
   "execution_count": 127,
   "id": "852fa6f9-e45d-4189-99a4-e38f3b08f2b4",
   "metadata": {},
   "outputs": [
    {
     "name": "stdout",
     "output_type": "stream",
     "text": [
      "{'0': 0, '1': 1, '2': 2, '3': 3, '4': 4, '5': 5, '6': 6, '7': 7, '8': 8, '9': 9}\n"
     ]
    }
   ],
   "source": [
    "dict_l = {str(i):i for i in range(10)}\n",
    "print(dict_l)"
   ]
  },
  {
   "cell_type": "code",
   "execution_count": 128,
   "id": "d7a9e006-055e-42e2-8741-69ff5ee56503",
   "metadata": {},
   "outputs": [
    {
     "data": {
      "text/plain": [
       "{'kinoko': 'yama', 'takenoko': 'sato', 'suginoko': 'mura'}"
      ]
     },
     "execution_count": 128,
     "metadata": {},
     "output_type": "execute_result"
    }
   ],
   "source": [
    "label = [\"kinoko\", \"takenoko\", \"suginoko\"]\n",
    "feature = [\"yama\", \"sato\", \"mura\"]\n",
    "\n",
    "{i:j for i, j in zip(label, feature)}"
   ]
  },
  {
   "cell_type": "code",
   "execution_count": 129,
   "id": "b9e04849-cff0-413d-975e-24d43709af63",
   "metadata": {},
   "outputs": [
    {
     "name": "stdout",
     "output_type": "stream",
     "text": [
      "{'0': 0, 1: '1', '2': 2, 3: '3', '4': 4, 5: '5', '6': 6, 7: '7', '8': 8, 9: '9'}\n"
     ]
    }
   ],
   "source": [
    "dict_l = {str(i) if i % 2 == 0 else i : i if i % 2 == 0 else str(i) for i in range(10)}\n",
    "print(dict_l)"
   ]
  },
  {
   "cell_type": "code",
   "execution_count": 132,
   "id": "10e141b6-4f3b-4a3f-a24b-46f0b06ec229",
   "metadata": {},
   "outputs": [
    {
     "name": "stdout",
     "output_type": "stream",
     "text": [
      "{'0': 0, '2': 2, '4': 4, '6': 6, '8': 8}\n"
     ]
    }
   ],
   "source": [
    "dict_l = {str(i):i for i in range(10) if i % 2 == 0}\n",
    "print(dict_l)"
   ]
  },
  {
   "cell_type": "code",
   "execution_count": 133,
   "id": "b4c630b5-3cc8-49e8-b13b-52da71b5ef57",
   "metadata": {},
   "outputs": [
    {
     "name": "stdout",
     "output_type": "stream",
     "text": [
      "{'0': 0, '1': 1, '2': 2, '3': 3, '4': 4, '5': 5, '6': 6, '7': 7, '8': 8, '9': 9}\n"
     ]
    }
   ],
   "source": [
    "dict_l= {str(i):i for i in range(10)}\n",
    "print(dict_l)"
   ]
  },
  {
   "cell_type": "code",
   "execution_count": 136,
   "id": "1e410e4a-1287-47f1-b1a9-e3d1721213e6",
   "metadata": {},
   "outputs": [
    {
     "data": {
      "text/plain": [
       "[1, 4, 9, 16, 25, 36, 49, 64, 81, 100]"
      ]
     },
     "execution_count": 136,
     "metadata": {},
     "output_type": "execute_result"
    }
   ],
   "source": [
    "list(map(lambda i : i ** 2, range(1, 11)))"
   ]
  },
  {
   "cell_type": "code",
   "execution_count": 137,
   "id": "f01dea96-4b10-4ab1-9c3a-3927701a3153",
   "metadata": {},
   "outputs": [
    {
     "name": "stdout",
     "output_type": "stream",
     "text": [
      "[1, 4, 9, 16, 25, 36, 49, 64, 81, 100]\n"
     ]
    }
   ],
   "source": [
    "result = [i ** 2 for i in range(1, 11)]\n",
    "print(result)"
   ]
  },
  {
   "cell_type": "code",
   "execution_count": 138,
   "id": "cd2ef38e-cc2c-4262-abd9-59c675d1552c",
   "metadata": {},
   "outputs": [
    {
     "name": "stdout",
     "output_type": "stream",
     "text": [
      "[1, 3, 5, 7, 9]\n"
     ]
    }
   ],
   "source": [
    "result = list(filter(lambda i : i % 2 == 1, range(1, 11)))\n",
    "print(result)"
   ]
  },
  {
   "cell_type": "code",
   "execution_count": 139,
   "id": "223dab32-ee11-4c62-9e5e-df0a79de0322",
   "metadata": {},
   "outputs": [
    {
     "name": "stdout",
     "output_type": "stream",
     "text": [
      "[1, 3, 5, 7, 9]\n"
     ]
    }
   ],
   "source": [
    "result = [i for i in range(1, 11) if i % 2 == 1]\n",
    "print(result)"
   ]
  },
  {
   "cell_type": "code",
   "execution_count": 140,
   "id": "f821e1c1-833f-4542-9f5d-ed5f4be6a09a",
   "metadata": {},
   "outputs": [
    {
     "name": "stdout",
     "output_type": "stream",
     "text": [
      "[1, 9, 25, 49, 81]\n"
     ]
    }
   ],
   "source": [
    "re = list(map(lambda j : j ** 2, filter(lambda i : i % 2 == 1, range(1, 11))))\n",
    "print(re)"
   ]
  },
  {
   "cell_type": "code",
   "execution_count": 141,
   "id": "19957529-ea05-4128-9ae5-d3c63b851032",
   "metadata": {},
   "outputs": [
    {
     "name": "stdout",
     "output_type": "stream",
     "text": [
      "[1, 9, 25, 49, 81]\n"
     ]
    }
   ],
   "source": [
    "re = [i ** 2 for i in range(1, 11) if i % 2 == 1]\n",
    "print(re)"
   ]
  },
  {
   "cell_type": "code",
   "execution_count": 143,
   "id": "2e0a3b5f-f632-45f0-ba11-dc57348a8da2",
   "metadata": {},
   "outputs": [
    {
     "name": "stdout",
     "output_type": "stream",
     "text": [
      "[0]\n",
      "[0, 1]\n",
      "[0, 1, 2]\n",
      "[0, 1, 2, 3]\n",
      "[0, 1, 2, 3, 4]\n",
      "[0, 1, 2, 3, 4, 5]\n",
      "[0, 1, 2, 3, 4, 5, 6]\n",
      "[0, 1, 2, 3, 4, 5, 6, 7]\n",
      "[0, 1, 2, 3, 4, 5, 6, 7, 8]\n",
      "[0, 1, 2, 3, 4, 5, 6, 7, 8, 9]\n",
      "[0]\n",
      "[0, 1]\n",
      "[0, 1, 2]\n",
      "[0, 1, 2, 3]\n",
      "[0, 1, 2, 3, 4]\n",
      "[0, 1, 2, 3, 4, 5]\n",
      "[0, 1, 2, 3, 4, 5, 6]\n",
      "[0, 1, 2, 3, 4, 5, 6, 7]\n",
      "[0, 1, 2, 3, 4, 5, 6, 7, 8]\n",
      "[0, 1, 2, 3, 4, 5, 6, 7, 8, 9]\n",
      "[0]\n",
      "[0, 1]\n",
      "[0, 1, 2]\n",
      "[0, 1, 2, 3]\n",
      "[0, 1, 2, 3, 4]\n",
      "[0, 1, 2, 3, 4, 5]\n",
      "[0, 1, 2, 3, 4, 5, 6]\n",
      "[0, 1, 2, 3, 4, 5, 6, 7]\n",
      "[0, 1, 2, 3, 4, 5, 6, 7, 8]\n",
      "[0, 1, 2, 3, 4, 5, 6, 7, 8, 9]\n",
      "[[0, 1, 2, 3, 4, 5, 6, 7, 8, 9], [0, 1, 2, 3, 4, 5, 6, 7, 8, 9], [0, 1, 2, 3, 4, 5, 6, 7, 8, 9]]\n"
     ]
    }
   ],
   "source": [
    "l = []\n",
    "\n",
    "for i in range(3):\n",
    "    in_l = []\n",
    "    for i in range(10):\n",
    "        in_l.append(i)\n",
    "    l.append(in_l)\n",
    "print(l)"
   ]
  },
  {
   "cell_type": "code",
   "execution_count": 144,
   "id": "03a51e55-9cef-44a8-a1d0-0e833702035c",
   "metadata": {},
   "outputs": [
    {
     "name": "stdout",
     "output_type": "stream",
     "text": [
      "[[0, 1, 2, 3, 4, 5, 6, 7, 8, 9], [0, 1, 2, 3, 4, 5, 6, 7, 8, 9], [0, 1, 2, 3, 4, 5, 6, 7, 8, 9]]\n"
     ]
    }
   ],
   "source": [
    "re = [[i for i in range(10)]for i in range(3)]\n",
    "print(re)"
   ]
  },
  {
   "cell_type": "code",
   "execution_count": 147,
   "id": "3275ff06-d076-442c-8861-fabc7f95b788",
   "metadata": {},
   "outputs": [
    {
     "name": "stdout",
     "output_type": "stream",
     "text": [
      "[[0, 1, 2]]\n"
     ]
    }
   ],
   "source": [
    "re = [[i for i in range(3)]]\n",
    "print(re)"
   ]
  },
  {
   "cell_type": "code",
   "execution_count": 148,
   "id": "6d809374-0264-4035-b829-115abc32bf5c",
   "metadata": {},
   "outputs": [
    {
     "name": "stdout",
     "output_type": "stream",
     "text": [
      "{0: 0, 1: 1, 2: 4, 3: 9, 4: 16}\n"
     ]
    }
   ],
   "source": [
    "d = {k : k ** 2 for k in range(5)}\n",
    "print(d)"
   ]
  },
  {
   "cell_type": "code",
   "execution_count": 153,
   "id": "b83d6fc2-78b1-43c3-994f-02eb30db581e",
   "metadata": {},
   "outputs": [
    {
     "name": "stdout",
     "output_type": "stream",
     "text": [
      "['王賁', '王翦']\n"
     ]
    }
   ],
   "source": [
    "kingdom = [\"信\",\"王賁\",\"蒙恬\",\"蒙武\",\"王翦\",\"桓騎\",\"秦王\"]\n",
    "\n",
    "l = [i for i in kingdom if i.startswith(\"王\")]\n",
    "print(l)"
   ]
  },
  {
   "cell_type": "code",
   "execution_count": 154,
   "id": "5f3ca83b-ef3d-45bb-97c8-f229bd7bc993",
   "metadata": {},
   "outputs": [
    {
     "name": "stdout",
     "output_type": "stream",
     "text": [
      "['王賁', '王翦']\n"
     ]
    }
   ],
   "source": [
    "kingdom = [\"信\",\"王賁\",\"蒙恬\",\"蒙武\",\"王翦\",\"桓騎\",\"秦王\"]\n",
    "\n",
    "l = []\n",
    "for i in kingdom:\n",
    "    if i.startswith(\"王\"):\n",
    "        l.append(i)\n",
    "print(l)    "
   ]
  },
  {
   "cell_type": "code",
   "execution_count": 155,
   "id": "c17cb118-4d82-47c2-80e3-967fd0b4e3a7",
   "metadata": {},
   "outputs": [
    {
     "name": "stdout",
     "output_type": "stream",
     "text": [
      "['その他', '王賁', 'その他', 'その他', '王翦', 'その他', 'その他']\n"
     ]
    }
   ],
   "source": [
    "kingdom = [\"信\",\"王賁\",\"蒙恬\",\"蒙武\",\"王翦\",\"桓騎\",\"秦王\"]\n",
    "\n",
    "re = [i if i.startswith(\"王\") else \"その他\" for i in kingdom]\n",
    "print(re)"
   ]
  },
  {
   "cell_type": "code",
   "execution_count": 156,
   "id": "2dfb6285-9f7d-4569-9330-524f04f462b0",
   "metadata": {},
   "outputs": [
    {
     "name": "stdout",
     "output_type": "stream",
     "text": [
      "{1, 2}\n"
     ]
    }
   ],
   "source": [
    "num = [1, 1, 1, 2]\n",
    "\n",
    "re = {i for i in num}\n",
    "print(re)"
   ]
  },
  {
   "cell_type": "code",
   "execution_count": 161,
   "id": "50a21fc8-1a28-42bc-add9-f958827c33a3",
   "metadata": {},
   "outputs": [
    {
     "name": "stdout",
     "output_type": "stream",
     "text": [
      "{'検索': 'google', '通販': 'amazon', 'SNS': 'facebook', 'iPhone': 'apple'}\n"
     ]
    }
   ],
   "source": [
    "gafa = [\"google\",\"amazon\",\"facebook\",\"apple\"]\n",
    "product = [\"検索\",\"通販\",\"SNS\",\"iPhone\"]\n",
    "\n",
    "dic = {}\n",
    "for k, v in zip(gafa, product):\n",
    "    dic[v] = k\n",
    "    \n",
    "print(dic)"
   ]
  },
  {
   "cell_type": "code",
   "execution_count": 163,
   "id": "7af77d7a-d39f-4989-92b2-4f9d4dba1636",
   "metadata": {},
   "outputs": [
    {
     "name": "stdout",
     "output_type": "stream",
     "text": [
      "{'google': '検索', 'amazon': '通販', 'facebook': 'SNS', 'apple': 'iPhone'}\n"
     ]
    }
   ],
   "source": [
    "dic = {k:v for k, v in zip(gafa, product)}\n",
    "print(dic)"
   ]
  },
  {
   "cell_type": "code",
   "execution_count": 166,
   "id": "020354d0-c283-46aa-a541-67f94a50f681",
   "metadata": {},
   "outputs": [
    {
     "name": "stdout",
     "output_type": "stream",
     "text": [
      "{1: 'google', 2: 'amazon', 3: 'facebook', 4: 'apple'}\n"
     ]
    }
   ],
   "source": [
    "dic = {k:v for k, v in enumerate(gafa, 1)}\n",
    "print(dic)"
   ]
  },
  {
   "cell_type": "code",
   "execution_count": 168,
   "id": "5905e8e2-5d01-4236-b6c0-f3ca8e4cfd1d",
   "metadata": {},
   "outputs": [
    {
     "name": "stdout",
     "output_type": "stream",
     "text": [
      "太郎ワン\n"
     ]
    }
   ],
   "source": [
    "class animal():\n",
    "    def __init__(self, name):\n",
    "        self.name = name\n",
    "        \n",
    "class dog(animal):\n",
    "    def cry(self):\n",
    "        print(self.name + \"ワン\")\n",
    "        \n",
    "obj = dog(\"太郎\")\n",
    "obj.cry()"
   ]
  },
  {
   "cell_type": "code",
   "execution_count": 171,
   "id": "2e51b87b-2314-4e6b-afe5-f5cb7edf4985",
   "metadata": {},
   "outputs": [
    {
     "name": "stdout",
     "output_type": "stream",
     "text": [
      "I'm a太郎bow-bow\n",
      "I'm a次郎\n"
     ]
    }
   ],
   "source": [
    "class animal():\n",
    "    def __init__(self, name):\n",
    "        self.name = name\n",
    "    def message(self):\n",
    "        print(f\"I'm a{self.name}\")\n",
    "              \n",
    "class dog(animal):\n",
    "    def message(self):\n",
    "        print(f\"I'm a{self.name}bow-bow\")\n",
    "        \n",
    "tama = dog(\"太郎\")\n",
    "tama.message()\n",
    " \n",
    "tora = animal(\"次郎\")\n",
    "tora.message()"
   ]
  },
  {
   "cell_type": "code",
   "execution_count": 173,
   "id": "2cf9c92c-6338-4a3e-84a9-eb2fd7cb2a8a",
   "metadata": {},
   "outputs": [
    {
     "name": "stdout",
     "output_type": "stream",
     "text": [
      "私の名前は太郎です。年齢は25です。\n",
      "こんにちは\n"
     ]
    }
   ],
   "source": [
    "class Person():\n",
    "    def __init__(self, name, age):\n",
    "        self.name = name\n",
    "        self.age = age\n",
    "        \n",
    "    def say_name(self):\n",
    "        print(f\"私の名前は{self.name}です。年齢は{self.age}です。\")\n",
    "        \n",
    "class J_Person(Person):\n",
    "    def __init__(self, name, age):\n",
    "        super().__init__(name, age)\n",
    "        \n",
    "    def say_hello(self):\n",
    "        print(\"こんにちは\")\n",
    "        \n",
    "yamada = J_Person(\"太郎\", 25)\n",
    "yamada.say_name()\n",
    "yamada.say_hello()"
   ]
  },
  {
   "cell_type": "code",
   "execution_count": 176,
   "id": "9ece856e-82cc-46aa-8216-b36def400678",
   "metadata": {},
   "outputs": [
    {
     "name": "stdout",
     "output_type": "stream",
     "text": [
      "キック\n",
      "私の名前は太郎です。25歳です。\n",
      "キャッチ\n",
      "私の名前は次郎です。27歳です。\n"
     ]
    }
   ],
   "source": [
    "class Person():\n",
    "    def __init__(self, name, age):\n",
    "        self.name = name\n",
    "        self.age = age\n",
    "        \n",
    "    def introduce(self):\n",
    "        print(f\"私の名前は{self.name}です。{self.age}歳です。\")\n",
    "        \n",
    "class Soccer(Person):\n",
    "    \"\"\"サッカー選手\"\"\"\n",
    "    def kick(self):\n",
    "        print(\"キック\")\n",
    "        \n",
    "class Baseball(Person):\n",
    "    \"\"\"野球選手\"\"\"\n",
    "    def catch(self):\n",
    "        print(\"キャッチ\")\n",
    "        \n",
    "tarou = Soccer(\"太郎\", 25)\n",
    "tarou.kick()\n",
    "tarou.introduce()\n",
    "\n",
    "jirou = Baseball(\"次郎\", 27)\n",
    "jirou.catch()\n",
    "jirou.introduce()"
   ]
  },
  {
   "cell_type": "code",
   "execution_count": 188,
   "id": "fb2c470b-3f03-452e-aad3-03373ddc0afc",
   "metadata": {},
   "outputs": [
    {
     "name": "stdout",
     "output_type": "stream",
     "text": [
      "x = 10, y = 20\n",
      "z = 30\n",
      "x = 30, y = 40\n"
     ]
    }
   ],
   "source": [
    "class Class_A():\n",
    "    def __init__(self, x, y):\n",
    "        self.x = x\n",
    "        self.y = y\n",
    "        \n",
    "    def print_v(self):\n",
    "        print(f\"x = {self.x}, y = {self.y}\")\n",
    "        \n",
    "class Class_B(Class_A):\n",
    "    def __init__(self, x, y, z):\n",
    "        super().__init__(x, y)\n",
    "        self.z = z\n",
    "        \n",
    "    def print_v(self):\n",
    "        super().print_v()\n",
    "        print(f\"z = {self.z}\")\n",
    "        \n",
    "obj_A = Class_B(10, 20, 30)\n",
    "obj_A.print_v()\n",
    "\n",
    "obj_B = Class_A(30, 40)\n",
    "obj_B.print_v()"
   ]
  },
  {
   "cell_type": "code",
   "execution_count": 189,
   "id": "35173378-baac-4e35-8ea1-fbaf199cfca4",
   "metadata": {},
   "outputs": [
    {
     "name": "stdout",
     "output_type": "stream",
     "text": [
      "sub : 菅原\n",
      "Base : 菅原\n"
     ]
    }
   ],
   "source": [
    "class Base():\n",
    "    def test_method(self, msg):\n",
    "        print(f\"Base : {msg}\")\n",
    "        \n",
    "class sub(Base):\n",
    "    def test_method(self, msg):\n",
    "        print(f\"sub : {msg}\")\n",
    "        super().test_method(msg)\n",
    "        \n",
    "new = sub()\n",
    "new.test_method(\"菅原\")"
   ]
  },
  {
   "cell_type": "code",
   "execution_count": 190,
   "id": "ea4301cf-cb6a-4dd2-b2c5-4f3e09beadc2",
   "metadata": {},
   "outputs": [
    {
     "data": {
      "text/plain": [
       "'hello'"
      ]
     },
     "execution_count": 190,
     "metadata": {},
     "output_type": "execute_result"
    }
   ],
   "source": [
    "class Parent:\n",
    "    def __init__(self, a, b):\n",
    "        self.a = a\n",
    "        self.b = b\n",
    "    def w(self):\n",
    "        return self.b\n",
    "    \n",
    "class Child(Parent):\n",
    "    def w(self):\n",
    "        return super().w()\n",
    "    \n",
    "child = Child(0, \"hello\")\n",
    "child.w()"
   ]
  },
  {
   "cell_type": "code",
   "execution_count": 194,
   "id": "7d3cc4aa-4178-446c-9241-0b136907b1a8",
   "metadata": {},
   "outputs": [
    {
     "data": {
      "text/plain": [
       "'菅原'"
      ]
     },
     "execution_count": 194,
     "metadata": {},
     "output_type": "execute_result"
    }
   ],
   "source": [
    "class A:\n",
    "    def __init__(self, name):\n",
    "        self.name = name\n",
    "        \n",
    "class B(A):\n",
    "    def __init__(self, name, mail):\n",
    "        super().__init__(name)\n",
    "        self.mail = mail\n",
    "        \n",
    "b = B(\"菅原\", \"gmail\")\n",
    "b.name"
   ]
  },
  {
   "cell_type": "code",
   "execution_count": 200,
   "id": "aa103e35-5cc6-4890-8fbc-4ed6f1860be0",
   "metadata": {},
   "outputs": [
    {
     "name": "stdout",
     "output_type": "stream",
     "text": [
      "こんにちは\n",
      "私の名前は山田, 年齢は25\n"
     ]
    }
   ],
   "source": [
    "class Parent:\n",
    "    def __init__(self, name, age):\n",
    "        self.name = name\n",
    "        self.age = age\n",
    "        \n",
    "    def my_name(self):\n",
    "        print(f\"私の名前は{self.name}, 年齢は{self.age}\")\n",
    "        \n",
    "class Child(Parent):\n",
    "    def __init__(self, name, age):\n",
    "        super().__init__(name, age)\n",
    "        \n",
    "    def my_hello(self):\n",
    "        print(\"こんにちは\")\n",
    "        \n",
    "yamada = Child(\"山田\", 25)\n",
    "yamada.my_hello()\n",
    "yamada.my_name()"
   ]
  },
  {
   "cell_type": "code",
   "execution_count": 201,
   "id": "af85ec4c-64dc-4036-93d5-8b32891d27ef",
   "metadata": {},
   "outputs": [
    {
     "name": "stdout",
     "output_type": "stream",
     "text": [
      "Name : yamada\n",
      "Age : 25\n",
      "300\n",
      "500\n"
     ]
    }
   ],
   "source": [
    "class Student:\n",
    "    def __init__(self, name, age):\n",
    "        self.name = name\n",
    "        self.age = age\n",
    "        \n",
    "    def math(self, score):\n",
    "        print(score)\n",
    "        \n",
    "class Grade1(Student):\n",
    "    def __init__(self, name, age):\n",
    "        super().__init__(name, age)\n",
    "        print(f\"Name : {self.name}\")\n",
    "        print(f\"Age : {self.age}\")\n",
    "        \n",
    "    def english(self, score):\n",
    "        print(score)\n",
    "        \n",
    "yamada = Grade1(\"yamada\", 25)\n",
    "yamada.english(300)\n",
    "\n",
    "satou = Student(\"satou\", 35)\n",
    "satou.math(500)"
   ]
  },
  {
   "cell_type": "code",
   "execution_count": 206,
   "id": "a9cdaeda-b39c-4bfa-92a8-cbc8ea6b3bf2",
   "metadata": {},
   "outputs": [
    {
     "name": "stdout",
     "output_type": "stream",
     "text": [
      "56\n"
     ]
    }
   ],
   "source": [
    "class Base:\n",
    "    def __init__(self, num):\n",
    "        self.num = num\n",
    "        \n",
    "class Multi(Base):\n",
    "    def __init__(self, num):\n",
    "        super().__init__(num)\n",
    "        self.num *= 10\n",
    "        \n",
    "class Add(Base):\n",
    "    def __init__(self, num):\n",
    "        super().__init__(num)\n",
    "        self.num += 6\n",
    "        \n",
    "class Multiplex(Add, Multi):\n",
    "    def __init__(self, num):\n",
    "        super().__init__(num)\n",
    "        \n",
    "M = Multiplex(5)\n",
    "print(M.num)"
   ]
  },
  {
   "cell_type": "code",
   "execution_count": 207,
   "id": "cda03582-d751-4b4f-995e-797e2db4d896",
   "metadata": {},
   "outputs": [
    {
     "name": "stdout",
     "output_type": "stream",
     "text": [
      "suzuki\n"
     ]
    }
   ],
   "source": [
    "class test:\n",
    "    def __init__(self):\n",
    "        self.name = \"\"\n",
    "        \n",
    "a1 = test()\n",
    "a1.name = \"suzuki\"\n",
    "print(a1.name)"
   ]
  },
  {
   "cell_type": "code",
   "execution_count": 209,
   "id": "f7377927-4a80-4486-88e1-90cd81bae2e1",
   "metadata": {},
   "outputs": [
    {
     "name": "stdout",
     "output_type": "stream",
     "text": [
      "3\n"
     ]
    }
   ],
   "source": [
    "class test:\n",
    "    count = 0\n",
    "    \n",
    "    def __init__(self):\n",
    "        test.count += 1\n",
    "        \n",
    "a1 = test()\n",
    "a2 = test()\n",
    "a3 = test()\n",
    "print(test.count)"
   ]
  },
  {
   "cell_type": "code",
   "execution_count": null,
   "id": "c672e1ca-5a26-4413-a687-73beff6c13ae",
   "metadata": {},
   "outputs": [],
   "source": [
    "class MyClass:\n",
    "    pass\n",
    "\n",
    "a1 = MyClass()\n",
    "a1.name2 = \"tanaka\""
   ]
  },
  {
   "cell_type": "code",
   "execution_count": 215,
   "id": "dde7e55b-87a4-47f6-8394-60526048dd57",
   "metadata": {},
   "outputs": [
    {
     "name": "stdout",
     "output_type": "stream",
     "text": [
      "tanaka\n"
     ]
    }
   ],
   "source": [
    "class Myclass:\n",
    "    name = \"\"\n",
    "    def setName(self, name):\n",
    "        self.name = name\n",
    "        return self.name\n",
    "        \n",
    "a = Myclass()\n",
    "b = a.setName(\"tanaka\")\n",
    "print(b)"
   ]
  },
  {
   "cell_type": "code",
   "execution_count": 217,
   "id": "419e906f-9ed0-4b65-8c8b-5206cf22d2f9",
   "metadata": {},
   "outputs": [
    {
     "name": "stdout",
     "output_type": "stream",
     "text": [
      "tanaka\n"
     ]
    }
   ],
   "source": [
    "class MyClass:\n",
    "    def __init__(self, name):\n",
    "        self.name = name\n",
    "    def getName(self):\n",
    "        return self.name\n",
    "    \n",
    "a = MyClass(\"tanaka\")\n",
    "print(a.getName())"
   ]
  },
  {
   "cell_type": "code",
   "execution_count": 220,
   "id": "82bfd2f9-b444-4270-86af-a20b24187a33",
   "metadata": {},
   "outputs": [
    {
     "name": "stdout",
     "output_type": "stream",
     "text": [
      "INIT\n",
      "DEL\n"
     ]
    }
   ],
   "source": [
    "class MyClass:\n",
    "    def __init__(self):\n",
    "        print(\"INIT\")\n",
    "    def __del__(self):\n",
    "        print(\"DEL\")\n",
    "        \n",
    "a = MyClass()\n",
    "del a"
   ]
  },
  {
   "cell_type": "code",
   "execution_count": 223,
   "id": "7a2c7e93-991f-47ec-b967-77353d3492bf",
   "metadata": {},
   "outputs": [
    {
     "name": "stdout",
     "output_type": "stream",
     "text": [
      "My name is菅原\n"
     ]
    }
   ],
   "source": [
    "class Myclass:\n",
    "    def __init__(self, name):\n",
    "        self.name = name\n",
    "        \n",
    "    def __str__(self):\n",
    "        return \"My name is\" + self.name\n",
    "    \n",
    "a = Myclass(\"菅原\")\n",
    "print(a)"
   ]
  },
  {
   "cell_type": "code",
   "execution_count": 233,
   "id": "3f04f752-d2c9-41f1-887d-21a263acf943",
   "metadata": {},
   "outputs": [
    {
     "name": "stdout",
     "output_type": "stream",
     "text": [
      "hello hello\n",
      "hello\n"
     ]
    }
   ],
   "source": [
    "class Myclass:\n",
    "    def hello(self):\n",
    "        print(\"hello\")\n",
    "        \n",
    "class Myclass2(Myclass):\n",
    "    def hello(self):\n",
    "        print(\"hello hello\")\n",
    "        \n",
    "a = Myclass2()\n",
    "a.hello()\n",
    "\n",
    "b = Myclass()\n",
    "b.hello()"
   ]
  },
  {
   "cell_type": "code",
   "execution_count": 230,
   "id": "6c67a1a6-9b48-4fc3-b1e3-ea8ed3d0c227",
   "metadata": {},
   "outputs": [
    {
     "name": "stdout",
     "output_type": "stream",
     "text": [
      "123\n",
      "456\n"
     ]
    }
   ],
   "source": [
    "class Myclass:\n",
    "    def __init__(self):\n",
    "        self.val1 = 123\n",
    "        \n",
    "class Myclass2(Myclass):\n",
    "    def __init__(self):\n",
    "        super().__init__()\n",
    "        self.val2 = 456\n",
    "        \n",
    "a = Myclass()\n",
    "b = Myclass2()\n",
    "print(a.val1)\n",
    "print(b.val2)\n",
    "\n"
   ]
  },
  {
   "cell_type": "code",
   "execution_count": 234,
   "id": "7df7612b-5704-437a-9bed-2d4de3c969e6",
   "metadata": {},
   "outputs": [
    {
     "name": "stdout",
     "output_type": "stream",
     "text": [
      "30\n"
     ]
    }
   ],
   "source": [
    "def add(x, y):\n",
    "    return x + y\n",
    "\n",
    "print(add(10, 20))"
   ]
  },
  {
   "cell_type": "code",
   "execution_count": 236,
   "id": "e3083e0e-3453-4373-9096-9484d6a8eee0",
   "metadata": {},
   "outputs": [
    {
     "name": "stdout",
     "output_type": "stream",
     "text": [
      "30\n"
     ]
    }
   ],
   "source": [
    "def add(x, y):\n",
    "    ans = x + y\n",
    "    return ans\n",
    "\n",
    "n = add(10, 20)\n",
    "print(n)"
   ]
  },
  {
   "cell_type": "code",
   "execution_count": 238,
   "id": "40fafee1-0a3f-489c-addb-8fdb03cd07af",
   "metadata": {},
   "outputs": [
    {
     "name": "stdout",
     "output_type": "stream",
     "text": [
      "3\n",
      "ABC\n",
      "3 ABC\n"
     ]
    }
   ],
   "source": [
    "def func():\n",
    "    return 3, \"ABC\"\n",
    "\n",
    "x, y = func()\n",
    "print(x)\n",
    "print(y)\n",
    "print(x, y)"
   ]
  },
  {
   "cell_type": "code",
   "execution_count": 243,
   "id": "c2e955d1-5e8b-4c07-a387-4621a9277e34",
   "metadata": {},
   "outputs": [
    {
     "name": "stdout",
     "output_type": "stream",
     "text": [
      "hello 0\n",
      "hello 0\n",
      "hello 1\n",
      "hello 2\n",
      "hello 3\n",
      "hello 4\n"
     ]
    }
   ],
   "source": [
    "def r_msg(msg, r=1):\n",
    "    for i in range(r):\n",
    "        print(msg, i)\n",
    "        \n",
    "r_msg(\"hello\")\n",
    "r_msg(\"hello\", 5)"
   ]
  },
  {
   "cell_type": "code",
   "execution_count": 244,
   "id": "0c69ca9e-9ce9-4565-816f-05929def6ae6",
   "metadata": {},
   "outputs": [
    {
     "name": "stdout",
     "output_type": "stream",
     "text": [
      "30\n"
     ]
    }
   ],
   "source": [
    "myfunc = lambda x, y : x + y\n",
    "print(myfunc(10, 20))"
   ]
  },
  {
   "cell_type": "code",
   "execution_count": 247,
   "id": "947079a2-5ab5-4826-8eaf-d4ea14dc7a6b",
   "metadata": {},
   "outputs": [
    {
     "name": "stdout",
     "output_type": "stream",
     "text": [
      "[1, 4, 9]\n"
     ]
    }
   ],
   "source": [
    "a = [1, 2, 3]\n",
    "l = (list(map(lambda x : x ** 2, a)))\n",
    "print(l)"
   ]
  }
 ],
 "metadata": {
  "kernelspec": {
   "display_name": "Python 3 (ipykernel)",
   "language": "python",
   "name": "python3"
  },
  "language_info": {
   "codemirror_mode": {
    "name": "ipython",
    "version": 3
   },
   "file_extension": ".py",
   "mimetype": "text/x-python",
   "name": "python",
   "nbconvert_exporter": "python",
   "pygments_lexer": "ipython3",
   "version": "3.10.9"
  }
 },
 "nbformat": 4,
 "nbformat_minor": 5
}
