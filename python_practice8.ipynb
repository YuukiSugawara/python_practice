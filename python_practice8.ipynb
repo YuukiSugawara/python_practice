{
 "cells": [
  {
   "cell_type": "code",
   "execution_count": 3,
   "id": "254cf410-1239-4f51-abce-a6497de11f8e",
   "metadata": {},
   "outputs": [
    {
     "name": "stdout",
     "output_type": "stream",
     "text": [
      "開始\n",
      "called func2\n",
      "終了\n"
     ]
    }
   ],
   "source": [
    "def func1(f):\n",
    "    def wrapper():\n",
    "        print(\"開始\")\n",
    "        f()\n",
    "        print(\"終了\")\n",
    "    return wrapper\n",
    "\n",
    "def func2():\n",
    "    print(\"called func2\")\n",
    "    \n",
    "func1(func2)()"
   ]
  },
  {
   "cell_type": "code",
   "execution_count": 14,
   "id": "194ad501-f264-45c9-8e05-2784948e4c03",
   "metadata": {},
   "outputs": [
    {
     "name": "stdout",
     "output_type": "stream",
     "text": [
      "開始\n",
      "9\n",
      "終了\n",
      "開始\n",
      "27\n",
      "終了\n"
     ]
    }
   ],
   "source": [
    "def dec(f):\n",
    "    def wrapper(*args, **kwargs):\n",
    "        print(\"開始\")\n",
    "        f(*args, **kwargs)\n",
    "        print(\"終了\")\n",
    "    return wrapper\n",
    "\n",
    "@calc2\n",
    "def calc1(a, b):\n",
    "    print(a * b)\n",
    "    \n",
    "@calc2\n",
    "def calc2(a, b, c):\n",
    "    print(a * b * c)\n",
    "    \n",
    "calc1(3, 3)\n",
    "calc2(3, 3, 3)"
   ]
  },
  {
   "cell_type": "code",
   "execution_count": 15,
   "id": "f8dca71a-1a65-4009-a61f-5051d2816aa8",
   "metadata": {},
   "outputs": [
    {
     "name": "stdout",
     "output_type": "stream",
     "text": [
      "開始\n",
      "hello\n",
      "終了\n"
     ]
    }
   ],
   "source": [
    "def dec(f):\n",
    "    def wrapper():\n",
    "        print(\"開始\")\n",
    "        f()\n",
    "        print(\"終了\")\n",
    "    return wrapper\n",
    "\n",
    "def say_hello():\n",
    "    print(\"hello\")\n",
    "    \n",
    "dec(say_hello)()"
   ]
  },
  {
   "cell_type": "code",
   "execution_count": 16,
   "id": "d2f6abb0-14a9-4cfd-9fda-b274f161f6e2",
   "metadata": {},
   "outputs": [
    {
     "name": "stdout",
     "output_type": "stream",
     "text": [
      "開始\n",
      "hello\n",
      "終了\n"
     ]
    }
   ],
   "source": [
    "def dec(f):\n",
    "    def wrapper():\n",
    "        print(\"開始\")\n",
    "        f()\n",
    "        print(\"終了\")\n",
    "    return wrapper\n",
    "\n",
    "@dec\n",
    "def say_hello():\n",
    "    print(\"hello\")\n",
    "    \n",
    "say_hello()"
   ]
  },
  {
   "cell_type": "code",
   "execution_count": 21,
   "id": "8c2b390c-574c-4305-beb2-53a5b9f2af38",
   "metadata": {},
   "outputs": [
    {
     "name": "stdout",
     "output_type": "stream",
     "text": [
      "開始\n",
      "こんにちは、菅原さん!\n",
      "終了\n",
      "-------------\n"
     ]
    }
   ],
   "source": [
    "def deco(f):\n",
    "    def wrapper(str):\n",
    "        print(\"開始\")\n",
    "        f(str)\n",
    "        print(\"終了\")\n",
    "        return \"-------------\"\n",
    "    return wrapper\n",
    "\n",
    "@deco\n",
    "def say_hello(str):\n",
    "    print(f\"こんにちは、{str}さん!\")\n",
    "    return \"hello return\"\n",
    "\n",
    "print(say_hello(\"菅原\"))"
   ]
  },
  {
   "cell_type": "code",
   "execution_count": 28,
   "id": "f1167658-094f-4db7-a027-a7dcdc1cc706",
   "metadata": {},
   "outputs": [
    {
     "name": "stdin",
     "output_type": "stream",
     "text": [
      "あなたの会員ランクは? silver\n"
     ]
    },
    {
     "name": "stdout",
     "output_type": "stream",
     "text": [
      "あなたは会員ではありません。\n"
     ]
    }
   ],
   "source": [
    "x = input(\"あなたの会員ランクは?\")\n",
    "user = {\"name\":\"菅原\", \"member\":str(x)}\n",
    "\n",
    "def deco(f):\n",
    "    def judge_func():\n",
    "        if user.get(\"member\") == \"gold\":\n",
    "            f()\n",
    "        else:\n",
    "            print(\"あなたは会員ではありません。\")\n",
    "            \n",
    "    return judge_func\n",
    "\n",
    "@deco\n",
    "def welcome_func():\n",
    "    print(\"20%クーポン獲得!!\")\n",
    "    \n",
    "welcome_func()"
   ]
  },
  {
   "cell_type": "code",
   "execution_count": 34,
   "id": "e65ca89a-c4f6-46df-9734-cdcf4e063b8e",
   "metadata": {},
   "outputs": [],
   "source": [
    "import re"
   ]
  },
  {
   "cell_type": "code",
   "execution_count": 35,
   "id": "d2f1c0cd-304a-416c-a721-d68c0686cd09",
   "metadata": {},
   "outputs": [
    {
     "name": "stdout",
     "output_type": "stream",
     "text": [
      "<re.Match object; span=(0, 3), match='090'>\n",
      "090\n",
      "(0, 3)\n"
     ]
    }
   ],
   "source": [
    "s = \"090333\"\n",
    "m = re.match(r\"[0-9]{3}\", s)\n",
    "print(m)\n",
    "if m:\n",
    "    print(m.group())\n",
    "    print(m.span())"
   ]
  },
  {
   "cell_type": "code",
   "execution_count": 43,
   "id": "a7b8888e-5ff5-44cf-88b2-40108dcca417",
   "metadata": {},
   "outputs": [
    {
     "name": "stdout",
     "output_type": "stream",
     "text": [
      "<re.Match object; span=(0, 3), match='300'>\n",
      "300\n",
      "(0, 3)\n"
     ]
    }
   ],
   "source": [
    "import re\n",
    "\n",
    "s = \"300円です\"\n",
    "m = re.search(r\"[1-9][0-9]*\", s)\n",
    "print(m)\n",
    "if m:\n",
    "    print(m.group())\n",
    "    print(m.span())"
   ]
  },
  {
   "cell_type": "code",
   "execution_count": 50,
   "id": "9caa341d-ba83-4319-9fd7-df85cf94a89a",
   "metadata": {},
   "outputs": [
    {
     "name": "stdout",
     "output_type": "stream",
     "text": [
      "<class 're.Match'>\n",
      "<re.Match object; span=(0, 5), match='abcde'>\n",
      "0\n",
      "abcde\n"
     ]
    }
   ],
   "source": [
    "s = \"abcde, 12345, a123e\"\n",
    "res = re.match(r\"a...e\", s)\n",
    "\n",
    "print(type(res))\n",
    "\n",
    "print(res)\n",
    "\n",
    "print(res.start())\n",
    "\n",
    "print(res.group())"
   ]
  },
  {
   "cell_type": "code",
   "execution_count": 60,
   "id": "5c8d4411-b1cb-4566-b2bb-8ed91667283f",
   "metadata": {},
   "outputs": [
    {
     "name": "stdout",
     "output_type": "stream",
     "text": [
      "<re.Match object; span=(0, 5), match='abcde'>\n",
      "<re.Match object; span=(14, 19), match='a123e'>\n"
     ]
    }
   ],
   "source": [
    "s = \"abcde, 12345, a123e\"\n",
    "res = re.finditer(r\"a...e\", s)\n",
    "\n",
    "for i in res:\n",
    "    print(i)"
   ]
  },
  {
   "cell_type": "code",
   "execution_count": 66,
   "id": "20463c90-fd52-4b5b-9099-7029349dd1f4",
   "metadata": {},
   "outputs": [
    {
     "name": "stdout",
     "output_type": "stream",
     "text": [
      "['090-3898-7597']\n"
     ]
    }
   ],
   "source": [
    "import re\n",
    "\n",
    "pattern = \"\\d{3}-\\d{4}-\\d{4}\"\n",
    "text = \"電話番号は090-3898-7597です\"\n",
    "\n",
    "phone_list = re.findall(pattern, text)\n",
    "print(phone_list)"
   ]
  },
  {
   "cell_type": "code",
   "execution_count": 24,
   "id": "8ce2feaf-fb0a-481a-ae23-d21a17b7d807",
   "metadata": {},
   "outputs": [
    {
     "name": "stdout",
     "output_type": "stream",
     "text": [
      "電話番号:090-3898-7597\n",
      "電話番号ではないです。\n",
      "電話番号:080-1234-5678\n"
     ]
    }
   ],
   "source": [
    "import re\n",
    "\n",
    "pattern = \"\\d{3}-\\d{4}-\\d{4}\"\n",
    "mail_list = [\"090-3898-7597\", \"こんにちは\", \"080-1234-5678\"]\n",
    "\n",
    "for i in mail_list:\n",
    "    if re.match(pattern, i):\n",
    "        print(\"電話番号:\" + i)    \n",
    "    else:\n",
    "        print(\"電話番号ではないです。\")"
   ]
  },
  {
   "cell_type": "code",
   "execution_count": 22,
   "id": "371ffebb-4ba5-4b38-97a3-62032f440e1e",
   "metadata": {},
   "outputs": [
    {
     "name": "stdout",
     "output_type": "stream",
     "text": [
      "['090-3898-7597']\n"
     ]
    }
   ],
   "source": [
    "import re\n",
    "\n",
    "aaa = \"北海道札幌市 090-3898-7597 菅原\"\n",
    "\n",
    "phone_list = re.findall(\"\\d{3}-\\d{4}-\\d{4}\", aaa)\n",
    "\n",
    "if phone_list:\n",
    "    print(phone_list)"
   ]
  },
  {
   "cell_type": "code",
   "execution_count": 26,
   "id": "bf039d6d-e4df-451a-b66f-6fc7b3231be8",
   "metadata": {},
   "outputs": [
    {
     "name": "stdout",
     "output_type": "stream",
     "text": [
      "['080-3898-7597']\n",
      "電話番号: ['080-3898-7597']\n"
     ]
    }
   ],
   "source": [
    "import re\n",
    "\n",
    "pattern = r\"\\d{3}-\\d{4}-\\d{4}|\\d{4}-\\{3}-\\{4}\"\n",
    "text = \"私の電話番号は080-3898-7597です。問い合わせは0120-345-6789までお願いします。\"\n",
    "\n",
    "match = re.findall(pattern, text)\n",
    "print(match)\n",
    "\n",
    "if match:\n",
    "    for i in match:\n",
    "        print(\"電話番号:\", match)\n",
    "        \n",
    "else:\n",
    "    print(\"電話番号はありませんでした\")"
   ]
  },
  {
   "cell_type": "code",
   "execution_count": 35,
   "id": "d09b80f6-d934-4c01-b730-85c873d8e7ab",
   "metadata": {},
   "outputs": [
    {
     "name": "stdout",
     "output_type": "stream",
     "text": [
      "携帯電話: 090-3898-7597\n",
      "固定電話: 1234-56-7890\n",
      "電話番号ではありません 123456789\n",
      "電話番号ではありません 090-aaaa-bbbb\n"
     ]
    }
   ],
   "source": [
    "ph_num = \"^\\d{4}-\\d{2}-\\d{4}$\"\n",
    "mb_num = \"^\\d{3}-\\d{4}-\\d{4}$\"\n",
    "\n",
    "ph_num_pattern = re.compile(ph_num)\n",
    "mb_num_pattern = re.compile(mb_num)\n",
    "\n",
    "num_list = [\"090-3898-7597\", \"1234-56-7890\", \"123456789\", \"090-aaaa-bbbb\"]\n",
    "\n",
    "for target in num_list:\n",
    "    \n",
    "    #ph_numのパターンと同じじゃなかったらNoneが出力される。\n",
    "    if ph_num_pattern.match(target) != None:\n",
    "        print(\"固定電話:\", target)\n",
    "        \n",
    "    #mb_numのパターンと同じじゃなかったらNoneが出力される。\n",
    "    elif mb_num_pattern.match(target) != None:\n",
    "        print(\"携帯電話:\", target)\n",
    "    \n",
    "    #上記2つ以外の場合\n",
    "    else:\n",
    "        print(\"電話番号ではありません\", target)"
   ]
  },
  {
   "cell_type": "code",
   "execution_count": 52,
   "id": "34188a2e-efd3-4439-82ed-5fdb78eb0846",
   "metadata": {},
   "outputs": [
    {
     "name": "stdout",
     "output_type": "stream",
     "text": [
      "('090', '3898', '7597')\n",
      "('03', '1234', '5678')\n"
     ]
    }
   ],
   "source": [
    "import re\n",
    "\n",
    "s = \"携帯番号は090-3898-7597で自宅番号は03(1234)5678です。\"\n",
    "pattern = \"(\\d{1,4}).(\\d{1,4}).(\\d{1,4})\"\n",
    "result = re.finditer(pattern, s)\n",
    "\n",
    "for i in result:\n",
    "    print(i.groups())"
   ]
  }
 ],
 "metadata": {
  "kernelspec": {
   "display_name": "Python 3 (ipykernel)",
   "language": "python",
   "name": "python3"
  },
  "language_info": {
   "codemirror_mode": {
    "name": "ipython",
    "version": 3
   },
   "file_extension": ".py",
   "mimetype": "text/x-python",
   "name": "python",
   "nbconvert_exporter": "python",
   "pygments_lexer": "ipython3",
   "version": "3.10.9"
  }
 },
 "nbformat": 4,
 "nbformat_minor": 5
}
