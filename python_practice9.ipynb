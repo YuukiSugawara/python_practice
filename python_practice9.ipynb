{
 "cells": [
  {
   "cell_type": "code",
   "execution_count": null,
   "id": "89fca79f-ba02-42c8-8e5c-ddd9d5963cfd",
   "metadata": {},
   "outputs": [],
   "source": [
    "#int型の変数であるnumを用意し、numが以下条件の時にコロン(:)右側の文字列を出力する。\n",
    "\n",
    "#numが正の値の場合:正の値です。\n",
    "#numが0の場合:0です。\n",
    "#numが負の値の場合:負の値です。"
   ]
  },
  {
   "cell_type": "code",
   "execution_count": 10,
   "id": "67fcdaf0-2338-4206-a2dd-f14fd6475ef5",
   "metadata": {},
   "outputs": [
    {
     "name": "stdout",
     "output_type": "stream",
     "text": [
      "入力数値は0です\n"
     ]
    }
   ],
   "source": [
    "num = 0\n",
    "\n",
    "if num < 0:\n",
    "    print(f\"入力数値{num}は負の値です\")\n",
    "elif num > 0:\n",
    "    print(f\"入力数値{num}は正の値です\")\n",
    "elif num == 0:\n",
    "    print(f\"入力数値は{num}です\")\n",
    "    "
   ]
  },
  {
   "cell_type": "code",
   "execution_count": null,
   "id": "8a7c51c0-8a5d-4fb1-addc-c21aa035f064",
   "metadata": {},
   "outputs": [],
   "source": [
    "#複数条件の指定をする。\n",
    "\n",
    "#aは整数。\n",
    "#aが0以上10未満かつ偶数の場合:一桁の偶数です。\n",
    "#aが0未満かつ奇数の場合:負の奇数です。\n",
    "#それ以外:整数です。"
   ]
  },
  {
   "cell_type": "code",
   "execution_count": 21,
   "id": "e1ac16cb-bd93-4605-928b-48af21fe1ef4",
   "metadata": {},
   "outputs": [
    {
     "name": "stdout",
     "output_type": "stream",
     "text": [
      "-1は負の奇数です\n"
     ]
    }
   ],
   "source": [
    "a = -1\n",
    "\n",
    "if a >= 0 and a < 10 and a % 2 == 0:\n",
    "    print(f\"{a}は一桁の偶数です\")\n",
    "elif a < 0 and a % 2 != 0:\n",
    "    print(f\"{a}は負の奇数です\")\n",
    "else:\n",
    "    print(f\"{a}は整数です\")"
   ]
  },
  {
   "cell_type": "code",
   "execution_count": 22,
   "id": "c78567a7-ed5c-4ec8-8e85-7c3c4f42d85b",
   "metadata": {},
   "outputs": [
    {
     "name": "stdout",
     "output_type": "stream",
     "text": [
      "John\n",
      "Kevin\n",
      "Louis\n"
     ]
    }
   ],
   "source": [
    "names = [\"John\", \"Kevin\", \"Louis\"]\n",
    "\n",
    "for i in names:\n",
    "    print(i)"
   ]
  },
  {
   "cell_type": "code",
   "execution_count": 25,
   "id": "7e792ec4-aca6-44e2-a88c-30a9c00467e5",
   "metadata": {},
   "outputs": [
    {
     "name": "stdout",
     "output_type": "stream",
     "text": [
      "1\n",
      "2\n",
      "4\n",
      "5\n",
      "6\n",
      "7\n",
      "8\n",
      "9\n",
      "10\n"
     ]
    }
   ],
   "source": [
    "for i in range(1, 11):\n",
    "    if i == 3:\n",
    "        continue\n",
    "    else:\n",
    "        print(i)"
   ]
  },
  {
   "cell_type": "code",
   "execution_count": 26,
   "id": "e5fe7c42-fcc7-49fe-ac6f-4ec216689e4c",
   "metadata": {},
   "outputs": [],
   "source": [
    "#以下リストからそれぞれ姓名を同時に出力しましょう。\n",
    "lasts = [\"加藤\", \"佐藤\", \"田中\"]\n",
    "first = [\"雄一\", \"拓也\", \"太郎\"]"
   ]
  },
  {
   "cell_type": "code",
   "execution_count": 31,
   "id": "e2271b08-0b07-4ae5-8efe-a301730e5a7c",
   "metadata": {},
   "outputs": [
    {
     "name": "stdout",
     "output_type": "stream",
     "text": [
      "加藤雄一\n",
      "佐藤拓也\n",
      "田中太郎\n"
     ]
    }
   ],
   "source": [
    "for x, y in zip(lasts, first):\n",
    "    print(x + y)"
   ]
  },
  {
   "cell_type": "code",
   "execution_count": 33,
   "id": "01297434-f663-476c-85ed-b99aa701c952",
   "metadata": {},
   "outputs": [],
   "source": [
    "#下記リストから要素とインデックスを取得し、「xx番のyyです。」と出力する。　例) 0番の加藤です。\n",
    "lasts = [\"加藤\", \"佐藤\", \"田中\"]"
   ]
  },
  {
   "cell_type": "code",
   "execution_count": 35,
   "id": "a630d267-7a6c-405c-9468-ebb18c077b05",
   "metadata": {},
   "outputs": [
    {
     "name": "stdout",
     "output_type": "stream",
     "text": [
      "1番目の加藤です。\n",
      "2番目の佐藤です。\n",
      "3番目の田中です。\n"
     ]
    }
   ],
   "source": [
    "for x, y in enumerate(lasts, start=1):\n",
    "    print(f\"{x}番目の{y}です。\")"
   ]
  },
  {
   "cell_type": "code",
   "execution_count": null,
   "id": "9feec677-3cfa-4913-8842-6dbeb14bd965",
   "metadata": {},
   "outputs": [],
   "source": [
    "#9までの2の倍数のリストを作成する。その後その処理を内包表記で記載する。"
   ]
  },
  {
   "cell_type": "code",
   "execution_count": 36,
   "id": "695f9a4c-7e8e-4fdc-b2bd-a4f8ad4314e7",
   "metadata": {},
   "outputs": [
    {
     "name": "stdout",
     "output_type": "stream",
     "text": [
      "[0, 2, 4, 6, 8]\n"
     ]
    }
   ],
   "source": [
    "nums = []\n",
    "\n",
    "for i in range(5):\n",
    "    nums.append(2*i)\n",
    "\n",
    "print(nums)"
   ]
  },
  {
   "cell_type": "code",
   "execution_count": 37,
   "id": "3cd7bd04-0275-4ad2-9a78-6251bc775eec",
   "metadata": {},
   "outputs": [
    {
     "name": "stdout",
     "output_type": "stream",
     "text": [
      "[0, 2, 4, 6, 8]\n"
     ]
    }
   ],
   "source": [
    "numbers = [2*i for i in range(5)]\n",
    "print(numbers)"
   ]
  },
  {
   "cell_type": "code",
   "execution_count": null,
   "id": "ca892294-1f82-4fe3-823b-e1d4cdcfd053",
   "metadata": {},
   "outputs": [],
   "source": [
    "#10をnumで割ったときの結果を表示させる。0で割った(割れない)ときに「エラー」と出力する。"
   ]
  },
  {
   "cell_type": "code",
   "execution_count": 43,
   "id": "b9111921-3291-4240-8efa-966078f1323b",
   "metadata": {},
   "outputs": [
    {
     "name": "stdout",
     "output_type": "stream",
     "text": [
      "division by zero\n"
     ]
    }
   ],
   "source": [
    "num = 0\n",
    "try:\n",
    "    print(f\"計算結果:{10/num}\")\n",
    "    \n",
    "except ZeroDivisionError as e:\n",
    "    print(e)"
   ]
  },
  {
   "cell_type": "code",
   "execution_count": 59,
   "id": "c2909f86-6be6-4857-942f-ae9df8293372",
   "metadata": {},
   "outputs": [],
   "source": [
    "#次の関数では変数a,bが数値のとき正常に計算が行われます。\n",
    "#a,bが文字列の場合に例外処理(TypeError)をexcept追加して実装する。\n",
    "\n",
    "def divide(a, b):\n",
    "    try:\n",
    "        print(f\"計算結果:{a/b}\")\n",
    "    except ZeroDivisionError as e:\n",
    "        print(e)\n",
    "    except TypeError as e:\n",
    "        print(f\"引数の型はintにしてください{e}\")\n",
    "    else:\n",
    "        print(\"正常に終了しました\")"
   ]
  },
  {
   "cell_type": "code",
   "execution_count": 60,
   "id": "ceb88714-1f11-4219-9dc7-09689ec71a2e",
   "metadata": {},
   "outputs": [
    {
     "name": "stdout",
     "output_type": "stream",
     "text": [
      "計算結果:5.0\n",
      "正常に終了しました\n"
     ]
    }
   ],
   "source": [
    "divide(10, 2)"
   ]
  },
  {
   "cell_type": "code",
   "execution_count": null,
   "id": "3490d857-2ebf-4c78-84ff-96edc374105c",
   "metadata": {},
   "outputs": [],
   "source": [
    "#次の関数でTypeErrorの例外処理が発生した場合、何も処理を行わずスルーする。\n",
    "\n",
    "def divide(a, b):\n",
    "    try:\n",
    "        print(f\"計算結果:{a/b}\")\n",
    "    except ZeroDivisionError as e:\n",
    "        print(e)\n",
    "    except TypeError as e:\n",
    "        print(e)\n",
    "    finally:\n",
    "        print(\"全ての処理が終了しました\")"
   ]
  },
  {
   "cell_type": "code",
   "execution_count": null,
   "id": "6de1ab15-e655-4402-afc9-65b25ca4bbcb",
   "metadata": {},
   "outputs": [],
   "source": [
    "#Personクラスを作成しクラス変数はnationality:\"japan\"、クラスメソッドとしてsay_helloを実装する。\n",
    "#say_helloメソッドでは「こんにちは、私の国籍は〇〇です」と出力されるようにする。"
   ]
  }
 ],
 "metadata": {
  "kernelspec": {
   "display_name": "Python 3 (ipykernel)",
   "language": "python",
   "name": "python3"
  },
  "language_info": {
   "codemirror_mode": {
    "name": "ipython",
    "version": 3
   },
   "file_extension": ".py",
   "mimetype": "text/x-python",
   "name": "python",
   "nbconvert_exporter": "python",
   "pygments_lexer": "ipython3",
   "version": "3.10.9"
  }
 },
 "nbformat": 4,
 "nbformat_minor": 5
}
