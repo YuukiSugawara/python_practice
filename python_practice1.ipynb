{
 "cells": [
  {
   "cell_type": "code",
   "execution_count": null,
   "id": "7b73ad2b-b184-4b8b-bbe9-90af980b2e6c",
   "metadata": {},
   "outputs": [],
   "source": [
    "#https://www.youtube.com/watch?v=Gh0qRBHbnVs&t=12s\n",
    "#問題についての動画↑"
   ]
  },
  {
   "cell_type": "code",
   "execution_count": 6,
   "id": "22bd90ed-e009-4f7a-8db2-7b854d757bd7",
   "metadata": {},
   "outputs": [],
   "source": [
    "#リストの数字が偶数か奇数教えてくれる関数を作成し、偶数のみリスト化する(filter関数を使用する)\n",
    "numbers = [0, 3, 8, -4, 9, 1]"
   ]
  },
  {
   "cell_type": "code",
   "execution_count": 7,
   "id": "7b7aa640-72a9-41cf-8939-52813973dbee",
   "metadata": {},
   "outputs": [
    {
     "name": "stdout",
     "output_type": "stream",
     "text": [
      "0は偶数です。\n",
      "3は奇数です。\n",
      "8は偶数です。\n",
      "-4は偶数です。\n",
      "9は奇数です。\n",
      "1は奇数です。\n"
     ]
    },
    {
     "data": {
      "text/plain": [
       "[0, 8, -4]"
      ]
     },
     "execution_count": 7,
     "metadata": {},
     "output_type": "execute_result"
    }
   ],
   "source": [
    "def isEven(number):\n",
    "    if number % 2 == 0:\n",
    "        print(f\"{number}は偶数です。\")\n",
    "        return True\n",
    "    else:\n",
    "        print(f\"{number}は奇数です。\")\n",
    "        return False\n",
    "    \n",
    "#第一引数に関数(TrueとFalseを出力する関数であること)第二引数にリスト名やタプル(イテラブルオブジェクト)のような反復が可能なオブジェクトを指定する。\n",
    "#反復処理していく中でTrueで返される要素のみを抽出することが出来る。下記記述で偶数のみ抽出出来る。\n",
    "list(filter(isEven, numbers))"
   ]
  },
  {
   "cell_type": "code",
   "execution_count": 9,
   "id": "2235c053-0aef-4b3b-8d6e-066059ed0340",
   "metadata": {},
   "outputs": [],
   "source": [
    "#キーのみ表示、全てのキーと値の表示(for文を使用する)、値の中に男性という文字列が存在するか(Trueで結果を出力)\n",
    "dictionary = {\"A\":\"今西\", \"B\":\"航平\", \"C\":\"男性\", \"D\":\"東京都\", \"E\":\"海外旅行\"}"
   ]
  },
  {
   "cell_type": "code",
   "execution_count": 10,
   "id": "e02694a8-abb3-49c0-a8b2-176ebdf71c48",
   "metadata": {},
   "outputs": [
    {
     "name": "stdout",
     "output_type": "stream",
     "text": [
      "キーはA、値は今西\n",
      "キーはB、値は航平\n",
      "キーはC、値は男性\n",
      "キーはD、値は東京都\n",
      "キーはE、値は海外旅行\n"
     ]
    },
    {
     "data": {
      "text/plain": [
       "True"
      ]
     },
     "execution_count": 10,
     "metadata": {},
     "output_type": "execute_result"
    }
   ],
   "source": [
    "for key, value in dictionary.items():\n",
    "    print(f\"キーは{key}、値は{value}\")\n",
    "\"男性\" in dictionary.values()"
   ]
  },
  {
   "cell_type": "code",
   "execution_count": null,
   "id": "1e5f67a4-1066-4f30-9fee-0e3883293472",
   "metadata": {},
   "outputs": [],
   "source": [
    "#int型の変数であるnumを用意し、numが以下条件の時にコロン(:)右側の文字列を出力する。\n",
    "\n",
    "#numが正の値の場合:正の値です。\n",
    "#numが0の場合:0です。\n",
    "#numが負の値の場合:負の値です。"
   ]
  },
  {
   "cell_type": "code",
   "execution_count": 16,
   "id": "d2792bd7-73a5-4934-9ddb-e1094e67df59",
   "metadata": {},
   "outputs": [
    {
     "name": "stdout",
     "output_type": "stream",
     "text": [
      "-10は負の値です。\n"
     ]
    }
   ],
   "source": [
    "num = -10\n",
    "\n",
    "if num > 0:\n",
    "    print(f\"{num}は正の値です。\")\n",
    "elif num == 0:\n",
    "    print(f\"0です。\")\n",
    "else:\n",
    "    print(f\"{num}は負の値です。\")"
   ]
  },
  {
   "cell_type": "code",
   "execution_count": null,
   "id": "c2f2d83f-0c86-4f4f-a342-8ac47fef8e5c",
   "metadata": {},
   "outputs": [],
   "source": [
    "#複数条件の指定をする。\n",
    "\n",
    "#aは整数。\n",
    "#aが0以上10未満かつ偶数の場合:一桁の偶数です。\n",
    "#aが0未満かつ奇数の場合:負の奇数です。\n",
    "#それ以外:整数です。"
   ]
  },
  {
   "cell_type": "code",
   "execution_count": 36,
   "id": "2a6a3753-10c4-42d6-a4fa-85758620822c",
   "metadata": {},
   "outputs": [
    {
     "name": "stdout",
     "output_type": "stream",
     "text": [
      "-3は負の奇数です。\n"
     ]
    }
   ],
   "source": [
    "a = -3\n",
    "\n",
    "if 0 <= a < 10 and a % 2 == 0:\n",
    "    print(f\"{a}は一桁の偶数です。\")\n",
    "elif a < 0 and a % 2 != 0:\n",
    "    print(f\"{a}は負の奇数です。\")\n",
    "else:\n",
    "    print(f\"{a}は整数です。\")"
   ]
  },
  {
   "cell_type": "code",
   "execution_count": 38,
   "id": "dc6184b7-ff3a-46d3-b003-bc2018d678fc",
   "metadata": {},
   "outputs": [],
   "source": [
    "#以下リストからそれぞれ姓名を同時に出力する。\n",
    "lasts = [\"加藤\", \"佐藤\", \"田中\"]\n",
    "firsts = [\"雄一\", \"拓也\", \"太郎\"]"
   ]
  },
  {
   "cell_type": "code",
   "execution_count": 40,
   "id": "4b65610f-69e1-40a8-932f-49c4dd2a3309",
   "metadata": {},
   "outputs": [
    {
     "name": "stdout",
     "output_type": "stream",
     "text": [
      "加藤雄一\n",
      "佐藤拓也\n",
      "田中太郎\n"
     ]
    }
   ],
   "source": [
    "for last, first in zip(lasts, firsts):\n",
    "    print(last + first)"
   ]
  },
  {
   "cell_type": "code",
   "execution_count": 41,
   "id": "d51bc26b-5222-49c1-b852-f55ade443979",
   "metadata": {},
   "outputs": [],
   "source": [
    "#下記リストから要素とインデックスを取得し、1番スタートで「xx番のyyです。」と出力する。　例) 1番の加藤です。\n",
    "lasts = [\"加藤\", \"佐藤\", \"田中\"]"
   ]
  },
  {
   "cell_type": "code",
   "execution_count": 43,
   "id": "5a70408e-945e-48de-8d81-bf6311f00fdb",
   "metadata": {},
   "outputs": [
    {
     "name": "stdout",
     "output_type": "stream",
     "text": [
      "1番目の加藤です。\n",
      "2番目の佐藤です。\n",
      "3番目の田中です。\n"
     ]
    }
   ],
   "source": [
    "for i, last, in enumerate(lasts, 1):\n",
    "    print(f\"{i}番目の{last}です。\")"
   ]
  },
  {
   "cell_type": "code",
   "execution_count": null,
   "id": "70407466-3336-4f24-b7af-2fed8bdc3133",
   "metadata": {},
   "outputs": [],
   "source": [
    "#9までの2の倍数のリストを作成する。その後その処理を内包表記で記載する。"
   ]
  },
  {
   "cell_type": "code",
   "execution_count": 47,
   "id": "3569df72-4c99-43a2-972f-cba56ee6bc39",
   "metadata": {},
   "outputs": [
    {
     "name": "stdout",
     "output_type": "stream",
     "text": [
      "[0, 2, 4, 6, 8]\n"
     ]
    }
   ],
   "source": [
    "#nums = []\n",
    "\n",
    "#for i in range(5):\n",
    "    #nums.append(2 * i)\n",
    "\n",
    "#上記を内包表記すると\n",
    "numbers = [2 * i for i in range(5)]\n",
    "print(numbers)"
   ]
  },
  {
   "cell_type": "code",
   "execution_count": null,
   "id": "9db86dc0-1ae5-4b8c-a07f-3a902431d54f",
   "metadata": {},
   "outputs": [],
   "source": [
    "#10をnumで割ったときの結果を表示させる。0で割った(割れない)ときに「エラー」と出力する。"
   ]
  },
  {
   "cell_type": "code",
   "execution_count": 49,
   "id": "3c313d74-7574-4956-b382-a7cdb2d54b00",
   "metadata": {},
   "outputs": [
    {
     "name": "stdout",
     "output_type": "stream",
     "text": [
      "計算結果:2.5\n"
     ]
    }
   ],
   "source": [
    "num = 4\n",
    "\n",
    "try:\n",
    "    print(f\"計算結果:{10/num}\")\n",
    "except:\n",
    "    print(\"エラー\")"
   ]
  },
  {
   "cell_type": "code",
   "execution_count": null,
   "id": "25093bf5-598b-49d6-bc4d-b69cf48b600f",
   "metadata": {},
   "outputs": [],
   "source": [
    "#0で割った(割れない)ときにZeroDivisionErrorを出力する。"
   ]
  },
  {
   "cell_type": "code",
   "execution_count": 50,
   "id": "49d3d5ba-702b-4a31-ad66-8036f04abfc0",
   "metadata": {},
   "outputs": [
    {
     "name": "stdout",
     "output_type": "stream",
     "text": [
      "division by zero\n"
     ]
    }
   ],
   "source": [
    "num = 0\n",
    "\n",
    "try:\n",
    "    print(f\"計算結果:{10/num}\")\n",
    "except ZeroDivisionError as e:\n",
    "    print(e)"
   ]
  },
  {
   "cell_type": "code",
   "execution_count": 55,
   "id": "ff29448d-fbbf-4144-a693-4dfa4f94bfa8",
   "metadata": {},
   "outputs": [],
   "source": [
    "#次の関数では変数a,bが数値のとき正常に計算が行われます。\n",
    "#a,bが文字列の場合に例外処理(TypeError)をexcept追加して実装する。\n",
    "#正常に処理できた場合に「正常に終了しました」と表示させる。\n",
    "#例外も含めた全ての処理が完了したときに「全ての処理が終了しました」と表示させる。\n",
    "\n",
    "def divide(a, b):\n",
    "    try:\n",
    "        print(f\"計算結果:{a/b}\")\n",
    "    except ZeroDivisionError as e:\n",
    "        print(e)\n",
    "    except TypeError as e:\n",
    "        print(e)"
   ]
  },
  {
   "cell_type": "code",
   "execution_count": 56,
   "id": "156ffc0b-9760-4da5-bbff-590d78c0b104",
   "metadata": {},
   "outputs": [
    {
     "name": "stdout",
     "output_type": "stream",
     "text": [
      "unsupported operand type(s) for /: 'int' and 'str'\n"
     ]
    }
   ],
   "source": [
    "divide(10, \"zero\")"
   ]
  },
  {
   "cell_type": "code",
   "execution_count": null,
   "id": "978c11d7-53bc-4b6a-a804-b924481dd7db",
   "metadata": {},
   "outputs": [],
   "source": [
    "#次の関数でTypeErrorの例外処理が発生した場合、何も処理を行わずスルーする。\n",
    "\n",
    "def divide(a, b):\n",
    "    try:\n",
    "        print(f\"計算結果:{a/b}\")\n",
    "    except ZeroDivisionError as e:\n",
    "        print(e)\n",
    "    except TypeError as e:\n",
    "        print(e)\n",
    "    finally:\n",
    "        print(\"全ての処理が終了しました\")"
   ]
  },
  {
   "cell_type": "code",
   "execution_count": null,
   "id": "868c3ea6-ff31-4418-bd03-da1056ac6f93",
   "metadata": {},
   "outputs": [],
   "source": []
  },
  {
   "cell_type": "code",
   "execution_count": null,
   "id": "e4c228af-9c77-4624-8d7c-e783b4b8b81e",
   "metadata": {},
   "outputs": [],
   "source": [
    "#Personクラスを作成しクラス変数はnationality:\"japan\"、クラスメソッドとしてsay_helloを実装する。\n",
    "#say_helloメソッドでは「こんにちは、私の国籍は〇〇です」と出力されるようにする。"
   ]
  },
  {
   "cell_type": "code",
   "execution_count": null,
   "id": "bb57926f-8f4d-40b3-8fea-7a83a8c8b3a3",
   "metadata": {},
   "outputs": [],
   "source": [
    "#クラス内で使える変数は2種類ある。\n",
    "#クラス変数とはクラス内でかつメソッドの外で宣言される変数のことを意味しそれ以外の変数をクラス変数と言う。\n",
    "#クラス変数の宣言時は「self.変数」という形式は用いず「変数名=〇〇」という形式を用いる。"
   ]
  },
  {
   "cell_type": "code",
   "execution_count": 1,
   "id": "45b992f8-ae6d-4da2-99a8-c921981cc0e5",
   "metadata": {},
   "outputs": [
    {
     "name": "stdout",
     "output_type": "stream",
     "text": [
      "こんにちは、私の国籍はJapanです。\n"
     ]
    }
   ],
   "source": [
    "class Person:\n",
    "    nationality = \"Japan\"\n",
    "    def say_hello(self):\n",
    "        print(f\"こんにちは、私の国籍は{self.nationality}です。\")\n",
    "\n",
    "p = Person()\n",
    "p.say_hello()"
   ]
  },
  {
   "cell_type": "code",
   "execution_count": null,
   "id": "7ff9e86c-482f-420c-a584-5635c48101e5",
   "metadata": {},
   "outputs": [],
   "source": [
    "#Personクラスにコンストラクタを使って引数を設定しnameというインスタンス変数を持たせる。\n",
    "#say_my_name()という自分の名前を出力するクラスメソッドを実装する。"
   ]
  },
  {
   "cell_type": "code",
   "execution_count": 7,
   "id": "e783a96e-ff53-4f66-8d4e-5e68906449ad",
   "metadata": {},
   "outputs": [
    {
     "name": "stdout",
     "output_type": "stream",
     "text": [
      "私の名前は菅原です。\n"
     ]
    }
   ],
   "source": [
    "class Person:\n",
    "    def __init__(self, name):\n",
    "        self.name = name\n",
    "        \n",
    "    def say_my_name(self):\n",
    "        print(f\"私の名前は{self.name}です。\")\n",
    "\n",
    "sugawara = Person(\"菅原\")\n",
    "sugawara.say_my_name()"
   ]
  },
  {
   "cell_type": "code",
   "execution_count": null,
   "id": "d02ecb95-e57d-4ae1-824b-50a6317b2442",
   "metadata": {},
   "outputs": [],
   "source": [
    "#Studentクラスにコンストラクタを使って引数を設定しnameというインスタンス変数を持たせる。\n",
    "#avg()という数学と英語の平均点を算出するクラスメソッドを作成する。"
   ]
  },
  {
   "cell_type": "code",
   "execution_count": 64,
   "id": "411d6cff-f92c-419e-b063-a729d6229d10",
   "metadata": {},
   "outputs": [
    {
     "name": "stdout",
     "output_type": "stream",
     "text": [
      "sato\n",
      "tanaka\n",
      "数学と英語の平均点は75.0です。\n"
     ]
    }
   ],
   "source": [
    "class Student:\n",
    "    def __init__(self, name):\n",
    "        self.name = name\n",
    "        \n",
    "    def avg(self, math, eng):\n",
    "        print(f\"数学と英語の平均点は{(math + eng) / 2}です。\")\n",
    "    \n",
    "a001 = Student(\"sato\")\n",
    "print(a001.name)\n",
    "\n",
    "a002 = Student(\"tanaka\")\n",
    "print(a002.name)\n",
    "\n",
    "a001.avg(100, 50)"
   ]
  },
  {
   "cell_type": "code",
   "execution_count": null,
   "id": "62dc7343-5efe-4a24-9113-bd2205722d78",
   "metadata": {},
   "outputs": [],
   "source": [
    "#リスト内包表記:リストのようなシーケンスオブジェクトの各要素に対して処理を行いたいときに便利\n",
    "#[式 for 任意の変数 in イテラブルオブジェクト　if 〇〇]"
   ]
  },
  {
   "cell_type": "code",
   "execution_count": null,
   "id": "c0437bb9-2378-42ec-8f5c-b8f63bd48a25",
   "metadata": {},
   "outputs": [],
   "source": [
    "#1～5までのリストを作成し、4と5だけに2を乗算して表示させる。\n",
    "#上記をリスト内包表記する。"
   ]
  },
  {
   "cell_type": "code",
   "execution_count": 1,
   "id": "0881520a-cd1d-4a33-8ae9-fcb9b4db7f98",
   "metadata": {},
   "outputs": [
    {
     "name": "stdout",
     "output_type": "stream",
     "text": [
      "[8, 10]\n"
     ]
    }
   ],
   "source": [
    "my_list = [1, 2, 3, 4, 5]\n",
    "\n",
    "my_list = [x * 2 for x in my_list if x > 3]\n",
    "print(my_list)"
   ]
  },
  {
   "cell_type": "code",
   "execution_count": 5,
   "id": "70c736f2-d96e-44f3-9707-dab552431b45",
   "metadata": {},
   "outputs": [],
   "source": [
    "#1～10までの値にそれぞれ2乗した後に空のリストに追加して表示させる。\n",
    "#上記をリスト内包表記する。"
   ]
  },
  {
   "cell_type": "code",
   "execution_count": 4,
   "id": "2876a385-acb8-4417-bcc4-a280e2a69554",
   "metadata": {},
   "outputs": [
    {
     "name": "stdout",
     "output_type": "stream",
     "text": [
      "[1, 4, 9, 16, 25, 36, 49, 64, 81, 100]\n"
     ]
    }
   ],
   "source": [
    "result = [i ** 2 for i in range(1, 11)]\n",
    "print(result)"
   ]
  },
  {
   "cell_type": "code",
   "execution_count": null,
   "id": "2854480d-910a-44aa-bd37-bf56270aa676",
   "metadata": {},
   "outputs": [],
   "source": [
    "#1～5までの値にそれぞれ2を加算して奇数のみ表示させる。"
   ]
  },
  {
   "cell_type": "code",
   "execution_count": 10,
   "id": "f8709955-c351-4212-9626-0f97236dc166",
   "metadata": {},
   "outputs": [
    {
     "name": "stdout",
     "output_type": "stream",
     "text": [
      "[3, 5, 7]\n"
     ]
    }
   ],
   "source": [
    "result = [i + 2 for i in range(1, 6) if i % 2 != 0]\n",
    "print(result)"
   ]
  },
  {
   "cell_type": "code",
   "execution_count": null,
   "id": "53dbfd4e-baaf-405a-8c00-8b04f5226000",
   "metadata": {},
   "outputs": [],
   "source": [
    "#内包表記で三項演算子(条件演算子)でif文を一行を記述する。\n",
    "#[真のときの値 if 条件式 else 偽のときの値 for 任意の変数 in イテラブルオブジェクト]"
   ]
  },
  {
   "cell_type": "code",
   "execution_count": null,
   "id": "69b19703-7cdc-4b96-aada-35adb66cfc93",
   "metadata": {},
   "outputs": [],
   "source": [
    "#1～10までの値で奇数には\"odd\"、偶数には\"even\"を表示させる。\n",
    "#上記のリストを内包表記する。"
   ]
  },
  {
   "cell_type": "code",
   "execution_count": 2,
   "id": "8f0777df-2028-436d-9f0d-51cfc8778e1a",
   "metadata": {},
   "outputs": [
    {
     "name": "stdout",
     "output_type": "stream",
     "text": [
      "['odd', 'even', 'odd', 'even', 'odd', 'even', 'odd', 'even', 'odd']\n"
     ]
    }
   ],
   "source": [
    "result = [\"odd\" if i % 2 == 1 else \"even\" for i in range(1, 10)]\n",
    "print(result)"
   ]
  },
  {
   "cell_type": "code",
   "execution_count": null,
   "id": "2b64020f-ff90-4f13-a6ab-5541b2cbe575",
   "metadata": {},
   "outputs": [],
   "source": [
    "#ラムダ式:関数オブジェクトを作る方法で名前を付けるほどでない小さい関数を使うときにつかう。\n",
    "#lambda 引数1, 引数2:処理 ※一行で記述できる処理を書くルール"
   ]
  },
  {
   "cell_type": "code",
   "execution_count": null,
   "id": "dff5bfd1-a59c-47b1-808d-1d46fbad94b2",
   "metadata": {},
   "outputs": [],
   "source": [
    "#ラムダ式を使って「菅原は学生です」と表示させる。"
   ]
  },
  {
   "cell_type": "code",
   "execution_count": 4,
   "id": "4dd1f983-83d1-44b9-bdd8-43873287d064",
   "metadata": {},
   "outputs": [
    {
     "name": "stdout",
     "output_type": "stream",
     "text": [
      "菅原は学生です。\n"
     ]
    }
   ],
   "source": [
    "func = lambda x, y: print(f\"{x}は{y}です。\")\n",
    "func(\"菅原\", \"学生\")"
   ]
  },
  {
   "cell_type": "code",
   "execution_count": null,
   "id": "d0455d9f-9a44-42cc-9769-4b4173d6a192",
   "metadata": {},
   "outputs": [],
   "source": [
    "#map関数:繰り返しオブジェクトの全ての要素にある処理を行う関数。\n",
    "#map(関数, 繰り返しオブジェクト) ※第一引数の部分(関数の部分)を直接ラムダ式で記述するパターンがよくある。"
   ]
  },
  {
   "cell_type": "code",
   "execution_count": 8,
   "id": "773ad6d8-a54c-42c0-afdd-41788c035f46",
   "metadata": {},
   "outputs": [],
   "source": [
    "#filter関数:繰り返しオブジェクトの中である条件がTrueになる要素だけを抽出する関数。\n",
    "#filter(関数, 繰り返しオブジェクト) ※第一引数の部分(関数の部分)を直接ラムダ式で記述するパターンがよくある。\n",
    "#関数を再利用したい前提ならdefで関数を記述したほうが良い。"
   ]
  },
  {
   "cell_type": "code",
   "execution_count": null,
   "id": "d102c34a-aa67-4858-8489-40248197c108",
   "metadata": {},
   "outputs": [],
   "source": [
    "#ラムダ式とmap関数を使ってn1とn2のリストを名前を結合して表示させる。\n",
    "n1 = [\"鈴木\", \"斎藤\", \"田中\"]\n",
    "n2 = [\"太郎\", \"次郎\", \"三郎\"]"
   ]
  },
  {
   "cell_type": "code",
   "execution_count": 5,
   "id": "4fbfd980-f0a0-43c5-a1c4-cf6312c2fa55",
   "metadata": {},
   "outputs": [
    {
     "name": "stdout",
     "output_type": "stream",
     "text": [
      "['鈴木太郎さん', '斎藤次郎さん', '田中三郎さん']\n"
     ]
    }
   ],
   "source": [
    "n1 = [\"鈴木\", \"斎藤\", \"田中\"]\n",
    "n2 = [\"太郎\", \"次郎\", \"三郎\"]\n",
    "\n",
    "result = list(map(lambda x, y: x + y + \"さん\", n1, n2))\n",
    "print(result)"
   ]
  },
  {
   "cell_type": "code",
   "execution_count": null,
   "id": "09e349c0-9c9e-42a4-8d71-d8c6fd440ade",
   "metadata": {},
   "outputs": [],
   "source": [
    "#ラムダ式とfilter関数を使ってnumのリストから10以上の要素だけ抽出する。\n",
    "num = [1, 5, 10, 15, 20, 25, 30]"
   ]
  },
  {
   "cell_type": "code",
   "execution_count": 7,
   "id": "d55415c4-e278-4100-9f93-3f2e29fac6a2",
   "metadata": {},
   "outputs": [
    {
     "name": "stdout",
     "output_type": "stream",
     "text": [
      "[10, 15, 20, 25, 30]\n"
     ]
    }
   ],
   "source": [
    "num = [1, 5, 10, 15, 20, 25, 30]\n",
    "\n",
    "result = list(filter(lambda x: x >= 10, num))\n",
    "print(result)"
   ]
  },
  {
   "cell_type": "code",
   "execution_count": null,
   "id": "28b8a419-2831-43b4-b460-cad0db5b0b0c",
   "metadata": {},
   "outputs": [],
   "source": [
    "#正規表現を使って以下のリストから電話番号の数字を検索する。\n",
    "num_list = [\"090-3898-7597\", \"1234-56-7890\", \"123456789\", \"090-aaaa-bbbb\"]\n",
    "\n",
    "#各re関数は re.○○○(パターン, 検索したいテキスト)\n",
    "#^ 文字列の先頭がマッチするか?\n",
    "#$ 文字列の末尾がマッチするか?\n",
    "#○|●(縦棒) ○または●とマッチするか?\n",
    "#[0-9]{1,4} 0から9の間の数字を1回以上4回繰り返し検索する(15,215,3256など) ※[0-9]は\\dと記述してもOK\n",
    "#https://biotech-lab.org/articles/11916 正規表現の詳細はこちら\n",
    "# \"(a)は(b)です\"のテキストをfindall関数でくくると[a,b]のリストとして出力される。\n",
    "# \"(aはbです)\"のテキストをfindall関数でくくると[aはbです]のリストとして出力される。\n",
    "#\\wは英数字、日本語など"
   ]
  },
  {
   "cell_type": "code",
   "execution_count": 2,
   "id": "ecf94b54-b7f5-427f-a600-1e8b276f3226",
   "metadata": {},
   "outputs": [
    {
     "name": "stdout",
     "output_type": "stream",
     "text": [
      "携帯電話: 090-3898-7597\n",
      "固定電話: 1234-56-7890\n",
      "電話番号ではありません 123456789\n",
      "電話番号ではありません 090-aaaa-bbbb\n"
     ]
    }
   ],
   "source": [
    "import re\n",
    "\n",
    "ph_num = \"^\\d{4}-\\d{2}-\\d{4}$\"\n",
    "mb_num = \"^\\d{3}-\\d{4}-\\d{4}$\"\n",
    "\n",
    "ph_num_pattern = re.compile(ph_num)\n",
    "mb_num_pattern = re.compile(mb_num)\n",
    "\n",
    "num_list = [\"090-3898-7597\", \"1234-56-7890\", \"123456789\", \"090-aaaa-bbbb\"]\n",
    "\n",
    "for target in num_list:\n",
    "    \n",
    "    #ph_numのパターンと同じじゃなかったらNoneが出力される。\n",
    "    if ph_num_pattern.match(target) != None:\n",
    "        print(\"固定電話:\", target)\n",
    "        \n",
    "    #mb_numのパターンと同じじゃなかったらNoneが出力される。\n",
    "    elif mb_num_pattern.match(target) != None:\n",
    "        print(\"携帯電話:\", target)\n",
    "    \n",
    "    #上記2つ以外の場合\n",
    "    else:\n",
    "        print(\"電話番号ではありません\", target)"
   ]
  },
  {
   "cell_type": "code",
   "execution_count": null,
   "id": "2b8e2ca5-e382-4c97-a317-7160626e084f",
   "metadata": {},
   "outputs": [],
   "source": [
    "#何月何日かと食べ物をそれぞれリストとして出力する。"
   ]
  },
  {
   "cell_type": "code",
   "execution_count": 1,
   "id": "33ff2a53-34b4-4f2a-a736-4124b0bcddcd",
   "metadata": {},
   "outputs": [
    {
     "name": "stdout",
     "output_type": "stream",
     "text": [
      "['10月11日', '12月25日', '4月13日']\n",
      "[('10月11日', '焼肉'), ('12月25日', '寿司'), ('4月13日', 'たらこ')]\n"
     ]
    }
   ],
   "source": [
    "import re\n",
    "\n",
    "text = \"私は10月11日は焼肉を食べて、12月25日は寿司を食べて、4月13日はたらこを食べた\"\n",
    "pattern1 = \"\\d{1,2}月\\d{1,2}日\"\n",
    "pattern2 = \"(\\d{1,2}月\\d{1,2}日)は(\\w+?)を食べ\"\n",
    "result1 = re.findall(pattern1, text)\n",
    "result2 = re.findall(pattern2, text)\n",
    "\n",
    "print(result1)\n",
    "print(result2)"
   ]
  },
  {
   "cell_type": "code",
   "execution_count": null,
   "id": "20627090-4dc9-4b31-a470-d2550c8a1b19",
   "metadata": {},
   "outputs": [],
   "source": [
    "#file_list = [\"aaa.xlsx\", \"bbb.csv\", \"ccc.xlsx\"]\n",
    "#上記リストから自作関数とfor文を使って\"xlsx\"のファイルのみ取り出したリストを作成する。"
   ]
  },
  {
   "cell_type": "code",
   "execution_count": 2,
   "id": "9a3408b9-3370-42fe-8458-35511919914a",
   "metadata": {},
   "outputs": [
    {
     "name": "stdout",
     "output_type": "stream",
     "text": [
      "['aaa.xlsx', 'ccc.xlsx']\n"
     ]
    }
   ],
   "source": [
    "def file_func(file_name):\n",
    "    if \"xlsx\" in file_name:\n",
    "        return True\n",
    "    else:\n",
    "        return False\n",
    "    \n",
    "file_list = [\"aaa.xlsx\", \"bbb.csv\", \"ccc.xlsx\"]\n",
    "new_list =[]\n",
    "\n",
    "for i in file_list:\n",
    "    if file_func(i):\n",
    "        new_list.append(i)\n",
    "        \n",
    "print(new_list)"
   ]
  },
  {
   "cell_type": "code",
   "execution_count": null,
   "id": "4a87c166-19f9-44a5-ba1b-0d0e0ac5da62",
   "metadata": {},
   "outputs": [],
   "source": [
    "employees = [\n",
    "    {\"name\": \"John\", \"age\": 21},\n",
    "    {\"name\": \"Kevin\", \"age\": 45},\n",
    "    {\"name\": \"Amy\", \"age\": 21},\n",
    "    {\"name\": \"Ryan\", \"age\": 30}\n",
    "]\n",
    "#上記リスト(辞書型)からmap関数とラムダ式を使って\"age\"が25歳以上の名前のみ取り出す。"
   ]
  },
  {
   "cell_type": "code",
   "execution_count": 1,
   "id": "1d5964f9-f292-4f26-9551-fa4eeb772b5f",
   "metadata": {},
   "outputs": [
    {
     "name": "stdout",
     "output_type": "stream",
     "text": [
      "['Kevin', 'Ryan']\n"
     ]
    }
   ],
   "source": [
    "employees = [\n",
    "    {\"name\": \"John\", \"age\": 21},\n",
    "    {\"name\": \"Kevin\", \"age\": 45},\n",
    "    {\"name\": \"Amy\", \"age\": 21},\n",
    "    {\"name\": \"Ryan\", \"age\": 30}\n",
    "]\n",
    "\n",
    "result = map(lambda x : x[\"name\"], filter(lambda x : x[\"age\"] > 25, employees))\n",
    "print(list(result))"
   ]
  },
  {
   "cell_type": "code",
   "execution_count": null,
   "id": "eb39c6da-9923-43dd-bb06-cca961724222",
   "metadata": {},
   "outputs": [],
   "source": [
    "#リストでアンパック"
   ]
  },
  {
   "cell_type": "code",
   "execution_count": 3,
   "id": "95e4e201-8ecd-4bf4-b4ac-fb7b061a92c0",
   "metadata": {},
   "outputs": [
    {
     "name": "stdout",
     "output_type": "stream",
     "text": [
      "今日は3時にドーナツを食べます\n"
     ]
    }
   ],
   "source": [
    "def func(time, food, day=\"今日\"):\n",
    "    print(f\"{day}は{time}に{food}を食べます\")\n",
    "\n",
    "l = [\"3時\", \"ドーナツ\"]\n",
    "func(*l)"
   ]
  },
  {
   "cell_type": "code",
   "execution_count": null,
   "id": "224382ee-3458-45d8-92d7-412e60583754",
   "metadata": {},
   "outputs": [],
   "source": [
    "#関数側でアンパックを行う。\n",
    "#https://note.com/chisa_pc_inst/n/n67ad3bcabc58"
   ]
  },
  {
   "cell_type": "code",
   "execution_count": 2,
   "id": "889c892b-9082-41e2-acfd-9ab9b80814ad",
   "metadata": {},
   "outputs": [
    {
     "name": "stdout",
     "output_type": "stream",
     "text": [
      "今日は3時にドーナツを食べます\n"
     ]
    }
   ],
   "source": [
    "def func(*args, day=\"今日\"):\n",
    "    print(f\"{day}は{args[0]}に{args[1]}を食べます\")\n",
    "    \n",
    "func(\"3時\", \"ドーナツ\")"
   ]
  },
  {
   "cell_type": "code",
   "execution_count": null,
   "id": "08b28283-46bb-4eae-9114-7f926bc48323",
   "metadata": {},
   "outputs": [],
   "source": [
    "#import sysをインポートして\n",
    "#sys.exc_info()[0]でエラーの種類を返してくれる。"
   ]
  },
  {
   "cell_type": "code",
   "execution_count": 11,
   "id": "a5d1b3a1-43e7-47ec-98d8-f6446bcb8e8a",
   "metadata": {},
   "outputs": [
    {
     "name": "stdout",
     "output_type": "stream",
     "text": [
      "エラーが出ました :  <class 'ZeroDivisionError'>\n"
     ]
    }
   ],
   "source": [
    "import sys\n",
    "try:\n",
    "    a = 10\n",
    "    b = 0\n",
    "    a / b\n",
    "except:\n",
    "    print(\"エラーが出ました : \", sys.exc_info()[0])"
   ]
  }
 ],
 "metadata": {
  "kernelspec": {
   "display_name": "Python 3 (ipykernel)",
   "language": "python",
   "name": "python3"
  },
  "language_info": {
   "codemirror_mode": {
    "name": "ipython",
    "version": 3
   },
   "file_extension": ".py",
   "mimetype": "text/x-python",
   "name": "python",
   "nbconvert_exporter": "python",
   "pygments_lexer": "ipython3",
   "version": "3.10.9"
  }
 },
 "nbformat": 4,
 "nbformat_minor": 5
}
