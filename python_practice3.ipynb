{
 "cells": [
  {
   "cell_type": "code",
   "execution_count": 2,
   "id": "a5883e09-035c-4c6f-9d0f-82f80ae6ca7c",
   "metadata": {},
   "outputs": [
    {
     "name": "stdout",
     "output_type": "stream",
     "text": [
      "2023-10-03\n",
      "2023-10-03 23:25:18.177141\n"
     ]
    }
   ],
   "source": [
    "import datetime\n",
    "\n",
    "#現在の日付\n",
    "date1 = datetime.date.today()\n",
    "print(date1)\n",
    "\n",
    "#現在の日付と日時\n",
    "date2 = datetime.datetime.now()\n",
    "print(date2)"
   ]
  },
  {
   "cell_type": "code",
   "execution_count": 3,
   "id": "7b5083d9-c0b8-425c-b507-e20252c21433",
   "metadata": {},
   "outputs": [
    {
     "name": "stdout",
     "output_type": "stream",
     "text": [
      "2023-10-05\n"
     ]
    }
   ],
   "source": [
    "today = datetime.date.today()\n",
    "after_tomorrow = datetime.timedelta(days=2)\n",
    "print(today + after_tomorrow)"
   ]
  },
  {
   "cell_type": "code",
   "execution_count": 17,
   "id": "5f35713b-9bec-4cb7-b92e-8e19f61d5990",
   "metadata": {},
   "outputs": [
    {
     "name": "stdout",
     "output_type": "stream",
     "text": [
      "今日は明日よりも後:False\n"
     ]
    }
   ],
   "source": [
    "today = datetime.date.today()\n",
    "tomorrow = today + datetime.timedelta(days=1)\n",
    "\n",
    "print(\"今日は明日よりも後:\" + str(today > tomorrow))"
   ]
  },
  {
   "cell_type": "code",
   "execution_count": null,
   "id": "eba20094-19f1-49d6-91bc-f9e65271691e",
   "metadata": {},
   "outputs": [
    {
     "name": "stdout",
     "output_type": "stream",
     "text": [
      "今日は明日よりも後:False\n",
      "昨日は今日よりも前:True\n"
     ]
    }
   ],
   "source": [
    "# today = datetime.date.today()\n",
    "tomorrow = today + datetime.timedelta(days=1)\n",
    "yestarday = today - datetime.timedelta(days=1)\n",
    " \n",
    "print(\"今日は明日よりも後:\"+str(today>tomorrow))\n",
    "print(\"昨日は今日よりも前:\" +str(yestarday<today))"
   ]
  },
  {
   "cell_type": "code",
   "execution_count": 19,
   "id": "19a77062-e207-4985-acd8-3218b7dd185f",
   "metadata": {},
   "outputs": [
    {
     "name": "stdout",
     "output_type": "stream",
     "text": [
      "20231003\n"
     ]
    }
   ],
   "source": [
    "today = datetime.date.today()\n",
    "af = today.strftime(\"%Y%m%d\")\n",
    "\n",
    "print(af)"
   ]
  },
  {
   "cell_type": "code",
   "execution_count": 22,
   "id": "98df6939-2b3d-44b7-bbec-4f9c727f28c9",
   "metadata": {},
   "outputs": [
    {
     "name": "stdout",
     "output_type": "stream",
     "text": [
      "20\n"
     ]
    }
   ],
   "source": [
    "re = lambda i: i * 2\n",
    "print(re(10))"
   ]
  },
  {
   "cell_type": "code",
   "execution_count": 24,
   "id": "18734b78-7d42-41ff-b751-9ad18b3a1d66",
   "metadata": {},
   "outputs": [
    {
     "name": "stdout",
     "output_type": "stream",
     "text": [
      "20\n"
     ]
    }
   ],
   "source": [
    "def sample(i):\n",
    "    return i * 2\n",
    "\n",
    "print(sample(10))"
   ]
  },
  {
   "cell_type": "code",
   "execution_count": 25,
   "id": "2648a94b-0448-4f41-b94c-27c5e6984ba4",
   "metadata": {},
   "outputs": [
    {
     "name": "stdout",
     "output_type": "stream",
     "text": [
      "20\n"
     ]
    }
   ],
   "source": [
    "def sample(func):\n",
    "    return func(10)\n",
    "\n",
    "print(sample(lambda i : i * 2))"
   ]
  },
  {
   "cell_type": "code",
   "execution_count": 26,
   "id": "68ebdb64-d910-4e99-ac88-338c706f518b",
   "metadata": {},
   "outputs": [
    {
     "name": "stdout",
     "output_type": "stream",
     "text": [
      "[0, 1, 4, 9, 16, 25, 36, 49, 64, 81]\n"
     ]
    }
   ],
   "source": [
    "l = []\n",
    "for x in range(10):\n",
    "    l.append(x**2)\n",
    "print(l)"
   ]
  },
  {
   "cell_type": "code",
   "execution_count": 27,
   "id": "58c617d7-8ce8-4eae-9de6-535c839550b5",
   "metadata": {},
   "outputs": [
    {
     "name": "stdout",
     "output_type": "stream",
     "text": [
      "[0, 1, 4, 9, 16, 25, 36, 49, 64, 81]\n"
     ]
    }
   ],
   "source": [
    "l = list(map(lambda x : x**2, range(10)))\n",
    "print(l)"
   ]
  },
  {
   "cell_type": "code",
   "execution_count": 28,
   "id": "1cba4ae2-1329-4db5-a701-8dd75458ba79",
   "metadata": {},
   "outputs": [
    {
     "name": "stdout",
     "output_type": "stream",
     "text": [
      "['3', '6', '-3']\n"
     ]
    }
   ],
   "source": [
    "l1 = [3, 6, -3]\n",
    "l2 = list(map(str, l1))\n",
    "print(l2)"
   ]
  },
  {
   "cell_type": "code",
   "execution_count": 31,
   "id": "e2ad6f04-b2d3-421e-a5b0-2e0230f54d74",
   "metadata": {},
   "outputs": [
    {
     "name": "stdout",
     "output_type": "stream",
     "text": [
      "[2, 4, 6, 8, 10]\n",
      "('キリン', 'ライオン', 'ゾウ', 'トラ')\n",
      "<class 'tuple'>\n"
     ]
    }
   ],
   "source": [
    "list1 = list(range(1, 6))\n",
    "\n",
    "def multi(x):\n",
    "    y = x * 2\n",
    "    return y\n",
    "\n",
    "list2 = map(multi, list1)\n",
    "list2_list = list(map(multi, list1))\n",
    "print(list2_list)\n",
    "\n",
    "list3 = (\"キリン\", \"ライオン\", \"ゾウ\", \"トラ\")\n",
    "\n",
    "def list_mk(x):\n",
    "    return x.lower()\n",
    "\n",
    "list4 = map(list_mk, list3)\n",
    "list4_tuple = tuple(map(list_mk, list3))\n",
    "\n",
    "print(list4_tuple)\n",
    "print(type(list4_tuple))"
   ]
  },
  {
   "cell_type": "code",
   "execution_count": 32,
   "id": "9126807d-ad23-49ed-8584-bfdac721c712",
   "metadata": {},
   "outputs": [
    {
     "name": "stdout",
     "output_type": "stream",
     "text": [
      "100より小さいです\n",
      "100より大きいです\n",
      "100より大きいです\n",
      "100より小さいです\n",
      "100より小さいです\n",
      "100より小さいです\n",
      "100です\n"
     ]
    }
   ],
   "source": [
    "list1 = [1, 300, 240, 30, 40, 99, 100,]\n",
    "\n",
    "def answer(num):\n",
    "    if num < 100:\n",
    "        return \"100より小さいです\"\n",
    "    elif num == 100:\n",
    "        return \"100です\"\n",
    "    elif num > 100:\n",
    "        return \"100より大きいです\"\n",
    "    \n",
    "for result in map(answer, list1):\n",
    "    print(result)"
   ]
  },
  {
   "cell_type": "code",
   "execution_count": 33,
   "id": "b1785d9b-c65f-4eae-a6bd-57cb5177cf85",
   "metadata": {},
   "outputs": [
    {
     "name": "stdout",
     "output_type": "stream",
     "text": [
      "100, 200, 300, 24, 56, 234\n",
      "<class 'str'>\n"
     ]
    }
   ],
   "source": [
    "list_int = [100, 200, 300, 24, 56, 234]\n",
    "list_str = \", \".join(map(str, list_int))\n",
    "print(list_str)\n",
    "print(type(list_str))"
   ]
  },
  {
   "cell_type": "code",
   "execution_count": 36,
   "id": "a98cdd92-70d3-4827-8c8e-259122d1c681",
   "metadata": {},
   "outputs": [
    {
     "name": "stdout",
     "output_type": "stream",
     "text": [
      "['ライオン', 'パンダ', 'キリン', 'コアラ']\n",
      "[13, 90, 201, 356]\n"
     ]
    }
   ],
   "source": [
    "animals = [\"ライオン\", \"パンダ\", \"キリン\", \"コアラ\"]\n",
    "\n",
    "print(list(map(lambda animal : animal.lower(), animals)))\n",
    "\n",
    "num1 = [1, 2, 3, 4]\n",
    "num2 = [13, 45, 67, 89]\n",
    "\n",
    "result = map(lambda x, y : x * y, num1, num2)\n",
    "print(list(result))"
   ]
  },
  {
   "cell_type": "code",
   "execution_count": 37,
   "id": "c758553f-2ffd-4f21-b329-7905eb4ff7f0",
   "metadata": {},
   "outputs": [
    {
     "name": "stdout",
     "output_type": "stream",
     "text": [
      "[11, 0.3, -5, 3, -1]\n",
      "[11, 0.3, 5, 3, 1]\n"
     ]
    }
   ],
   "source": [
    "list_test = [11, 0.3, -5, 3, -1]\n",
    "print(list_test)\n",
    "\n",
    "print(list(map(abs, list_test)))"
   ]
  },
  {
   "cell_type": "code",
   "execution_count": 40,
   "id": "261455a7-ce10-4559-9808-7dea5d634de3",
   "metadata": {},
   "outputs": [
    {
     "name": "stdout",
     "output_type": "stream",
     "text": [
      "[11, 0.3, 5, 3, 1]\n"
     ]
    }
   ],
   "source": [
    "list_test = [11, 0.3, -5, 3, -1]\n",
    "n_list = []\n",
    "\n",
    "for i in list_test:\n",
    "    n_list.append(abs(i))\n",
    "print(n_list)"
   ]
  },
  {
   "cell_type": "code",
   "execution_count": 41,
   "id": "9cccae1b-e5a7-4b27-98bb-e9cd6dc2f870",
   "metadata": {},
   "outputs": [
    {
     "name": "stdout",
     "output_type": "stream",
     "text": [
      "[121, 0.09, 25, 9, 1]\n"
     ]
    }
   ],
   "source": [
    "def square(num):\n",
    "    return num * num\n",
    "\n",
    "l = [11, 0.3, -5, 3, -1]\n",
    "\n",
    "print(list(map(square, l)))"
   ]
  },
  {
   "cell_type": "code",
   "execution_count": 42,
   "id": "3fd2f2cf-d729-46ac-aff9-9e32c42a30cc",
   "metadata": {},
   "outputs": [
    {
     "name": "stdout",
     "output_type": "stream",
     "text": [
      "[121, 0.09, 25, 9, 1]\n"
     ]
    }
   ],
   "source": [
    "l = [11, 0.3, -5, 3, -1]\n",
    "\n",
    "print(list(map(lambda num : num * num, l)))"
   ]
  },
  {
   "cell_type": "code",
   "execution_count": 43,
   "id": "3f5ce0dc-48cf-4667-b524-c5069fdd64f4",
   "metadata": {},
   "outputs": [
    {
     "name": "stdout",
     "output_type": "stream",
     "text": [
      "156.09\n"
     ]
    }
   ],
   "source": [
    "l = [11, 0.3, -5, 3, -1]\n",
    "\n",
    "print(sum(map(lambda num : num * num, l)))"
   ]
  },
  {
   "cell_type": "code",
   "execution_count": 44,
   "id": "ccb261a8-8288-4899-b524-d0ff494e1899",
   "metadata": {},
   "outputs": [
    {
     "name": "stdout",
     "output_type": "stream",
     "text": [
      "4\n"
     ]
    }
   ],
   "source": [
    "fruits = [\"apple\", \"banana\", \"orange\", \"mango\", \"lemon\"]\n",
    "\n",
    "search_char = \"a\"\n",
    "\n",
    "result = sum(map(lambda fruit : search_char in fruit, fruits))\n",
    "print(result)"
   ]
  },
  {
   "cell_type": "code",
   "execution_count": 45,
   "id": "6383eb55-add9-4afb-8d75-b945e5c958ea",
   "metadata": {},
   "outputs": [
    {
     "name": "stdout",
     "output_type": "stream",
     "text": [
      "[5, 10, -2, 1]\n"
     ]
    }
   ],
   "source": [
    "num_str = \"5 10 -2 1\"\n",
    "\n",
    "result = list(map(int, num_str.split()))\n",
    "print(result)"
   ]
  },
  {
   "cell_type": "code",
   "execution_count": 46,
   "id": "7c7e4c5f-4928-45ae-9355-6644c6c8e97c",
   "metadata": {},
   "outputs": [
    {
     "name": "stdout",
     "output_type": "stream",
     "text": [
      "[1, 2, 3]\n"
     ]
    }
   ],
   "source": [
    "result = map(int, [1, 2, 3,])\n",
    "x = list(result)\n",
    "print(x)"
   ]
  },
  {
   "cell_type": "code",
   "execution_count": 48,
   "id": "71870feb-c048-43f4-b102-8d43b9ee6c23",
   "metadata": {},
   "outputs": [
    {
     "name": "stdout",
     "output_type": "stream",
     "text": [
      "[1, 2, 3]\n"
     ]
    }
   ],
   "source": [
    "result = [int(i) for i in [1, 2, 3]]\n",
    "print(result)"
   ]
  },
  {
   "cell_type": "code",
   "execution_count": 50,
   "id": "c71789a1-aa3b-40bb-9ce6-5d711d3e1079",
   "metadata": {},
   "outputs": [
    {
     "name": "stdout",
     "output_type": "stream",
     "text": [
      "6 7 8\n"
     ]
    }
   ],
   "source": [
    "def add_five(m):\n",
    "    return m + 5\n",
    "\n",
    "L = [1, 2, 3]\n",
    "R = map(add_five, L)\n",
    "print(*R)"
   ]
  },
  {
   "cell_type": "code",
   "execution_count": 51,
   "id": "f1fd2ca8-9e53-4ef7-8cb6-aeff06f73efa",
   "metadata": {},
   "outputs": [
    {
     "name": "stdout",
     "output_type": "stream",
     "text": [
      "6 7 8\n"
     ]
    }
   ],
   "source": [
    "result = map(lambda m : m + 5, [1, 2, 3])\n",
    "print(*result)"
   ]
  },
  {
   "cell_type": "code",
   "execution_count": 52,
   "id": "391d5af4-2c0c-4efc-a55a-14ae42e99430",
   "metadata": {},
   "outputs": [
    {
     "name": "stdout",
     "output_type": "stream",
     "text": [
      "Ax By Cz\n"
     ]
    }
   ],
   "source": [
    "L = map(lambda s, t : s + t, [\"A\", \"B\", \"C\"], [\"x\", \"y\", \"z\"])\n",
    "print(*L)"
   ]
  },
  {
   "cell_type": "code",
   "execution_count": 54,
   "id": "3cbff1b5-56c1-4275-979e-384672015613",
   "metadata": {},
   "outputs": [
    {
     "name": "stdout",
     "output_type": "stream",
     "text": [
      "0 1 2 3 4\n"
     ]
    }
   ],
   "source": [
    "print(*range(0, 5))"
   ]
  },
  {
   "cell_type": "code",
   "execution_count": 58,
   "id": "c36dcdfe-134c-45a6-ba8a-b2d97396c458",
   "metadata": {},
   "outputs": [
    {
     "name": "stdout",
     "output_type": "stream",
     "text": [
      "2\n",
      "4\n",
      "6\n"
     ]
    }
   ],
   "source": [
    "def double(x):\n",
    "    return x * 2\n",
    "\n",
    "numbers = [1, 2, 3, 4, 5, 6, 7, 8, 9]\n",
    "\n",
    "double_numbers = map(double, numbers)\n",
    "double_numbers\n",
    "\n",
    "for i in range(3):\n",
    "    date = next(double_numbers)\n",
    "    print(date)"
   ]
  },
  {
   "cell_type": "code",
   "execution_count": 59,
   "id": "1539a17c-8d72-4e7f-b3d7-e15bc45f87da",
   "metadata": {},
   "outputs": [
    {
     "name": "stdout",
     "output_type": "stream",
     "text": [
      "[2, 4, 6, 8, 10, 12, 14, 16, 18]\n"
     ]
    }
   ],
   "source": [
    "result = list(map(lambda x : x * 2, numbers))\n",
    "print(result)"
   ]
  },
  {
   "cell_type": "code",
   "execution_count": 60,
   "id": "39cd2f42-c9ee-41aa-9e5d-e90562714062",
   "metadata": {},
   "outputs": [
    {
     "name": "stdout",
     "output_type": "stream",
     "text": [
      "['740円', '1000円', '950円']\n"
     ]
    }
   ],
   "source": [
    "def add_yen(x):\n",
    "    return str(x) + \"円\"\n",
    "\n",
    "price_list = [740, 1000, 950]\n",
    "\n",
    "print(list(map(add_yen, price_list)))"
   ]
  },
  {
   "cell_type": "code",
   "execution_count": 62,
   "id": "111fcdc7-5ebb-4999-8524-5d8ffc8ff385",
   "metadata": {},
   "outputs": [
    {
     "name": "stdout",
     "output_type": "stream",
     "text": [
      "[11, 22, 33]\n"
     ]
    }
   ],
   "source": [
    "def add(x, y):\n",
    "    return x + y\n",
    "\n",
    "listA = [1, 2, 3]\n",
    "listB = [10, 20, 30]\n",
    "\n",
    "print(list(map(add, listA, listB)))"
   ]
  },
  {
   "cell_type": "code",
   "execution_count": 63,
   "id": "74e88dea-7d18-4a3c-a59e-a74f842be114",
   "metadata": {},
   "outputs": [
    {
     "data": {
      "text/plain": [
       "[7, 3, 1, 0, -5, -8]"
      ]
     },
     "execution_count": 63,
     "metadata": {},
     "output_type": "execute_result"
    }
   ],
   "source": [
    "ls = [3, -8, 1, 0, 7, -5,]\n",
    "\n",
    "def invert(x):\n",
    "    return -x\n",
    "\n",
    "sorted(ls, key=invert)"
   ]
  },
  {
   "cell_type": "code",
   "execution_count": 64,
   "id": "05dad144-413f-4bcf-88f4-87cf5bb45480",
   "metadata": {},
   "outputs": [
    {
     "data": {
      "text/plain": [
       "[7, 3, 1, 0, -5, -8]"
      ]
     },
     "execution_count": 64,
     "metadata": {},
     "output_type": "execute_result"
    }
   ],
   "source": [
    "sorted(ls, key = lambda x : -x)"
   ]
  },
  {
   "cell_type": "code",
   "execution_count": 67,
   "id": "3a280306-b03a-4c1c-881b-5dab9352fca9",
   "metadata": {},
   "outputs": [
    {
     "name": "stdout",
     "output_type": "stream",
     "text": [
      "引数: 3 4\n",
      "7\n"
     ]
    }
   ],
   "source": [
    "def log_func(func):\n",
    "    def inner(*args):\n",
    "        print(\"引数:\", *args)\n",
    "        return func(*args)\n",
    "    return inner\n",
    "    \n",
    "@log_func    \n",
    "def add_num(a, b):\n",
    "    return a + b\n",
    "\n",
    "print(add_num(3, 4))"
   ]
  },
  {
   "cell_type": "code",
   "execution_count": 78,
   "id": "6545c9cd-3e50-4ff3-8869-c5e84bd8bf15",
   "metadata": {},
   "outputs": [
    {
     "name": "stdout",
     "output_type": "stream",
     "text": [
      "['APPLE', 'BANANA', 'LEMON', 'ORANGE']\n"
     ]
    }
   ],
   "source": [
    "fruits = [\"apple\", \"banana\", \"lemon\", \"orange\"]\n",
    "l = []\n",
    "\n",
    "for i in fruits:\n",
    "    l.append(i.upper())\n",
    "    \n",
    "print(l)"
   ]
  },
  {
   "cell_type": "code",
   "execution_count": 80,
   "id": "250d3a76-71a9-4d62-b89d-593e0eadee78",
   "metadata": {},
   "outputs": [
    {
     "name": "stdout",
     "output_type": "stream",
     "text": [
      "[1, 2, 3, 4, 5]\n"
     ]
    }
   ],
   "source": [
    "int_l = [1, -2, 3, -4, -5]\n",
    "l = []\n",
    "\n",
    "for i in int_l:\n",
    "    l.append(abs(i))\n",
    "    \n",
    "print(l)"
   ]
  },
  {
   "cell_type": "code",
   "execution_count": 81,
   "id": "ac902bde-cbf5-47fa-9af4-fb2eb684e448",
   "metadata": {},
   "outputs": [
    {
     "name": "stdout",
     "output_type": "stream",
     "text": [
      "[1, 2, 3, 4, 5]\n"
     ]
    }
   ],
   "source": [
    "int_l = [1, -2, 3, -4, -5]\n",
    "\n",
    "print(list(map(abs, int_l)))"
   ]
  },
  {
   "cell_type": "code",
   "execution_count": 84,
   "id": "b8095ebb-ac30-48b8-9344-6dfcdcf12d49",
   "metadata": {},
   "outputs": [
    {
     "name": "stdout",
     "output_type": "stream",
     "text": [
      "[5, 6, 5, 6]\n"
     ]
    }
   ],
   "source": [
    "fruits = [\"apple\", \"banana\", \"lemon\", \"orange\"]\n",
    "\n",
    "print(list(map(len, fruits)))"
   ]
  },
  {
   "cell_type": "code",
   "execution_count": 87,
   "id": "67d64a51-e487-4c0c-ad0b-f99281042069",
   "metadata": {},
   "outputs": [
    {
     "name": "stdout",
     "output_type": "stream",
     "text": [
      "[1, 4, 9, 16, 25]\n",
      "[1, 4, 9, 16, 25]\n",
      "[1, 4, 9, 16, 25]\n"
     ]
    }
   ],
   "source": [
    "def power2(x):\n",
    "    return x * x\n",
    "\n",
    "nums = [1, 2, 3, 4, 5]\n",
    "\n",
    "print(list(map(power2, nums)))\n",
    "\n",
    "result = [power2(i) for i in nums]\n",
    "print(result)\n",
    "\n",
    "result1 = [i * i for i in nums]\n",
    "print(result1)"
   ]
  },
  {
   "cell_type": "code",
   "execution_count": 88,
   "id": "1b445f11-e652-4d56-a593-5514710a7f8e",
   "metadata": {},
   "outputs": [
    {
     "name": "stdout",
     "output_type": "stream",
     "text": [
      "おはよう\n"
     ]
    }
   ],
   "source": [
    "def run_func(func):\n",
    "    func()\n",
    "    \n",
    "def good_mn():\n",
    "    print(\"おはよう\")\n",
    "    \n",
    "run_func(good_mn)"
   ]
  },
  {
   "cell_type": "code",
   "execution_count": 91,
   "id": "08801055-1cea-4b04-9a7b-d8e9e530ba25",
   "metadata": {},
   "outputs": [
    {
     "name": "stdout",
     "output_type": "stream",
     "text": [
      "1.048147073968205\n"
     ]
    }
   ],
   "source": [
    "# 合成関数 y = √f(x)\n",
    "def sqr(func):\n",
    "    def inner(x):\n",
    "        return func(x)**0.5\n",
    "    return inner\n",
    "\n",
    "# mathモジュールのインポート\n",
    "import math\n",
    "\n",
    "# y = √logx\n",
    "y = sqr(math.log)\n",
    "\n",
    "# y(2) = √log(2)\n",
    "print(y(3))\n",
    "# 0.8325546111576977"
   ]
  },
  {
   "cell_type": "code",
   "execution_count": 92,
   "id": "27479944-afaa-48de-abb2-58ed8d6d03dc",
   "metadata": {},
   "outputs": [
    {
     "ename": "NameError",
     "evalue": "name 'keys' is not defined",
     "output_type": "error",
     "traceback": [
      "\u001b[1;31m---------------------------------------------------------------------------\u001b[0m",
      "\u001b[1;31mNameError\u001b[0m                                 Traceback (most recent call last)",
      "Cell \u001b[1;32mIn[92], line 1\u001b[0m\n\u001b[1;32m----> 1\u001b[0m d \u001b[38;5;241m=\u001b[39m {k: v \u001b[38;5;28;01mfor\u001b[39;00m k, v \u001b[38;5;129;01min\u001b[39;00m \u001b[38;5;28mzip\u001b[39m(\u001b[43mkeys\u001b[49m, value)}\n\u001b[0;32m      2\u001b[0m \u001b[38;5;28mprint\u001b[39m(d)\n",
      "\u001b[1;31mNameError\u001b[0m: name 'keys' is not defined"
     ]
    }
   ],
   "source": [
    "d = {k: v for k, v in zip(keys, value)}\n",
    "print(d)"
   ]
  },
  {
   "cell_type": "code",
   "execution_count": 93,
   "id": "6c9131f6-862e-4a86-8f90-5fc15ed885f7",
   "metadata": {},
   "outputs": [
    {
     "name": "stdout",
     "output_type": "stream",
     "text": [
      "[0, 1]\n"
     ]
    }
   ],
   "source": [
    "L = [x for x in range(3) if x < 2]\n",
    "print(L)"
   ]
  },
  {
   "cell_type": "code",
   "execution_count": 96,
   "id": "25f3cf22-b6ce-4225-a7e1-69da8028df8e",
   "metadata": {},
   "outputs": [
    {
     "name": "stdout",
     "output_type": "stream",
     "text": [
      "[0, 5, 10, 15, 20]\n",
      "[0, 5, 10, 15, 20]\n"
     ]
    }
   ],
   "source": [
    "d = []\n",
    "\n",
    "for i in range(5):\n",
    "    d.append(i*5)\n",
    "    \n",
    "print(d)\n",
    "\n",
    "dist = [i * 5 for i in range(5)]\n",
    "print(dist)"
   ]
  },
  {
   "cell_type": "code",
   "execution_count": 99,
   "id": "f07656c6-0a3c-4b39-b1fb-bc3e7cfc75da",
   "metadata": {},
   "outputs": [
    {
     "name": "stdout",
     "output_type": "stream",
     "text": [
      "[0, 2, 4]\n",
      "[0, 2, 4]\n"
     ]
    }
   ],
   "source": [
    "dist = []\n",
    "\n",
    "for i in range(5):\n",
    "    if i % 2 == 0:\n",
    "        dist.append(i)\n",
    "        \n",
    "print(dist)\n",
    "\n",
    "dist = [i for i in range(5) if i % 2 == 0]\n",
    "print(dist)"
   ]
  },
  {
   "cell_type": "code",
   "execution_count": 106,
   "id": "a6ade021-094a-44c2-8cc5-886e62b35092",
   "metadata": {},
   "outputs": [
    {
     "name": "stdout",
     "output_type": "stream",
     "text": [
      "[(0, 0), (0, 1), (0, 2), (1, 0), (1, 1), (1, 2)]\n",
      "[(0, 0), (0, 1), (0, 2), (1, 0), (1, 1), (1, 2)]\n"
     ]
    }
   ],
   "source": [
    "dist = []\n",
    "for x in range(2):\n",
    "    for y in range(3):\n",
    "        dist.append((x,y))\n",
    "        \n",
    "print(dist)\n",
    "\n",
    "dist = [(x, y) for x in range(2) for y in range(3)]\n",
    "print(dist)"
   ]
  },
  {
   "cell_type": "code",
   "execution_count": 113,
   "id": "cf733483-3eee-475f-a31b-2bb39ebf9799",
   "metadata": {},
   "outputs": [
    {
     "name": "stdout",
     "output_type": "stream",
     "text": [
      "[[], [0], [0, 1]]\n",
      "[[], [0], [0, 1]]\n"
     ]
    }
   ],
   "source": [
    "dist = []\n",
    "for x in range(3):\n",
    "    tmp_dist = []\n",
    "    for y in range(x):\n",
    "        tmp_dist.append(y)\n",
    "    dist.append(tmp_dist)\n",
    "print(dist)\n",
    "\n",
    "dist = [[j for j in range(i)] for i in range(3)]\n",
    "print(dist)"
   ]
  },
  {
   "cell_type": "code",
   "execution_count": 115,
   "id": "c9489ee2-89dc-4c16-bb7b-7d93120233fd",
   "metadata": {},
   "outputs": [
    {
     "name": "stdout",
     "output_type": "stream",
     "text": [
      "{'a': 0, 'b': 1, 'c': 2}\n",
      "{'a': 0, 'b': 1, 'c': 2}\n"
     ]
    }
   ],
   "source": [
    "dist = {}\n",
    "for k, v in zip(\"abc\", range(3)):\n",
    "    dist[k] = v\n",
    "print(dist)\n",
    "\n",
    "dist = {k : v for k, v in zip(\"abc\", range(3))}\n",
    "print(dist)"
   ]
  },
  {
   "cell_type": "code",
   "execution_count": 117,
   "id": "cb84d187-1a50-454b-add8-8a9beeefd572",
   "metadata": {},
   "outputs": [
    {
     "name": "stdout",
     "output_type": "stream",
     "text": [
      "{0, 1, 2}\n",
      "{0, 1, 2}\n"
     ]
    }
   ],
   "source": [
    "dist = set()\n",
    "for i in range(5):\n",
    "    dist.add(i % 3)\n",
    "print(dist)\n",
    "\n",
    "dist = {i % 3 for i in range(5)}\n",
    "print(dist)"
   ]
  },
  {
   "cell_type": "code",
   "execution_count": 119,
   "id": "2baac00e-3af2-4be6-89c3-f6fb272f40b5",
   "metadata": {},
   "outputs": [
    {
     "name": "stdout",
     "output_type": "stream",
     "text": [
      "[0, 1, 2, 3, 4, 5, 6, 7, 8, 9]\n",
      "[0, 1, 2, 3, 4, 5, 6, 7, 8, 9]\n"
     ]
    }
   ],
   "source": [
    "l = []\n",
    "for i in range(10):\n",
    "    l.append(i)\n",
    "    \n",
    "print(l)\n",
    "\n",
    "l = [i for i in range(10)]\n",
    "print(l)"
   ]
  },
  {
   "cell_type": "code",
   "execution_count": 121,
   "id": "c294cc91-2bb8-4a55-b079-053bb119d629",
   "metadata": {},
   "outputs": [
    {
     "name": "stdout",
     "output_type": "stream",
     "text": [
      "[0, 1, 4, 9, 16, 25, 36, 49, 64, 81]\n"
     ]
    }
   ],
   "source": [
    "l = [i * i for i in range(10)]\n",
    "print(l)"
   ]
  },
  {
   "cell_type": "code",
   "execution_count": 127,
   "id": "5978e806-879c-4ef3-b517-05abba897c0d",
   "metadata": {},
   "outputs": [
    {
     "name": "stdout",
     "output_type": "stream",
     "text": [
      "{0: 0, 1: 1, 2: 4, 3: 9, 4: 16, 5: 25, 6: 36, 7: 49, 8: 64, 9: 81}\n"
     ]
    }
   ],
   "source": [
    "l = {i : i * i for i in range(10)}\n",
    "print(l)"
   ]
  },
  {
   "cell_type": "code",
   "execution_count": 128,
   "id": "f535102a-4287-4b9a-a87f-a78844de15c4",
   "metadata": {},
   "outputs": [
    {
     "name": "stdout",
     "output_type": "stream",
     "text": [
      "{0: 0, 1: 1, 2: 4, 3: 9, 4: 16, 5: 25, 6: 36, 7: 49, 8: 64, 9: 81}\n"
     ]
    }
   ],
   "source": [
    "dict = {}\n",
    "\n",
    "for i in range(10):\n",
    "    dict[i] = i * i\n",
    "    \n",
    "print(dict)"
   ]
  },
  {
   "cell_type": "code",
   "execution_count": 130,
   "id": "b5c86628-1b4a-47ca-9545-8261a6806725",
   "metadata": {},
   "outputs": [
    {
     "name": "stdout",
     "output_type": "stream",
     "text": [
      "{0, 1, 64, 4, 36, 9, 16, 49, 81, 25}\n",
      "{0, 1, 64, 4, 36, 9, 16, 49, 81, 25}\n"
     ]
    }
   ],
   "source": [
    "comp_set = set()\n",
    "\n",
    "for i in range(10):\n",
    "    comp_set.add(i * i)\n",
    "    \n",
    "print(comp_set)\n",
    "\n",
    "comp_set = {i * i for i in range(10)}\n",
    "print(comp_set)"
   ]
  },
  {
   "cell_type": "code",
   "execution_count": 132,
   "id": "61686d25-143f-46cb-903c-386d0fc9e631",
   "metadata": {},
   "outputs": [
    {
     "name": "stdout",
     "output_type": "stream",
     "text": [
      "[1, 2, 3, 4, 5, 6, 7, 8, 9, 2, 4, 6, 8, 10, 12, 14, 16, 18, 3, 6, 9, 12, 15, 18, 21, 24, 27, 4, 8, 12, 16, 20, 24, 28, 32, 36, 5, 10, 15, 20, 25, 30, 35, 40, 45, 6, 12, 18, 24, 30, 36, 42, 48, 54, 7, 14, 21, 28, 35, 42, 49, 56, 63, 8, 16, 24, 32, 40, 48, 56, 64, 72, 9, 18, 27, 36, 45, 54, 63, 72, 81]\n"
     ]
    }
   ],
   "source": [
    "l = []\n",
    "\n",
    "for i in range(1, 10):\n",
    "    for ii in range(1, 10):\n",
    "        l.append(i * ii)\n",
    "        \n",
    "print(l)"
   ]
  },
  {
   "cell_type": "code",
   "execution_count": 133,
   "id": "37a40d75-3a8e-46e0-b328-5c94de09b7b6",
   "metadata": {},
   "outputs": [
    {
     "name": "stdout",
     "output_type": "stream",
     "text": [
      "[1, 2, 3, 4, 5, 6, 7, 8, 9, 2, 4, 6, 8, 10, 12, 14, 16, 18, 3, 6, 9, 12, 15, 18, 21, 24, 27, 4, 8, 12, 16, 20, 24, 28, 32, 36, 5, 10, 15, 20, 25, 30, 35, 40, 45, 6, 12, 18, 24, 30, 36, 42, 48, 54, 7, 14, 21, 28, 35, 42, 49, 56, 63, 8, 16, 24, 32, 40, 48, 56, 64, 72, 9, 18, 27, 36, 45, 54, 63, 72, 81]\n"
     ]
    }
   ],
   "source": [
    "l = [i * ii for i in range(1, 10) for ii in range(1, 10)]\n",
    "print(l)"
   ]
  },
  {
   "cell_type": "code",
   "execution_count": 135,
   "id": "d218f00e-79fc-4504-8f02-da4875b895f8",
   "metadata": {},
   "outputs": [
    {
     "name": "stdout",
     "output_type": "stream",
     "text": [
      "[0, 2, 4, 6, 8]\n",
      "[0, 2, 4, 6, 8]\n"
     ]
    }
   ],
   "source": [
    "l = []\n",
    "\n",
    "for i in range(10):\n",
    "    if i % 2 == 0:\n",
    "        l.append(i)\n",
    "        \n",
    "print(l)\n",
    "\n",
    "l = [i for i in range(10) if i % 2 == 0]\n",
    "print(l)"
   ]
  },
  {
   "cell_type": "code",
   "execution_count": 137,
   "id": "6c6d5f20-2047-462f-a69d-17a277fd3548",
   "metadata": {},
   "outputs": [
    {
     "name": "stdout",
     "output_type": "stream",
     "text": [
      "計算開始\n",
      "計算不可\n",
      "終了\n"
     ]
    },
    {
     "data": {
      "text/plain": [
       "0"
      ]
     },
     "execution_count": 137,
     "metadata": {},
     "output_type": "execute_result"
    }
   ],
   "source": [
    "def test(value1, value2):\n",
    "    print(\"計算開始\")\n",
    "    result = 0\n",
    "    \n",
    "    try:\n",
    "        result = value1 + value2\n",
    "    except:\n",
    "        print(\"計算不可\")\n",
    "    finally:\n",
    "        print(\"終了\")\n",
    "        \n",
    "    return result\n",
    "\n",
    "test(10, a)"
   ]
  },
  {
   "cell_type": "code",
   "execution_count": 138,
   "id": "48d66663-44f0-4292-81a4-dcf52c79de17",
   "metadata": {},
   "outputs": [
    {
     "name": "stdout",
     "output_type": "stream",
     "text": [
      "0では割れません\n"
     ]
    }
   ],
   "source": [
    "def divide(x, y):\n",
    "    if y == 0:\n",
    "        raise ValueError(\"0では割れません\")\n",
    "    return x / y\n",
    "\n",
    "try:\n",
    "    result = divide(10, 0)\n",
    "except ValueError as e:\n",
    "    print(e)"
   ]
  },
  {
   "cell_type": "code",
   "execution_count": 140,
   "id": "dd6e17b5-fdec-4d05-adbf-0da85672542d",
   "metadata": {},
   "outputs": [
    {
     "ename": "NameError",
     "evalue": "name 'exc' is not defined",
     "output_type": "error",
     "traceback": [
      "\u001b[1;31m---------------------------------------------------------------------------\u001b[0m",
      "\u001b[1;31mNameError\u001b[0m                                 Traceback (most recent call last)",
      "Cell \u001b[1;32mIn[140], line 1\u001b[0m\n\u001b[1;32m----> 1\u001b[0m \u001b[38;5;28;01mclass\u001b[39;00m \u001b[38;5;21;01mexc_class\u001b[39;00m(\u001b[43mexc\u001b[49m):\n\u001b[0;32m      2\u001b[0m     \u001b[38;5;28;01mpass\u001b[39;00m\n\u001b[0;32m      4\u001b[0m \u001b[38;5;28;01mdef\u001b[39;00m \u001b[38;5;21mdo_something\u001b[39m(date):\n",
      "\u001b[1;31mNameError\u001b[0m: name 'exc' is not defined"
     ]
    }
   ],
   "source": [
    "class exc_class(exc):\n",
    "    pass\n",
    "\n",
    "def do_something(date):\n",
    "    if date is None:\n",
    "        raise exc_class(\"データがNoneです。処理できません。\")\n",
    "        \n",
    "try:\n",
    "    do_something(None)\n",
    "except exc_class as e:\n",
    "    print(f\"エラーが発生しました。{e}\")\n",
    "    \n",
    "a = exc_class(a)"
   ]
  },
  {
   "cell_type": "code",
   "execution_count": 142,
   "id": "6b5f73a2-2f74-4def-b4e4-12224ed2702c",
   "metadata": {},
   "outputs": [
    {
     "ename": "ZeroDivisionError",
     "evalue": "division by zero",
     "output_type": "error",
     "traceback": [
      "\u001b[1;31m---------------------------------------------------------------------------\u001b[0m",
      "\u001b[1;31mZeroDivisionError\u001b[0m                         Traceback (most recent call last)",
      "Cell \u001b[1;32mIn[142], line 4\u001b[0m\n\u001b[0;32m      1\u001b[0m \u001b[38;5;28;01mdef\u001b[39;00m \u001b[38;5;21mdivide\u001b[39m(x, y):\n\u001b[0;32m      2\u001b[0m     \u001b[38;5;28;01mreturn\u001b[39;00m x \u001b[38;5;241m/\u001b[39m y\n\u001b[1;32m----> 4\u001b[0m \u001b[38;5;28mprint\u001b[39m(\u001b[43mdivide\u001b[49m\u001b[43m(\u001b[49m\u001b[38;5;241;43m1\u001b[39;49m\u001b[43m,\u001b[49m\u001b[43m \u001b[49m\u001b[38;5;241;43m0\u001b[39;49m\u001b[43m)\u001b[49m)\n",
      "Cell \u001b[1;32mIn[142], line 2\u001b[0m, in \u001b[0;36mdivide\u001b[1;34m(x, y)\u001b[0m\n\u001b[0;32m      1\u001b[0m \u001b[38;5;28;01mdef\u001b[39;00m \u001b[38;5;21mdivide\u001b[39m(x, y):\n\u001b[1;32m----> 2\u001b[0m     \u001b[38;5;28;01mreturn\u001b[39;00m \u001b[43mx\u001b[49m\u001b[43m \u001b[49m\u001b[38;5;241;43m/\u001b[39;49m\u001b[43m \u001b[49m\u001b[43my\u001b[49m\n",
      "\u001b[1;31mZeroDivisionError\u001b[0m: division by zero"
     ]
    }
   ],
   "source": [
    "def divide(x, y):\n",
    "    return x / y\n",
    "\n",
    "print(divide(1, 0))"
   ]
  },
  {
   "cell_type": "code",
   "execution_count": 157,
   "id": "005b5c91-4892-4434-9a95-191fd2131af4",
   "metadata": {},
   "outputs": [
    {
     "data": {
      "text/plain": [
       "'私は25歳です'"
      ]
     },
     "execution_count": 157,
     "metadata": {},
     "output_type": "execute_result"
    }
   ],
   "source": [
    "def age_test(age):\n",
    "    if age < 0:\n",
    "        raise ValueError(\"0以下は選択できません\")\n",
    "    return f\"私は{age}歳です\"\n",
    "        \n",
    "age_test(25)"
   ]
  },
  {
   "cell_type": "code",
   "execution_count": 151,
   "id": "4923054d-c5a8-4ae1-813e-36aefe9db35a",
   "metadata": {},
   "outputs": [
    {
     "ename": "ValueError",
     "evalue": "0では割り切れません",
     "output_type": "error",
     "traceback": [
      "\u001b[1;31m---------------------------------------------------------------------------\u001b[0m",
      "\u001b[1;31mZeroDivisionError\u001b[0m                         Traceback (most recent call last)",
      "Cell \u001b[1;32mIn[151], line 3\u001b[0m, in \u001b[0;36mdivide\u001b[1;34m(x, y)\u001b[0m\n\u001b[0;32m      2\u001b[0m \u001b[38;5;28;01mtry\u001b[39;00m:\n\u001b[1;32m----> 3\u001b[0m     result \u001b[38;5;241m=\u001b[39m \u001b[43mx\u001b[49m\u001b[43m \u001b[49m\u001b[38;5;241;43m/\u001b[39;49m\u001b[43m \u001b[49m\u001b[43my\u001b[49m\n\u001b[0;32m      4\u001b[0m \u001b[38;5;28;01mexcept\u001b[39;00m \u001b[38;5;167;01mZeroDivisionError\u001b[39;00m:\n",
      "\u001b[1;31mZeroDivisionError\u001b[0m: division by zero",
      "\nDuring handling of the above exception, another exception occurred:\n",
      "\u001b[1;31mValueError\u001b[0m                                Traceback (most recent call last)",
      "Cell \u001b[1;32mIn[151], line 9\u001b[0m\n\u001b[0;32m      5\u001b[0m         \u001b[38;5;28;01mraise\u001b[39;00m \u001b[38;5;167;01mValueError\u001b[39;00m(\u001b[38;5;124m\"\u001b[39m\u001b[38;5;124m0では割り切れません\u001b[39m\u001b[38;5;124m\"\u001b[39m)\n\u001b[0;32m      7\u001b[0m     \u001b[38;5;28;01mreturn\u001b[39;00m result\n\u001b[1;32m----> 9\u001b[0m \u001b[38;5;28mprint\u001b[39m(\u001b[43mdivide\u001b[49m\u001b[43m(\u001b[49m\u001b[38;5;241;43m1\u001b[39;49m\u001b[43m,\u001b[49m\u001b[43m \u001b[49m\u001b[38;5;241;43m0\u001b[39;49m\u001b[43m)\u001b[49m)\n",
      "Cell \u001b[1;32mIn[151], line 5\u001b[0m, in \u001b[0;36mdivide\u001b[1;34m(x, y)\u001b[0m\n\u001b[0;32m      3\u001b[0m     result \u001b[38;5;241m=\u001b[39m x \u001b[38;5;241m/\u001b[39m y\n\u001b[0;32m      4\u001b[0m \u001b[38;5;28;01mexcept\u001b[39;00m \u001b[38;5;167;01mZeroDivisionError\u001b[39;00m:\n\u001b[1;32m----> 5\u001b[0m     \u001b[38;5;28;01mraise\u001b[39;00m \u001b[38;5;167;01mValueError\u001b[39;00m(\u001b[38;5;124m\"\u001b[39m\u001b[38;5;124m0では割り切れません\u001b[39m\u001b[38;5;124m\"\u001b[39m)\n\u001b[0;32m      7\u001b[0m \u001b[38;5;28;01mreturn\u001b[39;00m result\n",
      "\u001b[1;31mValueError\u001b[0m: 0では割り切れません"
     ]
    }
   ],
   "source": [
    "def divide(x, y):\n",
    "    try:\n",
    "        result = x / y\n",
    "    except ZeroDivisionError:\n",
    "        raise ValueError(\"0では割り切れません\")\n",
    "        \n",
    "    return result\n",
    "\n",
    "print(divide(1, 0))"
   ]
  },
  {
   "cell_type": "code",
   "execution_count": 158,
   "id": "7cea31ea-1619-4345-8812-b023e11574d3",
   "metadata": {},
   "outputs": [
    {
     "name": "stdout",
     "output_type": "stream",
     "text": [
      "5.0\n"
     ]
    }
   ],
   "source": [
    "def square_root(x):\n",
    "    if x < 0:\n",
    "        raise ValueError(\"aaaaa\")\n",
    "    return x * 0.5\n",
    "\n",
    "print(square_root(10))"
   ]
  },
  {
   "cell_type": "code",
   "execution_count": 160,
   "id": "5fa5aed8-9043-4982-bb47-28dd0902aeb4",
   "metadata": {},
   "outputs": [
    {
     "name": "stdout",
     "output_type": "stream",
     "text": [
      "-0.5\n",
      "-1.0\n",
      "division by zero\n"
     ]
    }
   ],
   "source": [
    "try:\n",
    "    for i in [-2, -1, 0, 3]:\n",
    "        print(1 / i)\n",
    "except ZeroDivisionError as e:\n",
    "    print(e)"
   ]
  },
  {
   "cell_type": "code",
   "execution_count": 161,
   "id": "ae3c8a2e-8783-4837-82c0-8c8d7e1deb33",
   "metadata": {},
   "outputs": [
    {
     "ename": "NameError",
     "evalue": "name 'ZerodivisionError' is not defined",
     "output_type": "error",
     "traceback": [
      "\u001b[1;31m---------------------------------------------------------------------------\u001b[0m",
      "\u001b[1;31mZeroDivisionError\u001b[0m                         Traceback (most recent call last)",
      "Cell \u001b[1;32mIn[161], line 3\u001b[0m, in \u001b[0;36mdivide\u001b[1;34m(a, b)\u001b[0m\n\u001b[0;32m      2\u001b[0m \u001b[38;5;28;01mtry\u001b[39;00m:\n\u001b[1;32m----> 3\u001b[0m     \u001b[43ma\u001b[49m\u001b[43m \u001b[49m\u001b[38;5;241;43m/\u001b[39;49m\u001b[43m \u001b[49m\u001b[43mb\u001b[49m\n\u001b[0;32m      4\u001b[0m \u001b[38;5;28;01mexcept\u001b[39;00m ZerodivisionError \u001b[38;5;28;01mas\u001b[39;00m e:\n",
      "\u001b[1;31mZeroDivisionError\u001b[0m: division by zero",
      "\nDuring handling of the above exception, another exception occurred:\n",
      "\u001b[1;31mNameError\u001b[0m                                 Traceback (most recent call last)",
      "Cell \u001b[1;32mIn[161], line 7\u001b[0m\n\u001b[0;32m      4\u001b[0m     \u001b[38;5;28;01mexcept\u001b[39;00m ZerodivisionError \u001b[38;5;28;01mas\u001b[39;00m e:\n\u001b[0;32m      5\u001b[0m         \u001b[38;5;28mprint\u001b[39m(\u001b[38;5;124m\"\u001b[39m\u001b[38;5;124mcatch ZeroDivisionError:\u001b[39m\u001b[38;5;124m\"\u001b[39m, e)\n\u001b[1;32m----> 7\u001b[0m \u001b[43mdivide\u001b[49m\u001b[43m(\u001b[49m\u001b[38;5;241;43m1\u001b[39;49m\u001b[43m,\u001b[49m\u001b[43m \u001b[49m\u001b[38;5;241;43m0\u001b[39;49m\u001b[43m)\u001b[49m\n",
      "Cell \u001b[1;32mIn[161], line 4\u001b[0m, in \u001b[0;36mdivide\u001b[1;34m(a, b)\u001b[0m\n\u001b[0;32m      2\u001b[0m \u001b[38;5;28;01mtry\u001b[39;00m:\n\u001b[0;32m      3\u001b[0m     a \u001b[38;5;241m/\u001b[39m b\n\u001b[1;32m----> 4\u001b[0m \u001b[38;5;28;01mexcept\u001b[39;00m \u001b[43mZerodivisionError\u001b[49m \u001b[38;5;28;01mas\u001b[39;00m e:\n\u001b[0;32m      5\u001b[0m     \u001b[38;5;28mprint\u001b[39m(\u001b[38;5;124m\"\u001b[39m\u001b[38;5;124mcatch ZeroDivisionError:\u001b[39m\u001b[38;5;124m\"\u001b[39m, e)\n",
      "\u001b[1;31mNameError\u001b[0m: name 'ZerodivisionError' is not defined"
     ]
    }
   ],
   "source": [
    "def divide(a, b):\n",
    "    try:\n",
    "        a / b\n",
    "    except ZerodivisionError as e:\n",
    "        print(\"catch ZeroDivisionError:\", e)\n",
    "        \n",
    "divide(1, 0)"
   ]
  },
  {
   "cell_type": "code",
   "execution_count": 163,
   "id": "f24fa351-07c7-4dfa-afb6-1cdc84808d15",
   "metadata": {},
   "outputs": [
    {
     "name": "stdout",
     "output_type": "stream",
     "text": [
      "catch TypeError unsupported operand type(s) for /: 'int' and 'str'\n",
      "catch TypeError unsupported operand type(s) for /: 'str' and 'str'\n"
     ]
    }
   ],
   "source": [
    "def divide(a, b):\n",
    "    try:\n",
    "        print(a / b)\n",
    "    except ZeroDivisionError as e:\n",
    "        print(\"catch ZeroDivisionError:\", e)\n",
    "    except TypeError as e:\n",
    "        print(\"catch TypeError\", e)\n",
    "        \n",
    "divide(1, 0)\n",
    "divide(\"a\", \"b\")"
   ]
  },
  {
   "cell_type": "code",
   "execution_count": 166,
   "id": "91ba7a9d-9e86-46a7-82ae-49581f4f55c5",
   "metadata": {},
   "outputs": [
    {
     "name": "stdout",
     "output_type": "stream",
     "text": [
      "0.5\n",
      "finish (no error)\n",
      "catch ZeroDivisionError: division by zero\n"
     ]
    }
   ],
   "source": [
    "def divide(a, b):\n",
    "    try:\n",
    "        print(a / b)\n",
    "    except ZeroDivisionError as e:\n",
    "        print(\"catch ZeroDivisionError:\", e)\n",
    "    else:\n",
    "        print(\"finish (no error)\")\n",
    "        \n",
    "divide(1, 2)\n",
    "divide(1, 0)"
   ]
  },
  {
   "cell_type": "code",
   "execution_count": 167,
   "id": "47dcd5c7-b3b0-4c07-8817-410acd1ced13",
   "metadata": {},
   "outputs": [
    {
     "name": "stdout",
     "output_type": "stream",
     "text": [
      "こんにちは\n"
     ]
    }
   ],
   "source": [
    "def test():\n",
    "    print(\"こんにちは\")\n",
    "    \n",
    "test()"
   ]
  },
  {
   "cell_type": "code",
   "execution_count": 168,
   "id": "50cfec1f-e183-4007-a6e4-b54f979b8712",
   "metadata": {},
   "outputs": [
    {
     "name": "stdout",
     "output_type": "stream",
     "text": [
      "--start--\n",
      "Hello\n",
      "--end--\n"
     ]
    }
   ],
   "source": [
    "def deco(func):\n",
    "    def wrapper(*args, **kwargs):\n",
    "        print(\"--start--\")\n",
    "        func(*args, **kwargs)\n",
    "        print(\"--end--\")\n",
    "    return wrapper\n",
    "\n",
    "@deco\n",
    "def test():\n",
    "    print(\"Hello\")\n",
    "    \n",
    "test()"
   ]
  },
  {
   "cell_type": "code",
   "execution_count": 172,
   "id": "72755733-e813-4bc1-b61d-ecd73a77ed1c",
   "metadata": {},
   "outputs": [
    {
     "data": {
      "text/plain": [
       "'--start--\\r\\nHello!\\r\\n--end--'"
      ]
     },
     "execution_count": 172,
     "metadata": {},
     "output_type": "execute_result"
    }
   ],
   "source": [
    "def deco(func):\n",
    "    import os\n",
    "    def wrapper(*args, **kwargs):\n",
    "        res = \"--start--\" + os.linesep\n",
    "        res += func(*args, **kwargs) + \"!\" + os.linesep\n",
    "        res += \"--end--\"\n",
    "        return res\n",
    "    return wrapper\n",
    "\n",
    "@deco\n",
    "def test():\n",
    "    return \"Hello\"\n",
    "\n",
    "test()"
   ]
  },
  {
   "cell_type": "code",
   "execution_count": 176,
   "id": "45897785-0a4d-4b98-92cc-6747ab708533",
   "metadata": {},
   "outputs": [
    {
     "name": "stdout",
     "output_type": "stream",
     "text": [
      "start\n",
      "my_func実行中\n",
      "end\n",
      "55\n"
     ]
    }
   ],
   "source": [
    "def deco_func(f):\n",
    "    def new_func():\n",
    "        print(\"start\")\n",
    "        val = f()\n",
    "        print(\"end\")\n",
    "        return val\n",
    "    return new_func\n",
    "\n",
    "def my_func():\n",
    "    ret = 0\n",
    "    for i in range(1, 11):\n",
    "        ret += i\n",
    "    print(\"my_func実行中\")\n",
    "    return ret\n",
    "\n",
    "f = deco_func(my_func)\n",
    "x = f()\n",
    "print(x)\n"
   ]
  },
  {
   "cell_type": "code",
   "execution_count": 1,
   "id": "2854b5e0-fb7b-4d02-8edc-03fc83fd5ef4",
   "metadata": {},
   "outputs": [
    {
     "ename": "TypeError",
     "evalue": "'NoneType' object is not callable",
     "output_type": "error",
     "traceback": [
      "\u001b[1;31m---------------------------------------------------------------------------\u001b[0m",
      "\u001b[1;31mTypeError\u001b[0m                                 Traceback (most recent call last)",
      "Cell \u001b[1;32mIn[1], line 16\u001b[0m\n\u001b[0;32m     13\u001b[0m         \u001b[38;5;28mprint\u001b[39m(\u001b[38;5;124m\"\u001b[39m\u001b[38;5;124mmy_func実行中\u001b[39m\u001b[38;5;124m\"\u001b[39m)\n\u001b[0;32m     14\u001b[0m         \u001b[38;5;28;01mreturn\u001b[39;00m ret\n\u001b[1;32m---> 16\u001b[0m x \u001b[38;5;241m=\u001b[39m \u001b[43mmy_func\u001b[49m\u001b[43m(\u001b[49m\u001b[43m)\u001b[49m\n\u001b[0;32m     17\u001b[0m \u001b[38;5;28mprint\u001b[39m(x)\n",
      "\u001b[1;31mTypeError\u001b[0m: 'NoneType' object is not callable"
     ]
    }
   ],
   "source": [
    "def deco_func(f):\n",
    "    def new_func():\n",
    "        print(\"開始\")\n",
    "        f()\n",
    "        print(\"終了\")\n",
    "        return new_func\n",
    "\n",
    "@deco_func\n",
    "def my_func():\n",
    "    ret = 0\n",
    "    for i in range(1, 11):\n",
    "        ret += i\n",
    "        print(\"my_func実行中\")\n",
    "        return ret\n",
    "    \n",
    "x = my_func()\n",
    "print(x)"
   ]
  }
 ],
 "metadata": {
  "kernelspec": {
   "display_name": "Python 3 (ipykernel)",
   "language": "python",
   "name": "python3"
  },
  "language_info": {
   "codemirror_mode": {
    "name": "ipython",
    "version": 3
   },
   "file_extension": ".py",
   "mimetype": "text/x-python",
   "name": "python",
   "nbconvert_exporter": "python",
   "pygments_lexer": "ipython3",
   "version": "3.10.9"
  }
 },
 "nbformat": 4,
 "nbformat_minor": 5
}
