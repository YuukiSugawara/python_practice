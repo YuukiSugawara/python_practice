{
 "cells": [
  {
   "cell_type": "code",
   "execution_count": 16,
   "id": "4103635f-2e69-4a15-b8a9-ef8de67dcb6b",
   "metadata": {},
   "outputs": [
    {
     "name": "stdout",
     "output_type": "stream",
     "text": [
      "1\n",
      "\n",
      "5\n",
      "\n",
      "5\n",
      "\n"
     ]
    }
   ],
   "source": [
    "from pathlib import Path\n",
    "\n",
    "date_path = \"./\"\n",
    "\n",
    "txt_file = Path(date_path).glob(\"*.txt\")\n",
    "for file in txt_file:\n",
    "    with open(file) as f:\n",
    "        numbers = f.readline()\n",
    "    print(numbers)"
   ]
  },
  {
   "cell_type": "code",
   "execution_count": 18,
   "id": "a507596b-88ff-40c2-8c9d-929e7f292d2d",
   "metadata": {},
   "outputs": [
    {
     "name": "stdout",
     "output_type": "stream",
     "text": [
      "[0, 1, 2, 3, 4, 5]\n"
     ]
    }
   ],
   "source": [
    "x = []\n",
    "\n",
    "for i in range(0, 6):\n",
    "    x.append(i)\n",
    "    \n",
    "print(x)\n",
    "\n"
   ]
  },
  {
   "cell_type": "code",
   "execution_count": 19,
   "id": "9f7560ff-45e2-4b4d-9ae3-3b38bf20470b",
   "metadata": {},
   "outputs": [
    {
     "name": "stdout",
     "output_type": "stream",
     "text": [
      "['田中さん', '斎藤さん', '佐藤さん']\n"
     ]
    }
   ],
   "source": [
    "names = [\"田中\", \"斎藤\", \"佐藤\"]\n",
    "x = [i + \"さん\" for i in names]\n",
    "\n",
    "print(x)"
   ]
  },
  {
   "cell_type": "code",
   "execution_count": 21,
   "id": "169e88ec-20b9-4e76-adae-8ed931d33228",
   "metadata": {},
   "outputs": [
    {
     "name": "stdout",
     "output_type": "stream",
     "text": [
      "[1, 3, 5, 7, 9]\n"
     ]
    }
   ],
   "source": [
    "x = [i for i in range(0, 10) if i % 2 != 0]\n",
    "print(x)"
   ]
  },
  {
   "cell_type": "code",
   "execution_count": 22,
   "id": "a43c8d74-033d-4929-9aaa-8deb2b1dfdab",
   "metadata": {},
   "outputs": [
    {
     "name": "stdout",
     "output_type": "stream",
     "text": [
      "['apple', 'banana']\n"
     ]
    }
   ],
   "source": [
    "foods = [\"apple\", \"banana\", \"lemon\"]\n",
    "x = [i for i in foods if \"a\" in i]\n",
    "print(x)"
   ]
  },
  {
   "cell_type": "code",
   "execution_count": 32,
   "id": "2cd02cea-4ad8-41e3-91d1-e94836390d4c",
   "metadata": {},
   "outputs": [
    {
     "name": "stdout",
     "output_type": "stream",
     "text": [
      "田中さんの3教科の平均点は60.0です。\n",
      "佐藤さんの3教科の平均点は76.66666666666667です。\n"
     ]
    }
   ],
   "source": [
    "class SchoolReport:\n",
    "    def __init__(self, st_name, math_score, jp_score, en_score):\n",
    "        self.st_name = st_name\n",
    "        self.math_score = math_score\n",
    "        self.jp_score = jp_score\n",
    "        self.en_score = en_score\n",
    "        \n",
    "    def calc_avg_score(self):\n",
    "        sum_score = (self.math_score + self.jp_score + self.en_score)\n",
    "        avg_score = sum_score / 3\n",
    "        return avg_score\n",
    "    \n",
    "sr_a = SchoolReport(\"田中\", 50, 30, 100)\n",
    "avg_a = sr_a.calc_avg_score()\n",
    "print(f\"田中さんの3教科の平均点は{avg_a}です。\")\n",
    "\n",
    "sr_b = SchoolReport(\"佐藤\", 100, 50, 80)\n",
    "avg_b = sr_b.calc_avg_score()\n",
    "print(f\"佐藤さんの3教科の平均点は{avg_b}です。\")"
   ]
  },
  {
   "cell_type": "code",
   "execution_count": 50,
   "id": "2e5280c5-1cf0-46e6-a114-c7448309e7fb",
   "metadata": {},
   "outputs": [
    {
     "name": "stdout",
     "output_type": "stream",
     "text": [
      "田中さんのBMI値は24.444444444444443です。\n"
     ]
    }
   ],
   "source": [
    "class BodyCondition:\n",
    "    def __init__(self, name, weight, height):\n",
    "        self.name = name\n",
    "        self.weight = weight\n",
    "        self.height = height\n",
    "        \n",
    "    def bmi_value(self):\n",
    "        m_height = self.height / 100\n",
    "        bmi = self.weight / (m_height)**2\n",
    "        print(f\"{self.name}さんのBMI値は{bmi}です。\")\n",
    "    \n",
    "st_name = BodyCondition(\"田中\", 55, 150)\n",
    "bmi_a = st_name.bmi_value()"
   ]
  },
  {
   "cell_type": "code",
   "execution_count": 59,
   "id": "cf75e560-a277-4b5b-a560-13116f18d9e7",
   "metadata": {},
   "outputs": [
    {
     "name": "stdout",
     "output_type": "stream",
     "text": [
      "剣で攻撃する\n",
      "呪文を唱える\n"
     ]
    }
   ],
   "source": [
    "class WizardClass:\n",
    "    def cast_spell(self):\n",
    "        print(\"呪文を唱える\")\n",
    "        \n",
    "class SwordClass:\n",
    "    def attack_sword(self):\n",
    "        print(\"剣で攻撃する\")\n",
    "        \n",
    "class MagicSwordClass(WizardClass, SwordClass):\n",
    "    pass\n",
    "\n",
    "human = MagicSwordClass()\n",
    "human.attack_sword()\n",
    "human.cast_spell()"
   ]
  },
  {
   "cell_type": "code",
   "execution_count": 82,
   "id": "4e0521a4-b476-4238-83c3-a66926def912",
   "metadata": {},
   "outputs": [
    {
     "name": "stdin",
     "output_type": "stream",
     "text": [
      "あなたの名前を入力してください。 田中美雪\n"
     ]
    },
    {
     "name": "stdout",
     "output_type": "stream",
     "text": [
      "こんにちは、菅原さん。私は田中美雪です。\n"
     ]
    }
   ],
   "source": [
    "class Person:\n",
    "    def __init__(self, name, nationality, age):\n",
    "        self.name = name\n",
    "        self.nationality = nationality\n",
    "        self.age = age\n",
    "        \n",
    "    def say_hello(self):\n",
    "        my_name = input(\"あなたの名前を入力してください。\")\n",
    "        print(f\"こんにちは、{self.name}さん。私は{my_name}です。\")\n",
    "        \n",
    "human = Person(\"菅原\", \"日本\", 36)\n",
    "human.say_hello()"
   ]
  },
  {
   "cell_type": "code",
   "execution_count": 93,
   "id": "3f942512-a2d0-4cfb-a997-22e25d8c5df4",
   "metadata": {},
   "outputs": [
    {
     "name": "stdout",
     "output_type": "stream",
     "text": [
      "-18.2%\n",
      "40.0%\n",
      "22.6%\n"
     ]
    }
   ],
   "source": [
    "sales_2020 = [400239, 560213, 542490]\n",
    "sales_2019 = [489028, 400123, 442489]\n",
    "\n",
    "for c, p in zip(sales_2020, sales_2019):\n",
    "    result = (c/p-1)*100\n",
    "    print(f\"{result:.1f}%\")\n",
    "    "
   ]
  },
  {
   "cell_type": "code",
   "execution_count": 94,
   "id": "69359647-213e-460a-b5a7-58ba5ab1f877",
   "metadata": {},
   "outputs": [
    {
     "name": "stdout",
     "output_type": "stream",
     "text": [
      "1位:鈴木\n",
      "2位:斎藤\n",
      "3位:大川\n"
     ]
    }
   ],
   "source": [
    "names = [\"鈴木\", \"斎藤\", \"大川\"]\n",
    "\n",
    "for i, x in enumerate(names, start=1):\n",
    "    print(f\"{i}位:{x}\")"
   ]
  },
  {
   "cell_type": "code",
   "execution_count": 96,
   "id": "377db909-cee6-45cf-a036-74f999a33e73",
   "metadata": {},
   "outputs": [
    {
     "name": "stdout",
     "output_type": "stream",
     "text": [
      "11.1%\n",
      "25.0%\n",
      "-20.0%\n"
     ]
    }
   ],
   "source": [
    "sales_2020 = [1000, 1500, 1200]\n",
    "sales_2019 = [900, 1200, 1500]\n",
    "\n",
    "for c, p in zip(sales_2020, sales_2019):\n",
    "    result = (c/p-1)*100\n",
    "    print(f\"{result:.1f}%\")"
   ]
  },
  {
   "cell_type": "code",
   "execution_count": 100,
   "id": "47a49330-95a8-42e4-aaff-0f561b47bed7",
   "metadata": {},
   "outputs": [
    {
     "name": "stdout",
     "output_type": "stream",
     "text": [
      "1位:田中\n",
      "2位:佐藤\n",
      "3位:鈴木\n"
     ]
    }
   ],
   "source": [
    "names = [\"田中\", \"佐藤\", \"鈴木\"]\n",
    "\n",
    "for i, x in enumerate(names, start=1):\n",
    "    print(f\"{i}位:{x}\")"
   ]
  },
  {
   "cell_type": "code",
   "execution_count": 104,
   "id": "0761c20e-8b8d-4314-a109-add571aa870e",
   "metadata": {},
   "outputs": [
    {
     "name": "stdout",
     "output_type": "stream",
     "text": [
      "11.1%\n",
      "-16.7%\n",
      "-13.3%\n"
     ]
    }
   ],
   "source": [
    "sales_2020 = [1000, 1500, 1300]\n",
    "sales_2019 = [900, 1800, 1500]\n",
    "\n",
    "for c, p in zip(sales_2020, sales_2019):\n",
    "    result = (c/p-1)*100\n",
    "    print(f\"{result:.1f}%\")"
   ]
  },
  {
   "cell_type": "code",
   "execution_count": 106,
   "id": "64999487-01cc-4182-b7f2-d0e04d3c9334",
   "metadata": {},
   "outputs": [
    {
     "name": "stdout",
     "output_type": "stream",
     "text": [
      "1位:田中さん\n",
      "2位:佐藤さん\n",
      "3位:鈴木さん\n"
     ]
    }
   ],
   "source": [
    "names = [\"田中\", \"佐藤\", \"鈴木\"]\n",
    "\n",
    "for i, x in enumerate(names, start=1):\n",
    "    print(f\"{i}位:{x}さん\")"
   ]
  },
  {
   "cell_type": "code",
   "execution_count": 107,
   "id": "7f1375e9-a297-41d5-8916-786993203235",
   "metadata": {},
   "outputs": [
    {
     "name": "stdout",
     "output_type": "stream",
     "text": [
      "バナナ\n"
     ]
    }
   ],
   "source": [
    "def print_banana():\n",
    "    print(\"バナナ\")\n",
    "    \n",
    "print_banana()"
   ]
  },
  {
   "cell_type": "code",
   "execution_count": 108,
   "id": "fb21b863-d1cc-433d-a5c5-504519fa71f4",
   "metadata": {},
   "outputs": [
    {
     "name": "stdout",
     "output_type": "stream",
     "text": [
      "sugawara\n"
     ]
    }
   ],
   "source": [
    "def print_text(text):\n",
    "    print(text)\n",
    "    \n",
    "print_text(\"sugawara\")"
   ]
  },
  {
   "cell_type": "code",
   "execution_count": 109,
   "id": "ff03b5da-ee45-4de2-b8b3-e5ea981ffc06",
   "metadata": {},
   "outputs": [
    {
     "name": "stdout",
     "output_type": "stream",
     "text": [
      "菅原?\n"
     ]
    }
   ],
   "source": [
    "def question_text(text):\n",
    "    q_text = text + \"?\"\n",
    "    return q_text\n",
    "\n",
    "result = question_text(\"菅原\")\n",
    "print(result)"
   ]
  },
  {
   "cell_type": "code",
   "execution_count": 110,
   "id": "1a09fdf3-17d1-4fc3-b032-50d969d5d9d8",
   "metadata": {},
   "outputs": [
    {
     "name": "stdout",
     "output_type": "stream",
     "text": [
      "あなたは菅原さんです。\n",
      "あなたはゆうき君です。\n"
     ]
    }
   ],
   "source": [
    "def san_kun_text(text1, text2):\n",
    "    return_san = text1 + \"さん\"\n",
    "    return_kun = text2 + \"君\"\n",
    "    return return_san, return_kun\n",
    "\n",
    "r1, r2 = san_kun_text(\"菅原\", \"ゆうき\")\n",
    "print(f\"あなたは{r1}です。\")\n",
    "print(f\"あなたは{r2}です。\")"
   ]
  },
  {
   "cell_type": "code",
   "execution_count": 118,
   "id": "00ac2a40-25ba-4371-ba83-65c61faa56be",
   "metadata": {},
   "outputs": [
    {
     "name": "stdout",
     "output_type": "stream",
     "text": [
      "0.12\n"
     ]
    }
   ],
   "source": [
    "x = 0.123456\n",
    "print(f\"{x:.2f}\")"
   ]
  },
  {
   "cell_type": "code",
   "execution_count": 119,
   "id": "acef38b1-be52-4580-aa3c-661c1e4cef5b",
   "metadata": {},
   "outputs": [
    {
     "name": "stdout",
     "output_type": "stream",
     "text": [
      "合計は15000です。\n"
     ]
    }
   ],
   "source": [
    "x = 100\n",
    "y = 150\n",
    "\n",
    "result = f\"合計は{x * y}です。\"\n",
    "print(result)"
   ]
  },
  {
   "cell_type": "code",
   "execution_count": 120,
   "id": "1438a988-41c7-4b61-a69d-edcb546208ec",
   "metadata": {},
   "outputs": [
    {
     "name": "stdout",
     "output_type": "stream",
     "text": [
      "No:00123\n"
     ]
    }
   ],
   "source": [
    "x = 123\n",
    "result = f\"No:{x:05}\"\n",
    "print(result)"
   ]
  },
  {
   "cell_type": "code",
   "execution_count": 128,
   "id": "15a2e29f-630c-4a99-b423-6e47f87d0de4",
   "metadata": {},
   "outputs": [
    {
     "name": "stdout",
     "output_type": "stream",
     "text": [
      "10.0\n",
      "正常に終了しました。\n"
     ]
    }
   ],
   "source": [
    "x = 10\n",
    "y = 1\n",
    "\n",
    "try:\n",
    "    result = x / y\n",
    "except ZeroDivisionError as e:\n",
    "    print(\"ゼロでは割れません。\")\n",
    "    print(e)\n",
    "except NameError as e:\n",
    "    print(\"変数が定義されていません。\")\n",
    "    print(e)\n",
    "else:\n",
    "    print(result)\n",
    "    print(\"正常に終了しました。\")"
   ]
  },
  {
   "cell_type": "code",
   "execution_count": 132,
   "id": "a30c9ad9-619a-49da-a035-db4e858f3ec6",
   "metadata": {},
   "outputs": [
    {
     "name": "stdout",
     "output_type": "stream",
     "text": [
      "450\n"
     ]
    }
   ],
   "source": [
    "def total_price_1item(unit:int, quantity:int = 1) -> int:\n",
    "    total_price = unit * quantity\n",
    "    return total_price\n",
    "\n",
    "result = total_price_1item(150, 3)\n",
    "print(result)"
   ]
  },
  {
   "cell_type": "code",
   "execution_count": 136,
   "id": "0a01135d-556d-41cd-bada-74e268e27a3c",
   "metadata": {},
   "outputs": [
    {
     "name": "stdout",
     "output_type": "stream",
     "text": [
      "2023-08-23\n",
      "2\n"
     ]
    }
   ],
   "source": [
    "from datetime import date\n",
    "d = date(2023, 8, 23)\n",
    "print(d)\n",
    "print(d.weekday())"
   ]
  },
  {
   "cell_type": "code",
   "execution_count": 146,
   "id": "861308fe-b786-44bf-8cad-e03b5ab2dbf7",
   "metadata": {},
   "outputs": [
    {
     "name": "stdout",
     "output_type": "stream",
     "text": [
      "2021-05-01 00:00:00\n"
     ]
    }
   ],
   "source": [
    "from datetime import datetime\n",
    "from datetime import timedelta, datetime\n",
    "\n",
    "d = datetime(2021, 5, 2)\n",
    "result = d - timedelta(days=1)\n",
    "\n",
    "print(result)"
   ]
  },
  {
   "cell_type": "code",
   "execution_count": 153,
   "id": "c86054aa-630a-4490-8594-8d05dc4f3634",
   "metadata": {},
   "outputs": [
    {
     "name": "stdout",
     "output_type": "stream",
     "text": [
      "[(datetime.date(2023, 1, 1), '元日'), (datetime.date(2023, 1, 2), '元日 振替休日'), (datetime.date(2023, 1, 9), '成人の日'), (datetime.date(2023, 2, 11), '建国記念の日'), (datetime.date(2023, 2, 23), '天皇誕生日'), (datetime.date(2023, 3, 21), '春分の日'), (datetime.date(2023, 4, 29), '昭和の日'), (datetime.date(2023, 5, 3), '憲法記念日'), (datetime.date(2023, 5, 4), 'みどりの日'), (datetime.date(2023, 5, 5), 'こどもの日'), (datetime.date(2023, 7, 17), '海の日'), (datetime.date(2023, 8, 11), '山の日'), (datetime.date(2023, 9, 18), '敬老の日'), (datetime.date(2023, 9, 23), '秋分の日'), (datetime.date(2023, 10, 9), 'スポーツの日'), (datetime.date(2023, 11, 3), '文化の日'), (datetime.date(2023, 11, 23), '勤労感謝の日')]\n"
     ]
    }
   ],
   "source": [
    "import jpholiday\n",
    "from datetime import datetime\n",
    "\n",
    "result = jpholiday.year_holidays(2023)\n",
    "print(result)"
   ]
  },
  {
   "cell_type": "code",
   "execution_count": 167,
   "id": "c474f37d-c2a6-40c5-9077-ce9dd618517a",
   "metadata": {},
   "outputs": [
    {
     "name": "stdout",
     "output_type": "stream",
     "text": [
      "-25.0\n",
      "-20.0\n",
      "0.0\n"
     ]
    }
   ],
   "source": [
    "sales_2020 = [1500, 1200, 1000]\n",
    "sales_2019 = [2000, 1500, 1000]\n",
    "\n",
    "for c, p in zip(sales_2020, sales_2019):\n",
    "    total = (c/p-1)*100\n",
    "    print(f\"{total:.1f}\")"
   ]
  },
  {
   "cell_type": "code",
   "execution_count": 172,
   "id": "cd84829e-ff5d-4b72-a74a-39d312b1221b",
   "metadata": {},
   "outputs": [
    {
     "name": "stdout",
     "output_type": "stream",
     "text": [
      "1位:田中さん\n",
      "2位:鈴木さん\n",
      "3位:佐藤さん\n"
     ]
    }
   ],
   "source": [
    "names = [\"田中\", \"鈴木\", \"佐藤\"]\n",
    "\n",
    "for i, x in enumerate(names, start=1):\n",
    "    print(f\"{i}位:{x}さん\")"
   ]
  },
  {
   "cell_type": "code",
   "execution_count": 176,
   "id": "356a102b-65bc-4d9c-8bb7-1b36516ea3a7",
   "metadata": {},
   "outputs": [
    {
     "name": "stdout",
     "output_type": "stream",
     "text": [
      "{11, 333, 222}\n",
      "{555, 11, 444, 333}\n",
      "{555, 11, 444, 333, 222}\n"
     ]
    }
   ],
   "source": [
    "x_set = {11, 222, 333}\n",
    "\n",
    "y_list = [11, 333, 444, 555, 11]\n",
    "y_set = set(y_list)\n",
    "\n",
    "print(x_set)\n",
    "print(y_set)\n",
    "\n",
    "result = x_set | y_set\n",
    "print(result)"
   ]
  },
  {
   "cell_type": "code",
   "execution_count": 187,
   "id": "f2e0a4a8-cba2-4794-a6bd-0b7b2c2d2db8",
   "metadata": {},
   "outputs": [
    {
     "name": "stdout",
     "output_type": "stream",
     "text": [
      "[1, 2, 3]\n",
      "['key1', 'key2', 'key3']\n",
      "[('key1', 1), ('key2', 2), ('key3', 3)]\n"
     ]
    }
   ],
   "source": [
    "d = {\"key1\":1, \"key2\":2, \"key3\":3}\n",
    "print(list(d.values()))\n",
    "print(list(d.keys()))\n",
    "print(list(d.items()))"
   ]
  },
  {
   "cell_type": "code",
   "execution_count": 188,
   "id": "b169e7a2-9a0e-458b-a3c2-7e93945e467a",
   "metadata": {},
   "outputs": [
    {
     "name": "stdout",
     "output_type": "stream",
     "text": [
      "2023-08-24\n"
     ]
    }
   ],
   "source": [
    "from datetime import date\n",
    "t = date.today()\n",
    "print(t)"
   ]
  },
  {
   "cell_type": "code",
   "execution_count": 192,
   "id": "fdf97866-e1e8-4d8f-92d9-73e979635aae",
   "metadata": {},
   "outputs": [
    {
     "name": "stdout",
     "output_type": "stream",
     "text": [
      "2023 8 24\n"
     ]
    }
   ],
   "source": [
    "from datetime import datetime\n",
    "n = datetime.now()\n",
    "print(n.year, n.month, n.day)"
   ]
  },
  {
   "cell_type": "code",
   "execution_count": 195,
   "id": "d6e04acd-0b15-406a-93c6-a1b6d07631db",
   "metadata": {},
   "outputs": [
    {
     "name": "stdout",
     "output_type": "stream",
     "text": [
      "私は菅原です。北海道出身です。\n"
     ]
    },
    {
     "data": {
      "text/plain": [
       "'私は菅原です。北海道出身です。'"
      ]
     },
     "execution_count": 195,
     "metadata": {},
     "output_type": "execute_result"
    }
   ],
   "source": [
    "name = \"菅原\"\n",
    "birthplace = \"北海道\"\n",
    "\n",
    "print(f\"私は{name}です。{birthplace}出身です。\")\n",
    "\"私は{}です。{}出身です。\".format(name, birthplace)"
   ]
  },
  {
   "cell_type": "code",
   "execution_count": 198,
   "id": "fc6c9dba-a294-460a-8492-4fb2fab1a240",
   "metadata": {},
   "outputs": [
    {
     "name": "stdout",
     "output_type": "stream",
     "text": [
      "菅原です。\n",
      "36歳です。\n"
     ]
    }
   ],
   "source": [
    "print(\"菅原です。\\n36歳です。\")"
   ]
  },
  {
   "cell_type": "code",
   "execution_count": 201,
   "id": "1143fbd8-dd81-4165-9bba-80572fc9be55",
   "metadata": {},
   "outputs": [
    {
     "data": {
      "text/plain": [
       "'world'"
      ]
     },
     "execution_count": 201,
     "metadata": {},
     "output_type": "execute_result"
    }
   ],
   "source": [
    "\"hello\".upper()\n",
    "\"WORLD\".lower()"
   ]
  },
  {
   "cell_type": "code",
   "execution_count": 208,
   "id": "4696aa14-0c03-45e2-97ed-713e1cc6c892",
   "metadata": {},
   "outputs": [
    {
     "data": {
      "text/plain": [
       "'こんにちは、わたしはAIです。'"
      ]
     },
     "execution_count": 208,
     "metadata": {},
     "output_type": "execute_result"
    }
   ],
   "source": [
    "message = \"こんにちは、\\nわたしはAIです。\"\n",
    "messages = message.split(\"\\n\")\n",
    "\"\".join(messages)"
   ]
  },
  {
   "cell_type": "code",
   "execution_count": 210,
   "id": "cdb9e898-191b-4dab-819e-8a1d507afd48",
   "metadata": {},
   "outputs": [
    {
     "data": {
      "text/plain": [
       "'今日は雨ですね'"
      ]
     },
     "execution_count": 210,
     "metadata": {},
     "output_type": "execute_result"
    }
   ],
   "source": [
    "message = \"今日は晴れですね\"\n",
    "message.replace(\"晴れ\", \"雨\")"
   ]
  },
  {
   "cell_type": "code",
   "execution_count": 212,
   "id": "332834db-087c-4aa7-8595-12deb2a86bc2",
   "metadata": {},
   "outputs": [
    {
     "data": {
      "text/plain": [
       "6"
      ]
     },
     "execution_count": 212,
     "metadata": {},
     "output_type": "execute_result"
    }
   ],
   "source": [
    "message = \"今日はとても夜空が綺麗だ\"\n",
    "message.find(\"夜空\")"
   ]
  },
  {
   "cell_type": "code",
   "execution_count": 1,
   "id": "90cf626d-2ab6-4f1f-a742-f5797c1bd8d6",
   "metadata": {},
   "outputs": [
    {
     "name": "stdout",
     "output_type": "stream",
     "text": [
      "0は偶数です\n",
      "3は奇数です\n",
      "8は偶数です\n",
      "-4は偶数です\n",
      "9は奇数です\n",
      "1は奇数です\n",
      "[0, 8, -4]\n"
     ]
    }
   ],
   "source": [
    "numbers = [0, 3, 8, -4, 9, 1]\n",
    "\n",
    "def isEven(number):\n",
    "    if number % 2 == 0:\n",
    "        print(f\"{number}は偶数です\")\n",
    "        return True\n",
    "    else:\n",
    "        print(f\"{number}は奇数です\")\n",
    "        return False\n",
    "    \n",
    "print(list(filter(isEven, numbers)))"
   ]
  }
 ],
 "metadata": {
  "kernelspec": {
   "display_name": "Python 3 (ipykernel)",
   "language": "python",
   "name": "python3"
  },
  "language_info": {
   "codemirror_mode": {
    "name": "ipython",
    "version": 3
   },
   "file_extension": ".py",
   "mimetype": "text/x-python",
   "name": "python",
   "nbconvert_exporter": "python",
   "pygments_lexer": "ipython3",
   "version": "3.10.9"
  }
 },
 "nbformat": 4,
 "nbformat_minor": 5
}
